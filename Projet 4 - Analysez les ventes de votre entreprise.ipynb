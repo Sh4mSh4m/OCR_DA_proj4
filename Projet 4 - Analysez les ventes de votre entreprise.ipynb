{
 "cells": [
  {
   "cell_type": "code",
   "execution_count": 1,
   "metadata": {},
   "outputs": [],
   "source": [
    "import pandas as pd\n",
    "import numpy as np\n",
    "import re\n",
    "import matplotlib.pyplot as plt\n",
    "import math\n",
    "\n",
    "def print_float(number):\n",
    "     return \"%.2f\" % number"
   ]
  },
  {
   "cell_type": "markdown",
   "metadata": {},
   "source": [
    "-----------"
   ]
  },
  {
   "cell_type": "markdown",
   "metadata": {},
   "source": [
    "# Mission 1 - Data discovery and cleaning\n",
    "\n",
    "The purpose of this first part is to discover the data we were handled and clean them"
   ]
  },
  {
   "cell_type": "markdown",
   "metadata": {},
   "source": [
    "## Tables loading and primary key identification"
   ]
  },
  {
   "cell_type": "code",
   "execution_count": 2,
   "metadata": {},
   "outputs": [
    {
     "data": {
      "text/plain": [
       "(8623, 3)"
      ]
     },
     "execution_count": 2,
     "metadata": {},
     "output_type": "execute_result"
    }
   ],
   "source": [
    "# We get global knowledge from the table\n",
    "customers = pd.read_csv('customers.csv')\n",
    "customers.shape"
   ]
  },
  {
   "cell_type": "code",
   "execution_count": 3,
   "metadata": {},
   "outputs": [
    {
     "data": {
      "text/html": [
       "<div>\n",
       "<style scoped>\n",
       "    .dataframe tbody tr th:only-of-type {\n",
       "        vertical-align: middle;\n",
       "    }\n",
       "\n",
       "    .dataframe tbody tr th {\n",
       "        vertical-align: top;\n",
       "    }\n",
       "\n",
       "    .dataframe thead th {\n",
       "        text-align: right;\n",
       "    }\n",
       "</style>\n",
       "<table border=\"1\" class=\"dataframe\">\n",
       "  <thead>\n",
       "    <tr style=\"text-align: right;\">\n",
       "      <th></th>\n",
       "      <th>client_id</th>\n",
       "      <th>sex</th>\n",
       "      <th>birth</th>\n",
       "    </tr>\n",
       "  </thead>\n",
       "  <tbody>\n",
       "    <tr>\n",
       "      <td>0</td>\n",
       "      <td>c_4410</td>\n",
       "      <td>f</td>\n",
       "      <td>1967</td>\n",
       "    </tr>\n",
       "    <tr>\n",
       "      <td>1</td>\n",
       "      <td>c_7839</td>\n",
       "      <td>f</td>\n",
       "      <td>1975</td>\n",
       "    </tr>\n",
       "    <tr>\n",
       "      <td>2</td>\n",
       "      <td>c_1699</td>\n",
       "      <td>f</td>\n",
       "      <td>1984</td>\n",
       "    </tr>\n",
       "    <tr>\n",
       "      <td>3</td>\n",
       "      <td>c_5961</td>\n",
       "      <td>f</td>\n",
       "      <td>1962</td>\n",
       "    </tr>\n",
       "    <tr>\n",
       "      <td>4</td>\n",
       "      <td>c_5320</td>\n",
       "      <td>m</td>\n",
       "      <td>1943</td>\n",
       "    </tr>\n",
       "  </tbody>\n",
       "</table>\n",
       "</div>"
      ],
      "text/plain": [
       "  client_id sex  birth\n",
       "0    c_4410   f   1967\n",
       "1    c_7839   f   1975\n",
       "2    c_1699   f   1984\n",
       "3    c_5961   f   1962\n",
       "4    c_5320   m   1943"
      ]
     },
     "execution_count": 3,
     "metadata": {},
     "output_type": "execute_result"
    }
   ],
   "source": [
    "# Taking a look at the table\n",
    "customers.head(5)"
   ]
  },
  {
   "cell_type": "code",
   "execution_count": 4,
   "metadata": {},
   "outputs": [
    {
     "data": {
      "text/plain": [
       "8623"
      ]
     },
     "execution_count": 4,
     "metadata": {},
     "output_type": "execute_result"
    }
   ],
   "source": [
    "# We make sure the client_id is a primary key for relation customers\n",
    "len(customers['client_id'].unique())"
   ]
  },
  {
   "cell_type": "code",
   "execution_count": 5,
   "metadata": {},
   "outputs": [
    {
     "data": {
      "text/plain": [
       "(3287, 3)"
      ]
     },
     "execution_count": 5,
     "metadata": {},
     "output_type": "execute_result"
    }
   ],
   "source": [
    "# We get to know the second table\n",
    "products = pd.read_csv('products.csv')\n",
    "products.shape"
   ]
  },
  {
   "cell_type": "code",
   "execution_count": 6,
   "metadata": {},
   "outputs": [
    {
     "data": {
      "text/html": [
       "<div>\n",
       "<style scoped>\n",
       "    .dataframe tbody tr th:only-of-type {\n",
       "        vertical-align: middle;\n",
       "    }\n",
       "\n",
       "    .dataframe tbody tr th {\n",
       "        vertical-align: top;\n",
       "    }\n",
       "\n",
       "    .dataframe thead th {\n",
       "        text-align: right;\n",
       "    }\n",
       "</style>\n",
       "<table border=\"1\" class=\"dataframe\">\n",
       "  <thead>\n",
       "    <tr style=\"text-align: right;\">\n",
       "      <th></th>\n",
       "      <th>id_prod</th>\n",
       "      <th>price</th>\n",
       "      <th>categ</th>\n",
       "    </tr>\n",
       "  </thead>\n",
       "  <tbody>\n",
       "    <tr>\n",
       "      <td>0</td>\n",
       "      <td>0_1421</td>\n",
       "      <td>19.99</td>\n",
       "      <td>0</td>\n",
       "    </tr>\n",
       "    <tr>\n",
       "      <td>1</td>\n",
       "      <td>0_1368</td>\n",
       "      <td>5.13</td>\n",
       "      <td>0</td>\n",
       "    </tr>\n",
       "    <tr>\n",
       "      <td>2</td>\n",
       "      <td>0_731</td>\n",
       "      <td>17.99</td>\n",
       "      <td>0</td>\n",
       "    </tr>\n",
       "    <tr>\n",
       "      <td>3</td>\n",
       "      <td>1_587</td>\n",
       "      <td>4.99</td>\n",
       "      <td>1</td>\n",
       "    </tr>\n",
       "    <tr>\n",
       "      <td>4</td>\n",
       "      <td>0_1507</td>\n",
       "      <td>3.99</td>\n",
       "      <td>0</td>\n",
       "    </tr>\n",
       "  </tbody>\n",
       "</table>\n",
       "</div>"
      ],
      "text/plain": [
       "  id_prod  price  categ\n",
       "0  0_1421  19.99      0\n",
       "1  0_1368   5.13      0\n",
       "2   0_731  17.99      0\n",
       "3   1_587   4.99      1\n",
       "4  0_1507   3.99      0"
      ]
     },
     "execution_count": 6,
     "metadata": {},
     "output_type": "execute_result"
    }
   ],
   "source": [
    "# Taking a look at the table sample\n",
    "products.head(5)"
   ]
  },
  {
   "cell_type": "code",
   "execution_count": 7,
   "metadata": {},
   "outputs": [
    {
     "data": {
      "text/html": [
       "<div>\n",
       "<style scoped>\n",
       "    .dataframe tbody tr th:only-of-type {\n",
       "        vertical-align: middle;\n",
       "    }\n",
       "\n",
       "    .dataframe tbody tr th {\n",
       "        vertical-align: top;\n",
       "    }\n",
       "\n",
       "    .dataframe thead th {\n",
       "        text-align: right;\n",
       "    }\n",
       "</style>\n",
       "<table border=\"1\" class=\"dataframe\">\n",
       "  <thead>\n",
       "    <tr style=\"text-align: right;\">\n",
       "      <th></th>\n",
       "      <th>id_prod</th>\n",
       "      <th>price</th>\n",
       "      <th>categ</th>\n",
       "    </tr>\n",
       "  </thead>\n",
       "  <tbody>\n",
       "  </tbody>\n",
       "</table>\n",
       "</div>"
      ],
      "text/plain": [
       "Empty DataFrame\n",
       "Columns: [id_prod, price, categ]\n",
       "Index: []"
      ]
     },
     "execution_count": 7,
     "metadata": {},
     "output_type": "execute_result"
    }
   ],
   "source": [
    "products.loc[(products['categ'] != 0) & (products['categ'] != 1) & (products['categ'] != 2)]"
   ]
  },
  {
   "cell_type": "code",
   "execution_count": 8,
   "metadata": {},
   "outputs": [
    {
     "data": {
      "text/plain": [
       "3287"
      ]
     },
     "execution_count": 8,
     "metadata": {},
     "output_type": "execute_result"
    }
   ],
   "source": [
    "# id_prod is a primary key for the products relation\n",
    "len(products['id_prod'].unique())"
   ]
  },
  {
   "cell_type": "code",
   "execution_count": 9,
   "metadata": {},
   "outputs": [
    {
     "data": {
      "text/plain": [
       "(337016, 4)"
      ]
     },
     "execution_count": 9,
     "metadata": {},
     "output_type": "execute_result"
    }
   ],
   "source": [
    "# Loading the last table\n",
    "transactions = pd.read_csv('transactions.csv')\n",
    "transactions.shape"
   ]
  },
  {
   "cell_type": "code",
   "execution_count": 10,
   "metadata": {},
   "outputs": [
    {
     "data": {
      "text/html": [
       "<div>\n",
       "<style scoped>\n",
       "    .dataframe tbody tr th:only-of-type {\n",
       "        vertical-align: middle;\n",
       "    }\n",
       "\n",
       "    .dataframe tbody tr th {\n",
       "        vertical-align: top;\n",
       "    }\n",
       "\n",
       "    .dataframe thead th {\n",
       "        text-align: right;\n",
       "    }\n",
       "</style>\n",
       "<table border=\"1\" class=\"dataframe\">\n",
       "  <thead>\n",
       "    <tr style=\"text-align: right;\">\n",
       "      <th></th>\n",
       "      <th>id_prod</th>\n",
       "      <th>date</th>\n",
       "      <th>session_id</th>\n",
       "      <th>client_id</th>\n",
       "    </tr>\n",
       "  </thead>\n",
       "  <tbody>\n",
       "    <tr>\n",
       "      <td>0</td>\n",
       "      <td>0_1483</td>\n",
       "      <td>2021-04-10 18:37:28.723910</td>\n",
       "      <td>s_18746</td>\n",
       "      <td>c_4450</td>\n",
       "    </tr>\n",
       "    <tr>\n",
       "      <td>1</td>\n",
       "      <td>2_226</td>\n",
       "      <td>2022-02-03 01:55:53.276402</td>\n",
       "      <td>s_159142</td>\n",
       "      <td>c_277</td>\n",
       "    </tr>\n",
       "    <tr>\n",
       "      <td>2</td>\n",
       "      <td>1_374</td>\n",
       "      <td>2021-09-23 15:13:46.938559</td>\n",
       "      <td>s_94290</td>\n",
       "      <td>c_4270</td>\n",
       "    </tr>\n",
       "    <tr>\n",
       "      <td>3</td>\n",
       "      <td>0_2186</td>\n",
       "      <td>2021-10-17 03:27:18.783634</td>\n",
       "      <td>s_105936</td>\n",
       "      <td>c_4597</td>\n",
       "    </tr>\n",
       "    <tr>\n",
       "      <td>4</td>\n",
       "      <td>0_1351</td>\n",
       "      <td>2021-07-17 20:34:25.800563</td>\n",
       "      <td>s_63642</td>\n",
       "      <td>c_1242</td>\n",
       "    </tr>\n",
       "  </tbody>\n",
       "</table>\n",
       "</div>"
      ],
      "text/plain": [
       "  id_prod                        date session_id client_id\n",
       "0  0_1483  2021-04-10 18:37:28.723910    s_18746    c_4450\n",
       "1   2_226  2022-02-03 01:55:53.276402   s_159142     c_277\n",
       "2   1_374  2021-09-23 15:13:46.938559    s_94290    c_4270\n",
       "3  0_2186  2021-10-17 03:27:18.783634   s_105936    c_4597\n",
       "4  0_1351  2021-07-17 20:34:25.800563    s_63642    c_1242"
      ]
     },
     "execution_count": 10,
     "metadata": {},
     "output_type": "execute_result"
    }
   ],
   "source": [
    "# Looking at a sample\n",
    "transactions.head(5)"
   ]
  },
  {
   "cell_type": "code",
   "execution_count": 11,
   "metadata": {},
   "outputs": [],
   "source": [
    "# Several calculations do not allow to determine a primary key. Duplicates are probably in the data"
   ]
  },
  {
   "cell_type": "code",
   "execution_count": 12,
   "metadata": {},
   "outputs": [
    {
     "data": {
      "text/html": [
       "<div>\n",
       "<style scoped>\n",
       "    .dataframe tbody tr th:only-of-type {\n",
       "        vertical-align: middle;\n",
       "    }\n",
       "\n",
       "    .dataframe tbody tr th {\n",
       "        vertical-align: top;\n",
       "    }\n",
       "\n",
       "    .dataframe thead th {\n",
       "        text-align: right;\n",
       "    }\n",
       "</style>\n",
       "<table border=\"1\" class=\"dataframe\">\n",
       "  <thead>\n",
       "    <tr style=\"text-align: right;\">\n",
       "      <th></th>\n",
       "      <th>id_prod</th>\n",
       "      <th>date</th>\n",
       "      <th>session_id</th>\n",
       "      <th>client_id</th>\n",
       "    </tr>\n",
       "  </thead>\n",
       "  <tbody>\n",
       "    <tr>\n",
       "      <td>34387</td>\n",
       "      <td>T_0</td>\n",
       "      <td>test_2021-03-01 02:30:02.237443</td>\n",
       "      <td>s_0</td>\n",
       "      <td>ct_0</td>\n",
       "    </tr>\n",
       "    <tr>\n",
       "      <td>54813</td>\n",
       "      <td>T_0</td>\n",
       "      <td>test_2021-03-01 02:30:02.237412</td>\n",
       "      <td>s_0</td>\n",
       "      <td>ct_1</td>\n",
       "    </tr>\n",
       "    <tr>\n",
       "      <td>57261</td>\n",
       "      <td>T_0</td>\n",
       "      <td>test_2021-03-01 02:30:02.237439</td>\n",
       "      <td>s_0</td>\n",
       "      <td>ct_1</td>\n",
       "    </tr>\n",
       "    <tr>\n",
       "      <td>58802</td>\n",
       "      <td>T_0</td>\n",
       "      <td>test_2021-03-01 02:30:02.237429</td>\n",
       "      <td>s_0</td>\n",
       "      <td>ct_0</td>\n",
       "    </tr>\n",
       "    <tr>\n",
       "      <td>60170</td>\n",
       "      <td>T_0</td>\n",
       "      <td>test_2021-03-01 02:30:02.237446</td>\n",
       "      <td>s_0</td>\n",
       "      <td>ct_0</td>\n",
       "    </tr>\n",
       "    <tr>\n",
       "      <td>...</td>\n",
       "      <td>...</td>\n",
       "      <td>...</td>\n",
       "      <td>...</td>\n",
       "      <td>...</td>\n",
       "    </tr>\n",
       "    <tr>\n",
       "      <td>332594</td>\n",
       "      <td>T_0</td>\n",
       "      <td>test_2021-03-01 02:30:02.237445</td>\n",
       "      <td>s_0</td>\n",
       "      <td>ct_0</td>\n",
       "    </tr>\n",
       "    <tr>\n",
       "      <td>332705</td>\n",
       "      <td>T_0</td>\n",
       "      <td>test_2021-03-01 02:30:02.237423</td>\n",
       "      <td>s_0</td>\n",
       "      <td>ct_1</td>\n",
       "    </tr>\n",
       "    <tr>\n",
       "      <td>332730</td>\n",
       "      <td>T_0</td>\n",
       "      <td>test_2021-03-01 02:30:02.237421</td>\n",
       "      <td>s_0</td>\n",
       "      <td>ct_1</td>\n",
       "    </tr>\n",
       "    <tr>\n",
       "      <td>333442</td>\n",
       "      <td>T_0</td>\n",
       "      <td>test_2021-03-01 02:30:02.237431</td>\n",
       "      <td>s_0</td>\n",
       "      <td>ct_1</td>\n",
       "    </tr>\n",
       "    <tr>\n",
       "      <td>335279</td>\n",
       "      <td>T_0</td>\n",
       "      <td>test_2021-03-01 02:30:02.237430</td>\n",
       "      <td>s_0</td>\n",
       "      <td>ct_0</td>\n",
       "    </tr>\n",
       "  </tbody>\n",
       "</table>\n",
       "<p>126 rows × 4 columns</p>\n",
       "</div>"
      ],
      "text/plain": [
       "       id_prod                             date session_id client_id\n",
       "34387      T_0  test_2021-03-01 02:30:02.237443        s_0      ct_0\n",
       "54813      T_0  test_2021-03-01 02:30:02.237412        s_0      ct_1\n",
       "57261      T_0  test_2021-03-01 02:30:02.237439        s_0      ct_1\n",
       "58802      T_0  test_2021-03-01 02:30:02.237429        s_0      ct_0\n",
       "60170      T_0  test_2021-03-01 02:30:02.237446        s_0      ct_0\n",
       "...        ...                              ...        ...       ...\n",
       "332594     T_0  test_2021-03-01 02:30:02.237445        s_0      ct_0\n",
       "332705     T_0  test_2021-03-01 02:30:02.237423        s_0      ct_1\n",
       "332730     T_0  test_2021-03-01 02:30:02.237421        s_0      ct_1\n",
       "333442     T_0  test_2021-03-01 02:30:02.237431        s_0      ct_1\n",
       "335279     T_0  test_2021-03-01 02:30:02.237430        s_0      ct_0\n",
       "\n",
       "[126 rows x 4 columns]"
      ]
     },
     "execution_count": 12,
     "metadata": {},
     "output_type": "execute_result"
    }
   ],
   "source": [
    "transactions_duplicated = transactions[transactions.duplicated()]\n",
    "transactions_duplicated"
   ]
  },
  {
   "cell_type": "code",
   "execution_count": 13,
   "metadata": {},
   "outputs": [
    {
     "data": {
      "text/plain": [
       "array(['T_0'], dtype=object)"
      ]
     },
     "execution_count": 13,
     "metadata": {},
     "output_type": "execute_result"
    }
   ],
   "source": [
    "transactions_duplicated['id_prod'].unique()"
   ]
  },
  {
   "cell_type": "code",
   "execution_count": 14,
   "metadata": {},
   "outputs": [
    {
     "data": {
      "text/html": [
       "<div>\n",
       "<style scoped>\n",
       "    .dataframe tbody tr th:only-of-type {\n",
       "        vertical-align: middle;\n",
       "    }\n",
       "\n",
       "    .dataframe tbody tr th {\n",
       "        vertical-align: top;\n",
       "    }\n",
       "\n",
       "    .dataframe thead th {\n",
       "        text-align: right;\n",
       "    }\n",
       "</style>\n",
       "<table border=\"1\" class=\"dataframe\">\n",
       "  <thead>\n",
       "    <tr style=\"text-align: right;\">\n",
       "      <th></th>\n",
       "      <th>id_prod</th>\n",
       "      <th>price</th>\n",
       "      <th>categ</th>\n",
       "    </tr>\n",
       "  </thead>\n",
       "  <tbody>\n",
       "    <tr>\n",
       "      <td>731</td>\n",
       "      <td>T_0</td>\n",
       "      <td>-1.0</td>\n",
       "      <td>0</td>\n",
       "    </tr>\n",
       "  </tbody>\n",
       "</table>\n",
       "</div>"
      ],
      "text/plain": [
       "    id_prod  price  categ\n",
       "731     T_0   -1.0      0"
      ]
     },
     "execution_count": 14,
     "metadata": {},
     "output_type": "execute_result"
    }
   ],
   "source": [
    "# T_0 is a legitimate id_prod\n",
    "products[products['id_prod'] == 'T_0']"
   ]
  },
  {
   "cell_type": "code",
   "execution_count": 15,
   "metadata": {},
   "outputs": [
    {
     "data": {
      "text/html": [
       "<div>\n",
       "<style scoped>\n",
       "    .dataframe tbody tr th:only-of-type {\n",
       "        vertical-align: middle;\n",
       "    }\n",
       "\n",
       "    .dataframe tbody tr th {\n",
       "        vertical-align: top;\n",
       "    }\n",
       "\n",
       "    .dataframe thead th {\n",
       "        text-align: right;\n",
       "    }\n",
       "</style>\n",
       "<table border=\"1\" class=\"dataframe\">\n",
       "  <thead>\n",
       "    <tr style=\"text-align: right;\">\n",
       "      <th></th>\n",
       "      <th>id_prod</th>\n",
       "      <th>date</th>\n",
       "      <th>session_id</th>\n",
       "      <th>client_id</th>\n",
       "    </tr>\n",
       "  </thead>\n",
       "  <tbody>\n",
       "    <tr>\n",
       "      <td>227121</td>\n",
       "      <td>T_0</td>\n",
       "      <td>test_2021-03-01 02:30:02.237421</td>\n",
       "      <td>s_0</td>\n",
       "      <td>ct_1</td>\n",
       "    </tr>\n",
       "    <tr>\n",
       "      <td>293107</td>\n",
       "      <td>T_0</td>\n",
       "      <td>test_2021-03-01 02:30:02.237421</td>\n",
       "      <td>s_0</td>\n",
       "      <td>ct_0</td>\n",
       "    </tr>\n",
       "    <tr>\n",
       "      <td>332730</td>\n",
       "      <td>T_0</td>\n",
       "      <td>test_2021-03-01 02:30:02.237421</td>\n",
       "      <td>s_0</td>\n",
       "      <td>ct_1</td>\n",
       "    </tr>\n",
       "  </tbody>\n",
       "</table>\n",
       "</div>"
      ],
      "text/plain": [
       "       id_prod                             date session_id client_id\n",
       "227121     T_0  test_2021-03-01 02:30:02.237421        s_0      ct_1\n",
       "293107     T_0  test_2021-03-01 02:30:02.237421        s_0      ct_0\n",
       "332730     T_0  test_2021-03-01 02:30:02.237421        s_0      ct_1"
      ]
     },
     "execution_count": 15,
     "metadata": {},
     "output_type": "execute_result"
    }
   ],
   "source": [
    "# It appears only dates including test_ as a prefix are concerned with duplicates\n",
    "# Moreover those dates are not valid dates\n",
    "\n",
    "transactions[transactions['date'] == 'test_2021-03-01 02:30:02.237421']"
   ]
  },
  {
   "cell_type": "code",
   "execution_count": 16,
   "metadata": {},
   "outputs": [
    {
     "data": {
      "text/plain": [
       "(200, 5)"
      ]
     },
     "execution_count": 16,
     "metadata": {},
     "output_type": "execute_result"
    }
   ],
   "source": [
    "# It appears that 200 data are defined as tests and therefore as non valid for our study\n",
    "transactions['test'] = [ True if ('test' in date) else False for date in transactions['date']]\n",
    "transactions[transactions['test']].shape"
   ]
  },
  {
   "cell_type": "markdown",
   "metadata": {},
   "source": [
    "Ainsi on trouve 200 entrees de test dans les transactions et il semble qu'elles soient toutes liees au produit T_0."
   ]
  },
  {
   "cell_type": "code",
   "execution_count": 17,
   "metadata": {},
   "outputs": [
    {
     "data": {
      "text/html": [
       "<div>\n",
       "<style scoped>\n",
       "    .dataframe tbody tr th:only-of-type {\n",
       "        vertical-align: middle;\n",
       "    }\n",
       "\n",
       "    .dataframe tbody tr th {\n",
       "        vertical-align: top;\n",
       "    }\n",
       "\n",
       "    .dataframe thead th {\n",
       "        text-align: right;\n",
       "    }\n",
       "</style>\n",
       "<table border=\"1\" class=\"dataframe\">\n",
       "  <thead>\n",
       "    <tr style=\"text-align: right;\">\n",
       "      <th></th>\n",
       "      <th>id_prod</th>\n",
       "      <th>date</th>\n",
       "      <th>session_id</th>\n",
       "      <th>client_id</th>\n",
       "      <th>test</th>\n",
       "    </tr>\n",
       "  </thead>\n",
       "  <tbody>\n",
       "    <tr>\n",
       "      <td>1431</td>\n",
       "      <td>T_0</td>\n",
       "      <td>test_2021-03-01 02:30:02.237420</td>\n",
       "      <td>s_0</td>\n",
       "      <td>ct_1</td>\n",
       "      <td>True</td>\n",
       "    </tr>\n",
       "    <tr>\n",
       "      <td>2365</td>\n",
       "      <td>T_0</td>\n",
       "      <td>test_2021-03-01 02:30:02.237446</td>\n",
       "      <td>s_0</td>\n",
       "      <td>ct_1</td>\n",
       "      <td>True</td>\n",
       "    </tr>\n",
       "    <tr>\n",
       "      <td>2895</td>\n",
       "      <td>T_0</td>\n",
       "      <td>test_2021-03-01 02:30:02.237414</td>\n",
       "      <td>s_0</td>\n",
       "      <td>ct_1</td>\n",
       "      <td>True</td>\n",
       "    </tr>\n",
       "    <tr>\n",
       "      <td>5955</td>\n",
       "      <td>T_0</td>\n",
       "      <td>test_2021-03-01 02:30:02.237441</td>\n",
       "      <td>s_0</td>\n",
       "      <td>ct_0</td>\n",
       "      <td>True</td>\n",
       "    </tr>\n",
       "    <tr>\n",
       "      <td>7283</td>\n",
       "      <td>T_0</td>\n",
       "      <td>test_2021-03-01 02:30:02.237434</td>\n",
       "      <td>s_0</td>\n",
       "      <td>ct_1</td>\n",
       "      <td>True</td>\n",
       "    </tr>\n",
       "    <tr>\n",
       "      <td>...</td>\n",
       "      <td>...</td>\n",
       "      <td>...</td>\n",
       "      <td>...</td>\n",
       "      <td>...</td>\n",
       "      <td>...</td>\n",
       "    </tr>\n",
       "    <tr>\n",
       "      <td>332594</td>\n",
       "      <td>T_0</td>\n",
       "      <td>test_2021-03-01 02:30:02.237445</td>\n",
       "      <td>s_0</td>\n",
       "      <td>ct_0</td>\n",
       "      <td>True</td>\n",
       "    </tr>\n",
       "    <tr>\n",
       "      <td>332705</td>\n",
       "      <td>T_0</td>\n",
       "      <td>test_2021-03-01 02:30:02.237423</td>\n",
       "      <td>s_0</td>\n",
       "      <td>ct_1</td>\n",
       "      <td>True</td>\n",
       "    </tr>\n",
       "    <tr>\n",
       "      <td>332730</td>\n",
       "      <td>T_0</td>\n",
       "      <td>test_2021-03-01 02:30:02.237421</td>\n",
       "      <td>s_0</td>\n",
       "      <td>ct_1</td>\n",
       "      <td>True</td>\n",
       "    </tr>\n",
       "    <tr>\n",
       "      <td>333442</td>\n",
       "      <td>T_0</td>\n",
       "      <td>test_2021-03-01 02:30:02.237431</td>\n",
       "      <td>s_0</td>\n",
       "      <td>ct_1</td>\n",
       "      <td>True</td>\n",
       "    </tr>\n",
       "    <tr>\n",
       "      <td>335279</td>\n",
       "      <td>T_0</td>\n",
       "      <td>test_2021-03-01 02:30:02.237430</td>\n",
       "      <td>s_0</td>\n",
       "      <td>ct_0</td>\n",
       "      <td>True</td>\n",
       "    </tr>\n",
       "  </tbody>\n",
       "</table>\n",
       "<p>200 rows × 5 columns</p>\n",
       "</div>"
      ],
      "text/plain": [
       "       id_prod                             date session_id client_id  test\n",
       "1431       T_0  test_2021-03-01 02:30:02.237420        s_0      ct_1  True\n",
       "2365       T_0  test_2021-03-01 02:30:02.237446        s_0      ct_1  True\n",
       "2895       T_0  test_2021-03-01 02:30:02.237414        s_0      ct_1  True\n",
       "5955       T_0  test_2021-03-01 02:30:02.237441        s_0      ct_0  True\n",
       "7283       T_0  test_2021-03-01 02:30:02.237434        s_0      ct_1  True\n",
       "...        ...                              ...        ...       ...   ...\n",
       "332594     T_0  test_2021-03-01 02:30:02.237445        s_0      ct_0  True\n",
       "332705     T_0  test_2021-03-01 02:30:02.237423        s_0      ct_1  True\n",
       "332730     T_0  test_2021-03-01 02:30:02.237421        s_0      ct_1  True\n",
       "333442     T_0  test_2021-03-01 02:30:02.237431        s_0      ct_1  True\n",
       "335279     T_0  test_2021-03-01 02:30:02.237430        s_0      ct_0  True\n",
       "\n",
       "[200 rows x 5 columns]"
      ]
     },
     "execution_count": 17,
     "metadata": {},
     "output_type": "execute_result"
    }
   ],
   "source": [
    "test_id_prod_mask = transactions['id_prod'] == 'T_0'\n",
    "test_date_mask2 = transactions['date'].str.contains('test_.*', regex=True)\n",
    "transactions.loc[test_id_prod_mask & test_date_mask2]"
   ]
  },
  {
   "cell_type": "markdown",
   "metadata": {},
   "source": [
    "## Cleaning data"
   ]
  },
  {
   "cell_type": "code",
   "execution_count": 18,
   "metadata": {},
   "outputs": [
    {
     "data": {
      "text/plain": [
       "8623"
      ]
     },
     "execution_count": 18,
     "metadata": {},
     "output_type": "execute_result"
    }
   ],
   "source": [
    "# We drop ROWs (axis=0)\n",
    "customers.dropna(axis=0, how='any').shape[0]"
   ]
  },
  {
   "cell_type": "code",
   "execution_count": 19,
   "metadata": {},
   "outputs": [
    {
     "data": {
      "text/plain": [
       "3287"
      ]
     },
     "execution_count": 19,
     "metadata": {},
     "output_type": "execute_result"
    }
   ],
   "source": [
    "products.dropna(axis=0, how='any').shape[0]"
   ]
  },
  {
   "cell_type": "code",
   "execution_count": 20,
   "metadata": {},
   "outputs": [
    {
     "data": {
      "text/plain": [
       "337016"
      ]
     },
     "execution_count": 20,
     "metadata": {},
     "output_type": "execute_result"
    }
   ],
   "source": [
    "transactions.dropna(axis=0, how='any').shape[0]"
   ]
  },
  {
   "cell_type": "markdown",
   "metadata": {},
   "source": [
    "Ici on voit qu'il n'y a pas de valeurs manquantes dans les tables products, customers ou transactions"
   ]
  },
  {
   "cell_type": "code",
   "execution_count": 21,
   "metadata": {},
   "outputs": [
    {
     "name": "stdout",
     "output_type": "stream",
     "text": [
      "['f' 'm']\n"
     ]
    }
   ],
   "source": [
    "print(customers['sex'].unique())"
   ]
  },
  {
   "cell_type": "code",
   "execution_count": 22,
   "metadata": {},
   "outputs": [
    {
     "data": {
      "text/plain": [
       "array([ -1.  ,   0.62,   0.66, ..., 247.22, 254.44, 300.  ])"
      ]
     },
     "execution_count": 22,
     "metadata": {},
     "output_type": "execute_result"
    }
   ],
   "source": [
    "products_prices_lst = products['price'].unique()\n",
    "products_prices_lst.sort()\n",
    "products_prices_lst"
   ]
  },
  {
   "cell_type": "markdown",
   "metadata": {},
   "source": [
    "Les prix n'ont pas de valeurs aberrantes en dehors de la valeur -1 associee au produit T_0 dont le nom ne semble pas correspondre a la nomenclature attendue pour les produits."
   ]
  },
  {
   "cell_type": "code",
   "execution_count": 23,
   "metadata": {},
   "outputs": [
    {
     "data": {
      "text/html": [
       "<div>\n",
       "<style scoped>\n",
       "    .dataframe tbody tr th:only-of-type {\n",
       "        vertical-align: middle;\n",
       "    }\n",
       "\n",
       "    .dataframe tbody tr th {\n",
       "        vertical-align: top;\n",
       "    }\n",
       "\n",
       "    .dataframe thead th {\n",
       "        text-align: right;\n",
       "    }\n",
       "</style>\n",
       "<table border=\"1\" class=\"dataframe\">\n",
       "  <thead>\n",
       "    <tr style=\"text-align: right;\">\n",
       "      <th></th>\n",
       "      <th>id_prod</th>\n",
       "      <th>price</th>\n",
       "      <th>categ</th>\n",
       "    </tr>\n",
       "  </thead>\n",
       "  <tbody>\n",
       "    <tr>\n",
       "      <td>731</td>\n",
       "      <td>T_0</td>\n",
       "      <td>-1.0</td>\n",
       "      <td>0</td>\n",
       "    </tr>\n",
       "  </tbody>\n",
       "</table>\n",
       "</div>"
      ],
      "text/plain": [
       "    id_prod  price  categ\n",
       "731     T_0   -1.0      0"
      ]
     },
     "execution_count": 23,
     "metadata": {},
     "output_type": "execute_result"
    }
   ],
   "source": [
    "neg_price_mask = products['price'] < 0\n",
    "products.loc[neg_price_mask]"
   ]
  },
  {
   "cell_type": "code",
   "execution_count": 24,
   "metadata": {},
   "outputs": [
    {
     "data": {
      "text/plain": [
       "3286"
      ]
     },
     "execution_count": 24,
     "metadata": {},
     "output_type": "execute_result"
    }
   ],
   "source": [
    "prod_id_mask = products['id_prod'].str.contains('\\d_\\d+', regex=True)\n",
    "products.loc[prod_id_mask].shape[0]"
   ]
  },
  {
   "cell_type": "markdown",
   "metadata": {},
   "source": [
    "Les noms des produits repondent tous a la nomenclature 'chiffre unique, underscore, un ou plusieurs chiffre', le produit T_0 etant l'unique valeur ne suivant pas cette nomenclature avec un prix negatif. Ce dernier est de plus lie aux transactions de test avec des dates non conforme. On peut donc le retirer de notre analyse."
   ]
  },
  {
   "cell_type": "code",
   "execution_count": 25,
   "metadata": {},
   "outputs": [
    {
     "data": {
      "text/html": [
       "<div>\n",
       "<style scoped>\n",
       "    .dataframe tbody tr th:only-of-type {\n",
       "        vertical-align: middle;\n",
       "    }\n",
       "\n",
       "    .dataframe tbody tr th {\n",
       "        vertical-align: top;\n",
       "    }\n",
       "\n",
       "    .dataframe thead th {\n",
       "        text-align: right;\n",
       "    }\n",
       "</style>\n",
       "<table border=\"1\" class=\"dataframe\">\n",
       "  <thead>\n",
       "    <tr style=\"text-align: right;\">\n",
       "      <th></th>\n",
       "      <th>client_id</th>\n",
       "      <th>sex</th>\n",
       "      <th>birth</th>\n",
       "    </tr>\n",
       "  </thead>\n",
       "  <tbody>\n",
       "    <tr>\n",
       "      <td>2735</td>\n",
       "      <td>ct_0</td>\n",
       "      <td>f</td>\n",
       "      <td>2001</td>\n",
       "    </tr>\n",
       "    <tr>\n",
       "      <td>8494</td>\n",
       "      <td>ct_1</td>\n",
       "      <td>m</td>\n",
       "      <td>2001</td>\n",
       "    </tr>\n",
       "  </tbody>\n",
       "</table>\n",
       "</div>"
      ],
      "text/plain": [
       "     client_id sex  birth\n",
       "2735      ct_0   f   2001\n",
       "8494      ct_1   m   2001"
      ]
     },
     "execution_count": 25,
     "metadata": {},
     "output_type": "execute_result"
    }
   ],
   "source": [
    "id_mask = customers['client_id'].str.contains('^c(?!_\\d+)', regex=True)\n",
    "customers.loc[id_mask]"
   ]
  },
  {
   "cell_type": "markdown",
   "metadata": {},
   "source": [
    "De la meme facon on identifie deux clients dont la nomenclature ne verifie pas 'c, underscore, serie de chiffre' et qui sont eux aussi associes aux donnees de transactions de test.\n",
    "On verifie cela sur les donnees de transactions."
   ]
  },
  {
   "cell_type": "code",
   "execution_count": 26,
   "metadata": {},
   "outputs": [
    {
     "data": {
      "text/html": [
       "<div>\n",
       "<style scoped>\n",
       "    .dataframe tbody tr th:only-of-type {\n",
       "        vertical-align: middle;\n",
       "    }\n",
       "\n",
       "    .dataframe tbody tr th {\n",
       "        vertical-align: top;\n",
       "    }\n",
       "\n",
       "    .dataframe thead th {\n",
       "        text-align: right;\n",
       "    }\n",
       "</style>\n",
       "<table border=\"1\" class=\"dataframe\">\n",
       "  <thead>\n",
       "    <tr style=\"text-align: right;\">\n",
       "      <th></th>\n",
       "      <th>id_prod</th>\n",
       "      <th>date</th>\n",
       "      <th>session_id</th>\n",
       "      <th>client_id</th>\n",
       "      <th>test</th>\n",
       "    </tr>\n",
       "  </thead>\n",
       "  <tbody>\n",
       "    <tr>\n",
       "      <td>1431</td>\n",
       "      <td>T_0</td>\n",
       "      <td>test_2021-03-01 02:30:02.237420</td>\n",
       "      <td>s_0</td>\n",
       "      <td>ct_1</td>\n",
       "      <td>True</td>\n",
       "    </tr>\n",
       "    <tr>\n",
       "      <td>2365</td>\n",
       "      <td>T_0</td>\n",
       "      <td>test_2021-03-01 02:30:02.237446</td>\n",
       "      <td>s_0</td>\n",
       "      <td>ct_1</td>\n",
       "      <td>True</td>\n",
       "    </tr>\n",
       "    <tr>\n",
       "      <td>2895</td>\n",
       "      <td>T_0</td>\n",
       "      <td>test_2021-03-01 02:30:02.237414</td>\n",
       "      <td>s_0</td>\n",
       "      <td>ct_1</td>\n",
       "      <td>True</td>\n",
       "    </tr>\n",
       "    <tr>\n",
       "      <td>5955</td>\n",
       "      <td>T_0</td>\n",
       "      <td>test_2021-03-01 02:30:02.237441</td>\n",
       "      <td>s_0</td>\n",
       "      <td>ct_0</td>\n",
       "      <td>True</td>\n",
       "    </tr>\n",
       "    <tr>\n",
       "      <td>7283</td>\n",
       "      <td>T_0</td>\n",
       "      <td>test_2021-03-01 02:30:02.237434</td>\n",
       "      <td>s_0</td>\n",
       "      <td>ct_1</td>\n",
       "      <td>True</td>\n",
       "    </tr>\n",
       "    <tr>\n",
       "      <td>...</td>\n",
       "      <td>...</td>\n",
       "      <td>...</td>\n",
       "      <td>...</td>\n",
       "      <td>...</td>\n",
       "      <td>...</td>\n",
       "    </tr>\n",
       "    <tr>\n",
       "      <td>332594</td>\n",
       "      <td>T_0</td>\n",
       "      <td>test_2021-03-01 02:30:02.237445</td>\n",
       "      <td>s_0</td>\n",
       "      <td>ct_0</td>\n",
       "      <td>True</td>\n",
       "    </tr>\n",
       "    <tr>\n",
       "      <td>332705</td>\n",
       "      <td>T_0</td>\n",
       "      <td>test_2021-03-01 02:30:02.237423</td>\n",
       "      <td>s_0</td>\n",
       "      <td>ct_1</td>\n",
       "      <td>True</td>\n",
       "    </tr>\n",
       "    <tr>\n",
       "      <td>332730</td>\n",
       "      <td>T_0</td>\n",
       "      <td>test_2021-03-01 02:30:02.237421</td>\n",
       "      <td>s_0</td>\n",
       "      <td>ct_1</td>\n",
       "      <td>True</td>\n",
       "    </tr>\n",
       "    <tr>\n",
       "      <td>333442</td>\n",
       "      <td>T_0</td>\n",
       "      <td>test_2021-03-01 02:30:02.237431</td>\n",
       "      <td>s_0</td>\n",
       "      <td>ct_1</td>\n",
       "      <td>True</td>\n",
       "    </tr>\n",
       "    <tr>\n",
       "      <td>335279</td>\n",
       "      <td>T_0</td>\n",
       "      <td>test_2021-03-01 02:30:02.237430</td>\n",
       "      <td>s_0</td>\n",
       "      <td>ct_0</td>\n",
       "      <td>True</td>\n",
       "    </tr>\n",
       "  </tbody>\n",
       "</table>\n",
       "<p>200 rows × 5 columns</p>\n",
       "</div>"
      ],
      "text/plain": [
       "       id_prod                             date session_id client_id  test\n",
       "1431       T_0  test_2021-03-01 02:30:02.237420        s_0      ct_1  True\n",
       "2365       T_0  test_2021-03-01 02:30:02.237446        s_0      ct_1  True\n",
       "2895       T_0  test_2021-03-01 02:30:02.237414        s_0      ct_1  True\n",
       "5955       T_0  test_2021-03-01 02:30:02.237441        s_0      ct_0  True\n",
       "7283       T_0  test_2021-03-01 02:30:02.237434        s_0      ct_1  True\n",
       "...        ...                              ...        ...       ...   ...\n",
       "332594     T_0  test_2021-03-01 02:30:02.237445        s_0      ct_0  True\n",
       "332705     T_0  test_2021-03-01 02:30:02.237423        s_0      ct_1  True\n",
       "332730     T_0  test_2021-03-01 02:30:02.237421        s_0      ct_1  True\n",
       "333442     T_0  test_2021-03-01 02:30:02.237431        s_0      ct_1  True\n",
       "335279     T_0  test_2021-03-01 02:30:02.237430        s_0      ct_0  True\n",
       "\n",
       "[200 rows x 5 columns]"
      ]
     },
     "execution_count": 26,
     "metadata": {},
     "output_type": "execute_result"
    }
   ],
   "source": [
    "test_client_id_mask = transactions['client_id'].str.contains('^c(?!_\\d+)', regex=True)\n",
    "transactions.loc[test_client_id_mask]"
   ]
  },
  {
   "cell_type": "code",
   "execution_count": 27,
   "metadata": {},
   "outputs": [
    {
     "name": "stdout",
     "output_type": "stream",
     "text": [
      "2021-03-01 00:01:07.843138 test_2021-03-01 02:30:02.237450\n"
     ]
    }
   ],
   "source": [
    "# A REFAIRE sur les dates sans test_\n",
    "dates = transactions.loc[:,'date'].tolist()\n",
    "dates.sort()\n",
    "print(dates[0], dates[-1])"
   ]
  },
  {
   "cell_type": "markdown",
   "metadata": {},
   "source": [
    "Rien d'anormal sur les dates, qui sont repertoriees entre 2021 et 2022 bien que situees dans le futur au niveau des annees."
   ]
  },
  {
   "cell_type": "code",
   "execution_count": 28,
   "metadata": {},
   "outputs": [
    {
     "data": {
      "text/plain": [
       "337016"
      ]
     },
     "execution_count": 28,
     "metadata": {},
     "output_type": "execute_result"
    }
   ],
   "source": [
    "# All session_id match the naming convention\n",
    "session_id_mask = transactions['session_id'].str.contains('s_\\d+', regex=True)\n",
    "transactions.loc[session_id_mask].shape[0]"
   ]
  },
  {
   "cell_type": "markdown",
   "metadata": {},
   "source": [
    "En resume on elimine alors les elements suivants:\n",
    "- lignes de customers avec les valeurs 'ct_X'\n",
    "- lignes de products avec la valeur 'T_0'\n",
    "- lignes de transactions avec un des valeur precedentes ou des dates non conformes commencant par 'test_'"
   ]
  },
  {
   "cell_type": "code",
   "execution_count": 29,
   "metadata": {},
   "outputs": [],
   "source": [
    "products = products.loc[prod_id_mask]\n",
    "correct_id_mask = customers['client_id'].str.contains('c_\\d+', regex=True)\n",
    "customers = customers.loc[correct_id_mask]\n",
    "test_mask = transactions['id_prod'] != 'T_0'\n",
    "transactions = transactions.loc[test_mask]"
   ]
  },
  {
   "cell_type": "code",
   "execution_count": 30,
   "metadata": {},
   "outputs": [
    {
     "name": "stdout",
     "output_type": "stream",
     "text": [
      "3286 8621 336816\n"
     ]
    }
   ],
   "source": [
    "# Checking original dataframes have been updated\n",
    "print(products.shape[0], customers.shape[0], transactions.shape[0])"
   ]
  },
  {
   "cell_type": "markdown",
   "metadata": {},
   "source": [
    "-----"
   ]
  },
  {
   "cell_type": "markdown",
   "metadata": {},
   "source": [
    "# Mission 2: Data analysis\n",
    "\n",
    "Vous devrez y utiliser au moins :\n",
    "\n",
    "- des indicateurs de tendance centrale et de dispersion\n",
    "- une analyse de concentration, via une courbe de Lorenz et un indice de Gini\n",
    "- des représentations graphiques, dont au moins un histogramme, une représentation avec des \"boites à moustaches\", et - une représentation de série temporelle (c’est à dire un graphique dont l’axe des abscisses représente des dates)\n",
    "- des analyses bivariées\n"
   ]
  },
  {
   "cell_type": "markdown",
   "metadata": {},
   "source": [
    "## Customers analysis\n",
    "\n",
    "First we focus on the customers data"
   ]
  },
  {
   "cell_type": "code",
   "execution_count": 31,
   "metadata": {},
   "outputs": [
    {
     "name": "stdout",
     "output_type": "stream",
     "text": [
      "4131 4490 8621\n"
     ]
    }
   ],
   "source": [
    "male_msk = customers['sex'] == 'm', 'sex'\n",
    "female_msk = customers['sex'] == 'f', 'sex'\n",
    "nb_males = customers.loc[male_msk].count()\n",
    "nb_females = customers.loc[female_msk].count()\n",
    "print(nb_males, nb_females, nb_males+nb_females)"
   ]
  },
  {
   "cell_type": "code",
   "execution_count": 32,
   "metadata": {},
   "outputs": [
    {
     "data": {
      "text/plain": [
       "f    0.520821\n",
       "m    0.479179\n",
       "Name: sex, dtype: float64"
      ]
     },
     "execution_count": 32,
     "metadata": {},
     "output_type": "execute_result"
    }
   ],
   "source": [
    "sex_freq = customers['sex'].value_counts(normalize=True)\n",
    "sex_freq"
   ]
  },
  {
   "cell_type": "code",
   "execution_count": 33,
   "metadata": {},
   "outputs": [
    {
     "data": {
      "text/plain": [
       "<matplotlib.axes._subplots.AxesSubplot at 0x10272fb70>"
      ]
     },
     "execution_count": 33,
     "metadata": {},
     "output_type": "execute_result"
    },
    {
     "data": {
      "image/png": "[encoded data removed]",
      "text/plain": [
       "<Figure size 432x288 with 1 Axes>"
      ]
     },
     "metadata": {},
     "output_type": "display_data"
    }
   ],
   "source": [
    "sex_freq.plot(kind='pie')"
   ]
  },
  {
   "cell_type": "code",
   "execution_count": 34,
   "metadata": {},
   "outputs": [
    {
     "data": {
      "text/plain": [
       "<matplotlib.axes._subplots.AxesSubplot at 0x10eb47780>"
      ]
     },
     "execution_count": 34,
     "metadata": {},
     "output_type": "execute_result"
    },
    {
     "data": {
      "image/png": "[encoded data removed]",
      "text/plain": [
       "<Figure size 432x288 with 1 Axes>"
      ]
     },
     "metadata": {
      "needs_background": "light"
     },
     "output_type": "display_data"
    }
   ],
   "source": [
    "birth_freq = customers['birth'].value_counts()\n",
    "birth_freq.plot(kind='bar', width=0.1)"
   ]
  },
  {
   "cell_type": "code",
   "execution_count": 35,
   "metadata": {},
   "outputs": [
    {
     "data": {
      "text/html": [
       "<div>\n",
       "<style scoped>\n",
       "    .dataframe tbody tr th:only-of-type {\n",
       "        vertical-align: middle;\n",
       "    }\n",
       "\n",
       "    .dataframe tbody tr th {\n",
       "        vertical-align: top;\n",
       "    }\n",
       "\n",
       "    .dataframe thead th {\n",
       "        text-align: right;\n",
       "    }\n",
       "</style>\n",
       "<table border=\"1\" class=\"dataframe\">\n",
       "  <thead>\n",
       "    <tr style=\"text-align: right;\">\n",
       "      <th></th>\n",
       "      <th>client_id</th>\n",
       "      <th>sex</th>\n",
       "      <th>birth</th>\n",
       "      <th>age</th>\n",
       "    </tr>\n",
       "  </thead>\n",
       "  <tbody>\n",
       "    <tr>\n",
       "      <td>0</td>\n",
       "      <td>c_4410</td>\n",
       "      <td>f</td>\n",
       "      <td>1967</td>\n",
       "      <td>52</td>\n",
       "    </tr>\n",
       "    <tr>\n",
       "      <td>1</td>\n",
       "      <td>c_7839</td>\n",
       "      <td>f</td>\n",
       "      <td>1975</td>\n",
       "      <td>44</td>\n",
       "    </tr>\n",
       "    <tr>\n",
       "      <td>2</td>\n",
       "      <td>c_1699</td>\n",
       "      <td>f</td>\n",
       "      <td>1984</td>\n",
       "      <td>35</td>\n",
       "    </tr>\n",
       "    <tr>\n",
       "      <td>3</td>\n",
       "      <td>c_5961</td>\n",
       "      <td>f</td>\n",
       "      <td>1962</td>\n",
       "      <td>57</td>\n",
       "    </tr>\n",
       "    <tr>\n",
       "      <td>4</td>\n",
       "      <td>c_5320</td>\n",
       "      <td>m</td>\n",
       "      <td>1943</td>\n",
       "      <td>76</td>\n",
       "    </tr>\n",
       "  </tbody>\n",
       "</table>\n",
       "</div>"
      ],
      "text/plain": [
       "  client_id sex  birth  age\n",
       "0    c_4410   f   1967   52\n",
       "1    c_7839   f   1975   44\n",
       "2    c_1699   f   1984   35\n",
       "3    c_5961   f   1962   57\n",
       "4    c_5320   m   1943   76"
      ]
     },
     "execution_count": 35,
     "metadata": {},
     "output_type": "execute_result"
    }
   ],
   "source": [
    "customers['age'] = 2019 - customers['birth']\n",
    "customers.head()"
   ]
  },
  {
   "cell_type": "code",
   "execution_count": 36,
   "metadata": {},
   "outputs": [
    {
     "data": {
      "text/plain": [
       "14.07363951028323"
      ]
     },
     "execution_count": 36,
     "metadata": {},
     "output_type": "execute_result"
    }
   ],
   "source": [
    "# Sturges rule to estimate optimal class number\n",
    "kc = 1+ math.log(customers.shape[0], 2)\n",
    "kc"
   ]
  },
  {
   "cell_type": "code",
   "execution_count": 37,
   "metadata": {},
   "outputs": [
    {
     "data": {
      "image/png": "[encoded data removed]",
      "text/plain": [
       "<Figure size 432x288 with 1 Axes>"
      ]
     },
     "metadata": {
      "needs_background": "light"
     },
     "output_type": "display_data"
    }
   ],
   "source": [
    "age_freq = customers['age'].hist(density=False, bins = 15)"
   ]
  },
  {
   "cell_type": "code",
   "execution_count": 38,
   "metadata": {},
   "outputs": [
    {
     "name": "stdout",
     "output_type": "stream",
     "text": [
      "le pic d age est de 15.00 ans, \n",
      "la valeur mediane est a 40.00 ans, \n",
      "et la moyenne d age est de 40.72 annees\n",
      "avec un ecart type empirique de 16.92\n",
      "skew: 0.36\n",
      "kurtosis: -0.64\n"
     ]
    }
   ],
   "source": [
    "print(f'le pic d age est de {\"%.2f\" % customers[\"age\"].mode().array[0]} ans, \\n\\\n",
    "la valeur mediane est a {\"%.2f\" % customers[\"age\"].median()} ans, \\n\\\n",
    "et la moyenne d age est de {\"%.2f\" % customers[\"age\"].mean()} annees\\n\\\n",
    "avec un ecart type empirique de {\"%.2f\" % customers[\"age\"].std(ddof=0)}\\n\\\n",
    "skew: {\"%.2f\" % customers[\"age\"].skew()}\\n\\\n",
    "kurtosis: {\"%.2f\" % customers[\"age\"].kurtosis()}\\\n",
    "')"
   ]
  },
  {
   "cell_type": "markdown",
   "metadata": {},
   "source": [
    "## Products analysis"
   ]
  },
  {
   "cell_type": "code",
   "execution_count": 39,
   "metadata": {},
   "outputs": [
    {
     "data": {
      "text/plain": [
       "12.682116764950074"
      ]
     },
     "execution_count": 39,
     "metadata": {},
     "output_type": "execute_result"
    }
   ],
   "source": [
    "# Sturges rule \n",
    "kp = 1 + math.log(products.shape[0],2)\n",
    "kp"
   ]
  },
  {
   "cell_type": "code",
   "execution_count": 40,
   "metadata": {},
   "outputs": [
    {
     "data": {
      "text/plain": [
       "<matplotlib.axes._subplots.AxesSubplot at 0x10e473390>"
      ]
     },
     "execution_count": 40,
     "metadata": {},
     "output_type": "execute_result"
    },
    {
     "data": {
      "image/png": "[encoded data removed]",
      "text/plain": [
       "<Figure size 432x288 with 1 Axes>"
      ]
     },
     "metadata": {
      "needs_background": "light"
     },
     "output_type": "display_data"
    }
   ],
   "source": [
    "products['price'].hist(density=False, bins=12)"
   ]
  },
  {
   "cell_type": "code",
   "execution_count": 41,
   "metadata": {},
   "outputs": [
    {
     "data": {
      "text/plain": [
       "<matplotlib.axes._subplots.AxesSubplot at 0x10e58d8d0>"
      ]
     },
     "execution_count": 41,
     "metadata": {},
     "output_type": "execute_result"
    },
    {
     "data": {
      "image/png": "[encoded data removed]",
      "text/plain": [
       "<Figure size 432x288 with 1 Axes>"
      ]
     },
     "metadata": {
      "needs_background": "light"
     },
     "output_type": "display_data"
    }
   ],
   "source": [
    "products.boxplot(column='price', vert=False)"
   ]
  },
  {
   "cell_type": "code",
   "execution_count": 42,
   "metadata": {},
   "outputs": [],
   "source": [
    "def central_measures(series):\n",
    "    print(f'le pic de prix est de {print_float(series.mode().array[0])},\\n\\\n",
    "la valeur mediane des prix est a {print_float(series.median())},\\n\\\n",
    "et la moyenne de prix est de {print_float(series.mean())}\\n\\\n",
    "avec un ecart type empirique de {print_float(series.std(ddof=0))}\\n\\\n",
    "skew: {print_float(series.skew())}\\n\\\n",
    "kurtosis: {print_float(series.kurtosis())}\\n\\\n",
    "')"
   ]
  },
  {
   "cell_type": "code",
   "execution_count": 43,
   "metadata": {},
   "outputs": [
    {
     "name": "stdout",
     "output_type": "stream",
     "text": [
      "le pic de prix est de 4.99,\n",
      "la valeur mediane des prix est a 13.07,\n",
      "et la moyenne de prix est de 21.86\n",
      "avec un ecart type empirique de 29.85\n",
      "skew: 3.80\n",
      "kurtosis: 17.95\n",
      "\n"
     ]
    }
   ],
   "source": [
    "central_measures(products['price'])"
   ]
  },
  {
   "cell_type": "code",
   "execution_count": 44,
   "metadata": {},
   "outputs": [
    {
     "data": {
      "image/png": "[encoded data removed]",
      "text/plain": [
       "<Figure size 432x288 with 1 Axes>"
      ]
     },
     "metadata": {
      "needs_background": "light"
     },
     "output_type": "display_data"
    }
   ],
   "source": [
    "categ_lst = products['categ'].unique().tolist()\n",
    "categ_lst.sort()\n",
    "categ_map = {}\n",
    "for cat in categ_lst:\n",
    "    msk = products['categ'] == cat, 'price'\n",
    "    categ_map.update({cat: products.loc[msk]})\n",
    "for cat, series in categ_map.items():\n",
    "    ktab = 1 + math.log(len(series.array),2)\n",
    "    ktab = math.floor(ktab)\n",
    "    series.hist(density=False, bins=ktab)"
   ]
  },
  {
   "cell_type": "code",
   "execution_count": 45,
   "metadata": {},
   "outputs": [
    {
     "name": "stdout",
     "output_type": "stream",
     "text": [
      "Pour les produits de categorie 0\n",
      "le pic de prix est de 4.99,\n",
      "la valeur mediane des prix est a 10.32,\n",
      "et la moyenne de prix est de 11.73\n",
      "avec un ecart type empirique de 7.56\n",
      "skew: 0.84\n",
      "kurtosis: 0.33\n",
      "\n",
      "\n",
      "\n",
      "\n",
      "Pour les produits de categorie 1\n",
      "le pic de prix est de 22.99,\n",
      "la valeur mediane des prix est a 22.99,\n",
      "et la moyenne de prix est de 25.53\n",
      "avec un ecart type empirique de 15.41\n",
      "skew: 0.81\n",
      "kurtosis: 0.30\n",
      "\n",
      "\n",
      "\n",
      "\n",
      "Pour les produits de categorie 2\n",
      "le pic de prix est de 50.99,\n",
      "la valeur mediane des prix est a 101.99,\n",
      "et la moyenne de prix est de 108.35\n",
      "avec un ecart type empirique de 49.46\n",
      "skew: 0.93\n",
      "kurtosis: 0.81\n",
      "\n",
      "\n",
      "\n",
      "\n"
     ]
    }
   ],
   "source": [
    "for cat, series in categ_map.items():\n",
    "    print(f'Pour les produits de categorie {cat}')\n",
    "    central_measures(series)\n",
    "    print('\\n\\n')\n"
   ]
  },
  {
   "cell_type": "code",
   "execution_count": 46,
   "metadata": {},
   "outputs": [
    {
     "data": {
      "text/plain": [
       "0    0.702374\n",
       "1    0.224893\n",
       "2    0.072733\n",
       "Name: categ, dtype: float64"
      ]
     },
     "execution_count": 46,
     "metadata": {},
     "output_type": "execute_result"
    }
   ],
   "source": [
    "categ_freq = products['categ'].value_counts(normalize=True)\n",
    "categ_freq"
   ]
  },
  {
   "cell_type": "code",
   "execution_count": 47,
   "metadata": {},
   "outputs": [
    {
     "data": {
      "text/plain": [
       "<matplotlib.axes._subplots.AxesSubplot at 0x10e7e05c0>"
      ]
     },
     "execution_count": 47,
     "metadata": {},
     "output_type": "execute_result"
    },
    {
     "data": {
      "image/png": "[encoded data removed]",
      "text/plain": [
       "<Figure size 432x288 with 1 Axes>"
      ]
     },
     "metadata": {},
     "output_type": "display_data"
    }
   ],
   "source": [
    "categ_freq.plot(kind='pie')"
   ]
  },
  {
   "cell_type": "markdown",
   "metadata": {},
   "source": [
    "- Merge les tables en un dataframe\n",
    "- Transcrire les dates en mois heures autres\n",
    "- Calculer CA par exemple"
   ]
  },
  {
   "cell_type": "markdown",
   "metadata": {},
   "source": [
    "## Building main dataframe\n",
    "\n",
    "Nous procedons au merge des donnees sur la base des cles primaires et etrangeres identifiees comme suit:\n",
    "- customers avec comme cle primaire 'client_id'\n",
    "- products avec comme cle primaire 'id_prod'\n",
    "- transactions avec comme cles etrangeres 'client_id' et 'id_prod'"
   ]
  },
  {
   "cell_type": "markdown",
   "metadata": {},
   "source": [
    "Dans une premiere etape, realiser des jointures externes permet d'identifier les cles non utilisees ou non definies. On realise ainsi les jointures par etapes:\n",
    "- produits avec transactions.\n",
    "- le dataframe resultant de l'operation precedente avec les clients"
   ]
  },
  {
   "cell_type": "code",
   "execution_count": 48,
   "metadata": {},
   "outputs": [],
   "source": [
    "data = pd.merge(products, transactions, on='id_prod', how='outer')"
   ]
  },
  {
   "cell_type": "code",
   "execution_count": 49,
   "metadata": {},
   "outputs": [
    {
     "name": "stdout",
     "output_type": "stream",
     "text": [
      "<class 'pandas.core.frame.DataFrame'>\n",
      "Int64Index: 336838 entries, 0 to 336837\n",
      "Data columns (total 7 columns):\n",
      "id_prod       336838 non-null object\n",
      "price         336735 non-null float64\n",
      "categ         336735 non-null float64\n",
      "date          336816 non-null object\n",
      "session_id    336816 non-null object\n",
      "client_id     336816 non-null object\n",
      "test          336816 non-null object\n",
      "dtypes: float64(2), object(5)\n",
      "memory usage: 20.6+ MB\n"
     ]
    }
   ],
   "source": [
    "data.info()\n"
   ]
  },
  {
   "cell_type": "markdown",
   "metadata": {},
   "source": [
    "Il y'a des produits non references dans les transactions: des produits sans prix ou categorie renseignee."
   ]
  },
  {
   "cell_type": "code",
   "execution_count": 50,
   "metadata": {},
   "outputs": [
    {
     "data": {
      "text/html": [
       "<div>\n",
       "<style scoped>\n",
       "    .dataframe tbody tr th:only-of-type {\n",
       "        vertical-align: middle;\n",
       "    }\n",
       "\n",
       "    .dataframe tbody tr th {\n",
       "        vertical-align: top;\n",
       "    }\n",
       "\n",
       "    .dataframe thead th {\n",
       "        text-align: right;\n",
       "    }\n",
       "</style>\n",
       "<table border=\"1\" class=\"dataframe\">\n",
       "  <thead>\n",
       "    <tr style=\"text-align: right;\">\n",
       "      <th></th>\n",
       "      <th>id_prod</th>\n",
       "      <th>price</th>\n",
       "      <th>categ</th>\n",
       "      <th>session_id</th>\n",
       "    </tr>\n",
       "  </thead>\n",
       "  <tbody>\n",
       "    <tr>\n",
       "      <td>336735</td>\n",
       "      <td>0_2245</td>\n",
       "      <td>NaN</td>\n",
       "      <td>NaN</td>\n",
       "      <td>s_49705</td>\n",
       "    </tr>\n",
       "    <tr>\n",
       "      <td>336736</td>\n",
       "      <td>0_2245</td>\n",
       "      <td>NaN</td>\n",
       "      <td>NaN</td>\n",
       "      <td>s_49323</td>\n",
       "    </tr>\n",
       "    <tr>\n",
       "      <td>336737</td>\n",
       "      <td>0_2245</td>\n",
       "      <td>NaN</td>\n",
       "      <td>NaN</td>\n",
       "      <td>s_124474</td>\n",
       "    </tr>\n",
       "    <tr>\n",
       "      <td>336738</td>\n",
       "      <td>0_2245</td>\n",
       "      <td>NaN</td>\n",
       "      <td>NaN</td>\n",
       "      <td>s_172304</td>\n",
       "    </tr>\n",
       "    <tr>\n",
       "      <td>336739</td>\n",
       "      <td>0_2245</td>\n",
       "      <td>NaN</td>\n",
       "      <td>NaN</td>\n",
       "      <td>s_3</td>\n",
       "    </tr>\n",
       "    <tr>\n",
       "      <td>...</td>\n",
       "      <td>...</td>\n",
       "      <td>...</td>\n",
       "      <td>...</td>\n",
       "      <td>...</td>\n",
       "    </tr>\n",
       "    <tr>\n",
       "      <td>336833</td>\n",
       "      <td>0_2245</td>\n",
       "      <td>NaN</td>\n",
       "      <td>NaN</td>\n",
       "      <td>s_16936</td>\n",
       "    </tr>\n",
       "    <tr>\n",
       "      <td>336834</td>\n",
       "      <td>0_2245</td>\n",
       "      <td>NaN</td>\n",
       "      <td>NaN</td>\n",
       "      <td>s_13738</td>\n",
       "    </tr>\n",
       "    <tr>\n",
       "      <td>336835</td>\n",
       "      <td>0_2245</td>\n",
       "      <td>NaN</td>\n",
       "      <td>NaN</td>\n",
       "      <td>s_128815</td>\n",
       "    </tr>\n",
       "    <tr>\n",
       "      <td>336836</td>\n",
       "      <td>0_2245</td>\n",
       "      <td>NaN</td>\n",
       "      <td>NaN</td>\n",
       "      <td>s_26624</td>\n",
       "    </tr>\n",
       "    <tr>\n",
       "      <td>336837</td>\n",
       "      <td>0_2245</td>\n",
       "      <td>NaN</td>\n",
       "      <td>NaN</td>\n",
       "      <td>s_28235</td>\n",
       "    </tr>\n",
       "  </tbody>\n",
       "</table>\n",
       "<p>103 rows × 4 columns</p>\n",
       "</div>"
      ],
      "text/plain": [
       "       id_prod  price  categ session_id\n",
       "336735  0_2245    NaN    NaN    s_49705\n",
       "336736  0_2245    NaN    NaN    s_49323\n",
       "336737  0_2245    NaN    NaN   s_124474\n",
       "336738  0_2245    NaN    NaN   s_172304\n",
       "336739  0_2245    NaN    NaN        s_3\n",
       "...        ...    ...    ...        ...\n",
       "336833  0_2245    NaN    NaN    s_16936\n",
       "336834  0_2245    NaN    NaN    s_13738\n",
       "336835  0_2245    NaN    NaN   s_128815\n",
       "336836  0_2245    NaN    NaN    s_26624\n",
       "336837  0_2245    NaN    NaN    s_28235\n",
       "\n",
       "[103 rows x 4 columns]"
      ]
     },
     "execution_count": 50,
     "metadata": {},
     "output_type": "execute_result"
    }
   ],
   "source": [
    "prod_undef = data.loc[data['price'].isnull(), ['id_prod', 'price', 'categ', 'session_id']].copy()\n",
    "prod_undef"
   ]
  },
  {
   "cell_type": "code",
   "execution_count": 51,
   "metadata": {},
   "outputs": [
    {
     "data": {
      "text/html": [
       "<div>\n",
       "<style scoped>\n",
       "    .dataframe tbody tr th:only-of-type {\n",
       "        vertical-align: middle;\n",
       "    }\n",
       "\n",
       "    .dataframe tbody tr th {\n",
       "        vertical-align: top;\n",
       "    }\n",
       "\n",
       "    .dataframe thead th {\n",
       "        text-align: right;\n",
       "    }\n",
       "</style>\n",
       "<table border=\"1\" class=\"dataframe\">\n",
       "  <thead>\n",
       "    <tr style=\"text-align: right;\">\n",
       "      <th></th>\n",
       "      <th>id_prod</th>\n",
       "      <th>price</th>\n",
       "      <th>categ</th>\n",
       "      <th>session_id</th>\n",
       "    </tr>\n",
       "  </thead>\n",
       "  <tbody>\n",
       "    <tr>\n",
       "      <td>336735</td>\n",
       "      <td>0_2245</td>\n",
       "      <td>NaN</td>\n",
       "      <td>NaN</td>\n",
       "      <td>s_49705</td>\n",
       "    </tr>\n",
       "    <tr>\n",
       "      <td>336736</td>\n",
       "      <td>0_2245</td>\n",
       "      <td>NaN</td>\n",
       "      <td>NaN</td>\n",
       "      <td>s_49323</td>\n",
       "    </tr>\n",
       "    <tr>\n",
       "      <td>336737</td>\n",
       "      <td>0_2245</td>\n",
       "      <td>NaN</td>\n",
       "      <td>NaN</td>\n",
       "      <td>s_124474</td>\n",
       "    </tr>\n",
       "    <tr>\n",
       "      <td>336738</td>\n",
       "      <td>0_2245</td>\n",
       "      <td>NaN</td>\n",
       "      <td>NaN</td>\n",
       "      <td>s_172304</td>\n",
       "    </tr>\n",
       "    <tr>\n",
       "      <td>336739</td>\n",
       "      <td>0_2245</td>\n",
       "      <td>NaN</td>\n",
       "      <td>NaN</td>\n",
       "      <td>s_3</td>\n",
       "    </tr>\n",
       "    <tr>\n",
       "      <td>...</td>\n",
       "      <td>...</td>\n",
       "      <td>...</td>\n",
       "      <td>...</td>\n",
       "      <td>...</td>\n",
       "    </tr>\n",
       "    <tr>\n",
       "      <td>336833</td>\n",
       "      <td>0_2245</td>\n",
       "      <td>NaN</td>\n",
       "      <td>NaN</td>\n",
       "      <td>s_16936</td>\n",
       "    </tr>\n",
       "    <tr>\n",
       "      <td>336834</td>\n",
       "      <td>0_2245</td>\n",
       "      <td>NaN</td>\n",
       "      <td>NaN</td>\n",
       "      <td>s_13738</td>\n",
       "    </tr>\n",
       "    <tr>\n",
       "      <td>336835</td>\n",
       "      <td>0_2245</td>\n",
       "      <td>NaN</td>\n",
       "      <td>NaN</td>\n",
       "      <td>s_128815</td>\n",
       "    </tr>\n",
       "    <tr>\n",
       "      <td>336836</td>\n",
       "      <td>0_2245</td>\n",
       "      <td>NaN</td>\n",
       "      <td>NaN</td>\n",
       "      <td>s_26624</td>\n",
       "    </tr>\n",
       "    <tr>\n",
       "      <td>336837</td>\n",
       "      <td>0_2245</td>\n",
       "      <td>NaN</td>\n",
       "      <td>NaN</td>\n",
       "      <td>s_28235</td>\n",
       "    </tr>\n",
       "  </tbody>\n",
       "</table>\n",
       "<p>103 rows × 4 columns</p>\n",
       "</div>"
      ],
      "text/plain": [
       "       id_prod  price  categ session_id\n",
       "336735  0_2245    NaN    NaN    s_49705\n",
       "336736  0_2245    NaN    NaN    s_49323\n",
       "336737  0_2245    NaN    NaN   s_124474\n",
       "336738  0_2245    NaN    NaN   s_172304\n",
       "336739  0_2245    NaN    NaN        s_3\n",
       "...        ...    ...    ...        ...\n",
       "336833  0_2245    NaN    NaN    s_16936\n",
       "336834  0_2245    NaN    NaN    s_13738\n",
       "336835  0_2245    NaN    NaN   s_128815\n",
       "336836  0_2245    NaN    NaN    s_26624\n",
       "336837  0_2245    NaN    NaN    s_28235\n",
       "\n",
       "[103 rows x 4 columns]"
      ]
     },
     "execution_count": 51,
     "metadata": {},
     "output_type": "execute_result"
    }
   ],
   "source": [
    "unknown_prod_mask = prod_undef['id_prod'] == '0_2245'\n",
    "prod_undef.loc[unknown_prod_mask]"
   ]
  },
  {
   "cell_type": "code",
   "execution_count": 52,
   "metadata": {},
   "outputs": [
    {
     "data": {
      "text/plain": [
       "array(['0_2245'], dtype=object)"
      ]
     },
     "execution_count": 52,
     "metadata": {},
     "output_type": "execute_result"
    }
   ],
   "source": [
    "prod_undef['id_prod'].unique()"
   ]
  },
  {
   "cell_type": "markdown",
   "metadata": {},
   "source": [
    "Un des produits dans les transactions n'est pas repertorie, ni en termes de prix, ni en termes de categorie.\n",
    "Il sera supprime de l'etude.\n",
    "Il represente 103 transactions. produit de categorie 0, sans reel impact sur l'analyse car moins de 1% des transactions."
   ]
  },
  {
   "cell_type": "code",
   "execution_count": 53,
   "metadata": {},
   "outputs": [],
   "source": [
    "data = pd.merge(data, customers, on='client_id', how='outer')"
   ]
  },
  {
   "cell_type": "code",
   "execution_count": 54,
   "metadata": {},
   "outputs": [
    {
     "name": "stdout",
     "output_type": "stream",
     "text": [
      "<class 'pandas.core.frame.DataFrame'>\n",
      "Int64Index: 336859 entries, 0 to 336858\n",
      "Data columns (total 10 columns):\n",
      "id_prod       336838 non-null object\n",
      "price         336735 non-null float64\n",
      "categ         336735 non-null float64\n",
      "date          336816 non-null object\n",
      "session_id    336816 non-null object\n",
      "client_id     336837 non-null object\n",
      "test          336816 non-null object\n",
      "sex           336837 non-null object\n",
      "birth         336837 non-null float64\n",
      "age           336837 non-null float64\n",
      "dtypes: float64(4), object(6)\n",
      "memory usage: 28.3+ MB\n"
     ]
    }
   ],
   "source": [
    "data.info()"
   ]
  },
  {
   "cell_type": "markdown",
   "metadata": {},
   "source": [
    "### Unsold products"
   ]
  },
  {
   "cell_type": "code",
   "execution_count": 55,
   "metadata": {},
   "outputs": [],
   "source": [
    "session_undef = data.loc[data['session_id'].isnull(), ['id_prod', 'price', 'categ', 'session_id', 'client_id']].copy()"
   ]
  },
  {
   "cell_type": "code",
   "execution_count": 56,
   "metadata": {},
   "outputs": [
    {
     "data": {
      "text/plain": [
       "['0_1016',\n",
       " '0_1780',\n",
       " '0_1062',\n",
       " '0_1119',\n",
       " '0_1014',\n",
       " '1_0',\n",
       " '0_1318',\n",
       " '0_1800',\n",
       " '0_1645',\n",
       " '0_322',\n",
       " '0_1620',\n",
       " '0_1025',\n",
       " '2_87',\n",
       " '1_394',\n",
       " '2_72',\n",
       " '0_310',\n",
       " '0_1624',\n",
       " '0_525',\n",
       " '2_86',\n",
       " '0_299',\n",
       " '0_510',\n",
       " '0_2308']"
      ]
     },
     "execution_count": 56,
     "metadata": {},
     "output_type": "execute_result"
    }
   ],
   "source": [
    "unsold_product = session_undef['id_prod'].dropna().unique().tolist()\n",
    "unsold_product"
   ]
  },
  {
   "cell_type": "markdown",
   "metadata": {},
   "source": [
    "### Not purchasing customers"
   ]
  },
  {
   "cell_type": "code",
   "execution_count": 57,
   "metadata": {},
   "outputs": [
    {
     "data": {
      "text/plain": [
       "['c_8253',\n",
       " 'c_3789',\n",
       " 'c_4406',\n",
       " 'c_2706',\n",
       " 'c_3443',\n",
       " 'c_4447',\n",
       " 'c_3017',\n",
       " 'c_4086',\n",
       " 'c_6930',\n",
       " 'c_4358',\n",
       " 'c_8381',\n",
       " 'c_1223',\n",
       " 'c_6862',\n",
       " 'c_5245',\n",
       " 'c_5223',\n",
       " 'c_6735',\n",
       " 'c_862',\n",
       " 'c_7584',\n",
       " 'c_90',\n",
       " 'c_587',\n",
       " 'c_3526']"
      ]
     },
     "execution_count": 57,
     "metadata": {},
     "output_type": "execute_result"
    }
   ],
   "source": [
    "freeloader = session_undef['client_id'].dropna().unique().tolist()\n",
    "freeloader"
   ]
  },
  {
   "cell_type": "code",
   "execution_count": 58,
   "metadata": {},
   "outputs": [
    {
     "name": "stdout",
     "output_type": "stream",
     "text": [
      "<class 'pandas.core.frame.DataFrame'>\n",
      "Int64Index: 336859 entries, 0 to 336858\n",
      "Data columns (total 10 columns):\n",
      "id_prod       336838 non-null object\n",
      "price         336735 non-null float64\n",
      "categ         336735 non-null float64\n",
      "date          336816 non-null object\n",
      "session_id    336816 non-null object\n",
      "client_id     336837 non-null object\n",
      "test          336816 non-null object\n",
      "sex           336837 non-null object\n",
      "birth         336837 non-null float64\n",
      "age           336837 non-null float64\n",
      "dtypes: float64(4), object(6)\n",
      "memory usage: 28.3+ MB\n"
     ]
    }
   ],
   "source": [
    "data.info()"
   ]
  },
  {
   "cell_type": "markdown",
   "metadata": {},
   "source": [
    "### Ajouter la temporalite des donnees de transactions plus comptage et ratio des produits et clients non presents"
   ]
  },
  {
   "cell_type": "code",
   "execution_count": 59,
   "metadata": {},
   "outputs": [
    {
     "name": "stdout",
     "output_type": "stream",
     "text": [
      "<class 'pandas.core.frame.DataFrame'>\n",
      "Int64Index: 336713 entries, 0 to 336837\n",
      "Data columns (total 10 columns):\n",
      "id_prod       336713 non-null object\n",
      "price         336713 non-null float64\n",
      "categ         336713 non-null float64\n",
      "date          336713 non-null object\n",
      "session_id    336713 non-null object\n",
      "client_id     336713 non-null object\n",
      "test          336713 non-null object\n",
      "sex           336713 non-null object\n",
      "birth         336713 non-null float64\n",
      "age           336713 non-null float64\n",
      "dtypes: float64(4), object(6)\n",
      "memory usage: 28.3+ MB\n"
     ]
    }
   ],
   "source": [
    "book = data.dropna(axis='index', subset=['session_id'])\n",
    "unknown_prod_mask = data['id_prod'] != '0_2245'\n",
    "book = book.loc[unknown_prod_mask]\n",
    "book.info()"
   ]
  },
  {
   "cell_type": "code",
   "execution_count": 60,
   "metadata": {},
   "outputs": [],
   "source": [
    "book = book.set_index(['date', 'session_id'])"
   ]
  },
  {
   "cell_type": "code",
   "execution_count": 61,
   "metadata": {},
   "outputs": [],
   "source": [
    "book = book.sort_values('date')\n",
    "book = book.reset_index()"
   ]
  },
  {
   "cell_type": "markdown",
   "metadata": {},
   "source": [
    "Nous disposons d'un dataframe de travail trie par date et session, a partir duquel nous allons pouvoir effectuer des calculs, obtenir de nouvelles donnees. On peut ainsi evaluer:\n",
    "- le CA par jour, mois, trimestre \n",
    "- repartition du chiffre d'affaire realise par client pour voir la base fidele par exemple\n",
    "- evaluer la frequence d'achat par client\n",
    "- faire une cartographie des categorie de produits achetes selon l'age ou le sexe des individus"
   ]
  },
  {
   "cell_type": "markdown",
   "metadata": {},
   "source": [
    "## Analyses univariees\n",
    "\n",
    "- [x] des indicateurs de tendance centrale et de dispersion\n",
    "- [x] une analyse de concentration, via une courbe de Lorenz et un indice de Gini\n",
    "- [x] des représentations graphiques, dont au moins un histogramme, une représentation avec des \"boites à moustaches\", et \n",
    "- [x] une représentation de série temporelle (c’est à dire un graphique dont l’axe des abscisses représente des dates)\n",
    "- [ ] des analyses bivariées"
   ]
  },
  {
   "cell_type": "code",
   "execution_count": 62,
   "metadata": {},
   "outputs": [],
   "source": [
    "book['date'] = pd.to_datetime(book['date'])\n",
    "book['date_Ym'] = book['date'].dt.strftime('%Y-%m')"
   ]
  },
  {
   "cell_type": "code",
   "execution_count": 63,
   "metadata": {},
   "outputs": [],
   "source": [
    "book['date_Ymd'] = book['date'].dt.strftime('%Y-%m-%d')"
   ]
  },
  {
   "cell_type": "code",
   "execution_count": 64,
   "metadata": {},
   "outputs": [
    {
     "data": {
      "text/html": [
       "<div>\n",
       "<style scoped>\n",
       "    .dataframe tbody tr th:only-of-type {\n",
       "        vertical-align: middle;\n",
       "    }\n",
       "\n",
       "    .dataframe tbody tr th {\n",
       "        vertical-align: top;\n",
       "    }\n",
       "\n",
       "    .dataframe thead th {\n",
       "        text-align: right;\n",
       "    }\n",
       "</style>\n",
       "<table border=\"1\" class=\"dataframe\">\n",
       "  <thead>\n",
       "    <tr style=\"text-align: right;\">\n",
       "      <th></th>\n",
       "      <th>date</th>\n",
       "      <th>session_id</th>\n",
       "      <th>id_prod</th>\n",
       "      <th>price</th>\n",
       "      <th>categ</th>\n",
       "      <th>client_id</th>\n",
       "      <th>test</th>\n",
       "      <th>sex</th>\n",
       "      <th>birth</th>\n",
       "      <th>age</th>\n",
       "      <th>date_Ym</th>\n",
       "      <th>date_Ymd</th>\n",
       "    </tr>\n",
       "  </thead>\n",
       "  <tbody>\n",
       "    <tr>\n",
       "      <td>0</td>\n",
       "      <td>2021-03-01 00:01:07.843138</td>\n",
       "      <td>s_1</td>\n",
       "      <td>0_1259</td>\n",
       "      <td>11.99</td>\n",
       "      <td>0.0</td>\n",
       "      <td>c_329</td>\n",
       "      <td>False</td>\n",
       "      <td>f</td>\n",
       "      <td>1967.0</td>\n",
       "      <td>52.0</td>\n",
       "      <td>2021-03</td>\n",
       "      <td>2021-03-01</td>\n",
       "    </tr>\n",
       "    <tr>\n",
       "      <td>1</td>\n",
       "      <td>2021-03-01 00:02:26.047414</td>\n",
       "      <td>s_2</td>\n",
       "      <td>0_1390</td>\n",
       "      <td>19.37</td>\n",
       "      <td>0.0</td>\n",
       "      <td>c_664</td>\n",
       "      <td>False</td>\n",
       "      <td>m</td>\n",
       "      <td>1960.0</td>\n",
       "      <td>59.0</td>\n",
       "      <td>2021-03</td>\n",
       "      <td>2021-03-01</td>\n",
       "    </tr>\n",
       "    <tr>\n",
       "      <td>2</td>\n",
       "      <td>2021-03-01 00:02:38.311413</td>\n",
       "      <td>s_3</td>\n",
       "      <td>0_1352</td>\n",
       "      <td>4.50</td>\n",
       "      <td>0.0</td>\n",
       "      <td>c_580</td>\n",
       "      <td>False</td>\n",
       "      <td>m</td>\n",
       "      <td>1988.0</td>\n",
       "      <td>31.0</td>\n",
       "      <td>2021-03</td>\n",
       "      <td>2021-03-01</td>\n",
       "    </tr>\n",
       "    <tr>\n",
       "      <td>3</td>\n",
       "      <td>2021-03-01 00:04:54.559692</td>\n",
       "      <td>s_4</td>\n",
       "      <td>0_1458</td>\n",
       "      <td>6.55</td>\n",
       "      <td>0.0</td>\n",
       "      <td>c_7912</td>\n",
       "      <td>False</td>\n",
       "      <td>f</td>\n",
       "      <td>1989.0</td>\n",
       "      <td>30.0</td>\n",
       "      <td>2021-03</td>\n",
       "      <td>2021-03-01</td>\n",
       "    </tr>\n",
       "    <tr>\n",
       "      <td>4</td>\n",
       "      <td>2021-03-01 00:05:18.801198</td>\n",
       "      <td>s_5</td>\n",
       "      <td>0_1358</td>\n",
       "      <td>16.49</td>\n",
       "      <td>0.0</td>\n",
       "      <td>c_2033</td>\n",
       "      <td>False</td>\n",
       "      <td>f</td>\n",
       "      <td>1956.0</td>\n",
       "      <td>63.0</td>\n",
       "      <td>2021-03</td>\n",
       "      <td>2021-03-01</td>\n",
       "    </tr>\n",
       "    <tr>\n",
       "      <td>...</td>\n",
       "      <td>...</td>\n",
       "      <td>...</td>\n",
       "      <td>...</td>\n",
       "      <td>...</td>\n",
       "      <td>...</td>\n",
       "      <td>...</td>\n",
       "      <td>...</td>\n",
       "      <td>...</td>\n",
       "      <td>...</td>\n",
       "      <td>...</td>\n",
       "      <td>...</td>\n",
       "      <td>...</td>\n",
       "    </tr>\n",
       "    <tr>\n",
       "      <td>336708</td>\n",
       "      <td>2022-02-28 23:56:57.196281</td>\n",
       "      <td>s_172422</td>\n",
       "      <td>1_456</td>\n",
       "      <td>28.27</td>\n",
       "      <td>1.0</td>\n",
       "      <td>c_5787</td>\n",
       "      <td>False</td>\n",
       "      <td>f</td>\n",
       "      <td>1986.0</td>\n",
       "      <td>33.0</td>\n",
       "      <td>2022-02</td>\n",
       "      <td>2022-02-28</td>\n",
       "    </tr>\n",
       "    <tr>\n",
       "      <td>336709</td>\n",
       "      <td>2022-02-28 23:56:57.561424</td>\n",
       "      <td>s_172423</td>\n",
       "      <td>1_370</td>\n",
       "      <td>13.11</td>\n",
       "      <td>1.0</td>\n",
       "      <td>c_1460</td>\n",
       "      <td>False</td>\n",
       "      <td>m</td>\n",
       "      <td>1989.0</td>\n",
       "      <td>30.0</td>\n",
       "      <td>2022-02</td>\n",
       "      <td>2022-02-28</td>\n",
       "    </tr>\n",
       "    <tr>\n",
       "      <td>336710</td>\n",
       "      <td>2022-02-28 23:57:12.741573</td>\n",
       "      <td>s_172424</td>\n",
       "      <td>0_1538</td>\n",
       "      <td>8.61</td>\n",
       "      <td>0.0</td>\n",
       "      <td>c_1876</td>\n",
       "      <td>False</td>\n",
       "      <td>m</td>\n",
       "      <td>1983.0</td>\n",
       "      <td>36.0</td>\n",
       "      <td>2022-02</td>\n",
       "      <td>2022-02-28</td>\n",
       "    </tr>\n",
       "    <tr>\n",
       "      <td>336711</td>\n",
       "      <td>2022-02-28 23:59:02.381670</td>\n",
       "      <td>s_172423</td>\n",
       "      <td>0_1403</td>\n",
       "      <td>15.99</td>\n",
       "      <td>0.0</td>\n",
       "      <td>c_1460</td>\n",
       "      <td>False</td>\n",
       "      <td>m</td>\n",
       "      <td>1989.0</td>\n",
       "      <td>30.0</td>\n",
       "      <td>2022-02</td>\n",
       "      <td>2022-02-28</td>\n",
       "    </tr>\n",
       "    <tr>\n",
       "      <td>336712</td>\n",
       "      <td>2022-02-28 23:59:58.040472</td>\n",
       "      <td>s_172423</td>\n",
       "      <td>0_1775</td>\n",
       "      <td>6.99</td>\n",
       "      <td>0.0</td>\n",
       "      <td>c_1460</td>\n",
       "      <td>False</td>\n",
       "      <td>m</td>\n",
       "      <td>1989.0</td>\n",
       "      <td>30.0</td>\n",
       "      <td>2022-02</td>\n",
       "      <td>2022-02-28</td>\n",
       "    </tr>\n",
       "  </tbody>\n",
       "</table>\n",
       "<p>336713 rows × 12 columns</p>\n",
       "</div>"
      ],
      "text/plain": [
       "                             date session_id id_prod  price  categ client_id  \\\n",
       "0      2021-03-01 00:01:07.843138        s_1  0_1259  11.99    0.0     c_329   \n",
       "1      2021-03-01 00:02:26.047414        s_2  0_1390  19.37    0.0     c_664   \n",
       "2      2021-03-01 00:02:38.311413        s_3  0_1352   4.50    0.0     c_580   \n",
       "3      2021-03-01 00:04:54.559692        s_4  0_1458   6.55    0.0    c_7912   \n",
       "4      2021-03-01 00:05:18.801198        s_5  0_1358  16.49    0.0    c_2033   \n",
       "...                           ...        ...     ...    ...    ...       ...   \n",
       "336708 2022-02-28 23:56:57.196281   s_172422   1_456  28.27    1.0    c_5787   \n",
       "336709 2022-02-28 23:56:57.561424   s_172423   1_370  13.11    1.0    c_1460   \n",
       "336710 2022-02-28 23:57:12.741573   s_172424  0_1538   8.61    0.0    c_1876   \n",
       "336711 2022-02-28 23:59:02.381670   s_172423  0_1403  15.99    0.0    c_1460   \n",
       "336712 2022-02-28 23:59:58.040472   s_172423  0_1775   6.99    0.0    c_1460   \n",
       "\n",
       "         test sex   birth   age  date_Ym    date_Ymd  \n",
       "0       False   f  1967.0  52.0  2021-03  2021-03-01  \n",
       "1       False   m  1960.0  59.0  2021-03  2021-03-01  \n",
       "2       False   m  1988.0  31.0  2021-03  2021-03-01  \n",
       "3       False   f  1989.0  30.0  2021-03  2021-03-01  \n",
       "4       False   f  1956.0  63.0  2021-03  2021-03-01  \n",
       "...       ...  ..     ...   ...      ...         ...  \n",
       "336708  False   f  1986.0  33.0  2022-02  2022-02-28  \n",
       "336709  False   m  1989.0  30.0  2022-02  2022-02-28  \n",
       "336710  False   m  1983.0  36.0  2022-02  2022-02-28  \n",
       "336711  False   m  1989.0  30.0  2022-02  2022-02-28  \n",
       "336712  False   m  1989.0  30.0  2022-02  2022-02-28  \n",
       "\n",
       "[336713 rows x 12 columns]"
      ]
     },
     "execution_count": 64,
     "metadata": {},
     "output_type": "execute_result"
    }
   ],
   "source": [
    "book"
   ]
  },
  {
   "cell_type": "markdown",
   "metadata": {},
   "source": [
    "### Ventes - transactions"
   ]
  },
  {
   "cell_type": "code",
   "execution_count": 65,
   "metadata": {},
   "outputs": [
    {
     "data": {
      "text/plain": [
       "<matplotlib.axes._subplots.AxesSubplot at 0x11d40d4e0>"
      ]
     },
     "execution_count": 65,
     "metadata": {},
     "output_type": "execute_result"
    },
    {
     "data": {
      "image/png": "[encoded data removed]",
      "text/plain": [
       "<Figure size 432x288 with 1 Axes>"
      ]
     },
     "metadata": {},
     "output_type": "display_data"
    }
   ],
   "source": [
    "book['categ'].value_counts().plot(kind='pie', labels=['cat0', 'cat1', 'cat2'], autopct='%1.1f%%',shadow=True)"
   ]
  },
  {
   "cell_type": "markdown",
   "metadata": {},
   "source": [
    "### Ventes- chiffre d'affaires"
   ]
  },
  {
   "cell_type": "code",
   "execution_count": 135,
   "metadata": {},
   "outputs": [
    {
     "data": {
      "text/html": [
       "<div>\n",
       "<style scoped>\n",
       "    .dataframe tbody tr th:only-of-type {\n",
       "        vertical-align: middle;\n",
       "    }\n",
       "\n",
       "    .dataframe tbody tr th {\n",
       "        vertical-align: top;\n",
       "    }\n",
       "\n",
       "    .dataframe thead th {\n",
       "        text-align: right;\n",
       "    }\n",
       "</style>\n",
       "<table border=\"1\" class=\"dataframe\">\n",
       "  <thead>\n",
       "    <tr style=\"text-align: right;\">\n",
       "      <th></th>\n",
       "      <th>date</th>\n",
       "      <th>session_id</th>\n",
       "      <th>id_prod</th>\n",
       "      <th>price</th>\n",
       "      <th>categ</th>\n",
       "      <th>client_id</th>\n",
       "      <th>test</th>\n",
       "      <th>sex</th>\n",
       "      <th>birth</th>\n",
       "      <th>age</th>\n",
       "      <th>date_Ym</th>\n",
       "      <th>date_Ymd</th>\n",
       "    </tr>\n",
       "  </thead>\n",
       "  <tbody>\n",
       "    <tr>\n",
       "      <td>8</td>\n",
       "      <td>2021-03-01 00:09:11.523122</td>\n",
       "      <td>s_8</td>\n",
       "      <td>1_445</td>\n",
       "      <td>23.99</td>\n",
       "      <td>1.0</td>\n",
       "      <td>c_7991</td>\n",
       "      <td>False</td>\n",
       "      <td>m</td>\n",
       "      <td>1968.0</td>\n",
       "      <td>51.0</td>\n",
       "      <td>2021-03</td>\n",
       "      <td>2021-03-01</td>\n",
       "    </tr>\n",
       "    <tr>\n",
       "      <td>9</td>\n",
       "      <td>2021-03-01 00:10:20.265265</td>\n",
       "      <td>s_9</td>\n",
       "      <td>1_556</td>\n",
       "      <td>24.47</td>\n",
       "      <td>1.0</td>\n",
       "      <td>c_6171</td>\n",
       "      <td>False</td>\n",
       "      <td>m</td>\n",
       "      <td>1983.0</td>\n",
       "      <td>36.0</td>\n",
       "      <td>2021-03</td>\n",
       "      <td>2021-03-01</td>\n",
       "    </tr>\n",
       "    <tr>\n",
       "      <td>10</td>\n",
       "      <td>2021-03-01 00:10:33.163037</td>\n",
       "      <td>s_10</td>\n",
       "      <td>1_635</td>\n",
       "      <td>26.99</td>\n",
       "      <td>1.0</td>\n",
       "      <td>c_2218</td>\n",
       "      <td>False</td>\n",
       "      <td>f</td>\n",
       "      <td>1970.0</td>\n",
       "      <td>49.0</td>\n",
       "      <td>2021-03</td>\n",
       "      <td>2021-03-01</td>\n",
       "    </tr>\n",
       "    <tr>\n",
       "      <td>14</td>\n",
       "      <td>2021-03-01 00:12:38.133768</td>\n",
       "      <td>s_12</td>\n",
       "      <td>1_503</td>\n",
       "      <td>26.99</td>\n",
       "      <td>1.0</td>\n",
       "      <td>c_2505</td>\n",
       "      <td>False</td>\n",
       "      <td>f</td>\n",
       "      <td>1982.0</td>\n",
       "      <td>37.0</td>\n",
       "      <td>2021-03</td>\n",
       "      <td>2021-03-01</td>\n",
       "    </tr>\n",
       "    <tr>\n",
       "      <td>17</td>\n",
       "      <td>2021-03-01 00:17:11.089942</td>\n",
       "      <td>s_4</td>\n",
       "      <td>1_310</td>\n",
       "      <td>14.20</td>\n",
       "      <td>1.0</td>\n",
       "      <td>c_7912</td>\n",
       "      <td>False</td>\n",
       "      <td>f</td>\n",
       "      <td>1989.0</td>\n",
       "      <td>30.0</td>\n",
       "      <td>2021-03</td>\n",
       "      <td>2021-03-01</td>\n",
       "    </tr>\n",
       "    <tr>\n",
       "      <td>...</td>\n",
       "      <td>...</td>\n",
       "      <td>...</td>\n",
       "      <td>...</td>\n",
       "      <td>...</td>\n",
       "      <td>...</td>\n",
       "      <td>...</td>\n",
       "      <td>...</td>\n",
       "      <td>...</td>\n",
       "      <td>...</td>\n",
       "      <td>...</td>\n",
       "      <td>...</td>\n",
       "      <td>...</td>\n",
       "    </tr>\n",
       "    <tr>\n",
       "      <td>336693</td>\n",
       "      <td>2022-02-28 23:25:05.128894</td>\n",
       "      <td>s_172413</td>\n",
       "      <td>1_541</td>\n",
       "      <td>13.99</td>\n",
       "      <td>1.0</td>\n",
       "      <td>c_5030</td>\n",
       "      <td>False</td>\n",
       "      <td>f</td>\n",
       "      <td>1973.0</td>\n",
       "      <td>46.0</td>\n",
       "      <td>2022-02</td>\n",
       "      <td>2022-02-28</td>\n",
       "    </tr>\n",
       "    <tr>\n",
       "      <td>336695</td>\n",
       "      <td>2022-02-28 23:34:41.164958</td>\n",
       "      <td>s_172406</td>\n",
       "      <td>1_601</td>\n",
       "      <td>21.99</td>\n",
       "      <td>1.0</td>\n",
       "      <td>c_2996</td>\n",
       "      <td>False</td>\n",
       "      <td>m</td>\n",
       "      <td>1980.0</td>\n",
       "      <td>39.0</td>\n",
       "      <td>2022-02</td>\n",
       "      <td>2022-02-28</td>\n",
       "    </tr>\n",
       "    <tr>\n",
       "      <td>336697</td>\n",
       "      <td>2022-02-28 23:38:20.813781</td>\n",
       "      <td>s_172401</td>\n",
       "      <td>1_498</td>\n",
       "      <td>23.37</td>\n",
       "      <td>1.0</td>\n",
       "      <td>c_6979</td>\n",
       "      <td>False</td>\n",
       "      <td>f</td>\n",
       "      <td>1988.0</td>\n",
       "      <td>31.0</td>\n",
       "      <td>2022-02</td>\n",
       "      <td>2022-02-28</td>\n",
       "    </tr>\n",
       "    <tr>\n",
       "      <td>336708</td>\n",
       "      <td>2022-02-28 23:56:57.196281</td>\n",
       "      <td>s_172422</td>\n",
       "      <td>1_456</td>\n",
       "      <td>28.27</td>\n",
       "      <td>1.0</td>\n",
       "      <td>c_5787</td>\n",
       "      <td>False</td>\n",
       "      <td>f</td>\n",
       "      <td>1986.0</td>\n",
       "      <td>33.0</td>\n",
       "      <td>2022-02</td>\n",
       "      <td>2022-02-28</td>\n",
       "    </tr>\n",
       "    <tr>\n",
       "      <td>336709</td>\n",
       "      <td>2022-02-28 23:56:57.561424</td>\n",
       "      <td>s_172423</td>\n",
       "      <td>1_370</td>\n",
       "      <td>13.11</td>\n",
       "      <td>1.0</td>\n",
       "      <td>c_1460</td>\n",
       "      <td>False</td>\n",
       "      <td>m</td>\n",
       "      <td>1989.0</td>\n",
       "      <td>30.0</td>\n",
       "      <td>2022-02</td>\n",
       "      <td>2022-02-28</td>\n",
       "    </tr>\n",
       "  </tbody>\n",
       "</table>\n",
       "<p>109735 rows × 12 columns</p>\n",
       "</div>"
      ],
      "text/plain": [
       "                             date session_id id_prod  price  categ client_id  \\\n",
       "8      2021-03-01 00:09:11.523122        s_8   1_445  23.99    1.0    c_7991   \n",
       "9      2021-03-01 00:10:20.265265        s_9   1_556  24.47    1.0    c_6171   \n",
       "10     2021-03-01 00:10:33.163037       s_10   1_635  26.99    1.0    c_2218   \n",
       "14     2021-03-01 00:12:38.133768       s_12   1_503  26.99    1.0    c_2505   \n",
       "17     2021-03-01 00:17:11.089942        s_4   1_310  14.20    1.0    c_7912   \n",
       "...                           ...        ...     ...    ...    ...       ...   \n",
       "336693 2022-02-28 23:25:05.128894   s_172413   1_541  13.99    1.0    c_5030   \n",
       "336695 2022-02-28 23:34:41.164958   s_172406   1_601  21.99    1.0    c_2996   \n",
       "336697 2022-02-28 23:38:20.813781   s_172401   1_498  23.37    1.0    c_6979   \n",
       "336708 2022-02-28 23:56:57.196281   s_172422   1_456  28.27    1.0    c_5787   \n",
       "336709 2022-02-28 23:56:57.561424   s_172423   1_370  13.11    1.0    c_1460   \n",
       "\n",
       "         test sex   birth   age  date_Ym    date_Ymd  \n",
       "8       False   m  1968.0  51.0  2021-03  2021-03-01  \n",
       "9       False   m  1983.0  36.0  2021-03  2021-03-01  \n",
       "10      False   f  1970.0  49.0  2021-03  2021-03-01  \n",
       "14      False   f  1982.0  37.0  2021-03  2021-03-01  \n",
       "17      False   f  1989.0  30.0  2021-03  2021-03-01  \n",
       "...       ...  ..     ...   ...      ...         ...  \n",
       "336693  False   f  1973.0  46.0  2022-02  2022-02-28  \n",
       "336695  False   m  1980.0  39.0  2022-02  2022-02-28  \n",
       "336697  False   f  1988.0  31.0  2022-02  2022-02-28  \n",
       "336708  False   f  1986.0  33.0  2022-02  2022-02-28  \n",
       "336709  False   m  1989.0  30.0  2022-02  2022-02-28  \n",
       "\n",
       "[109735 rows x 12 columns]"
      ]
     },
     "execution_count": 135,
     "metadata": {},
     "output_type": "execute_result"
    }
   ],
   "source": [
    "cat1_mask = book['categ'] == 1\n",
    "sales_cat1_aday = book.loc[cat1_mask]\n",
    "sales_cat1_aday"
   ]
  },
  {
   "cell_type": "code",
   "execution_count": 141,
   "metadata": {},
   "outputs": [],
   "source": [
    "temp_mask = (sales_cat1_aday['date'] >= \"2021-09-30\") & (sales_cat1_aday['date'] <= \"2021-11-01\")\n",
    "sales_cat1_aday = sales_cat1_aday.loc[temp_mask]"
   ]
  },
  {
   "cell_type": "code",
   "execution_count": 142,
   "metadata": {},
   "outputs": [
    {
     "data": {
      "text/plain": [
       "date_Ymd\n",
       "2021-09-30    342\n",
       "2021-10-01    344\n",
       "2021-10-28    316\n",
       "2021-10-29    326\n",
       "2021-10-30    338\n",
       "2021-10-31    342\n",
       "Name: date, dtype: int64"
      ]
     },
     "execution_count": 142,
     "metadata": {},
     "output_type": "execute_result"
    }
   ],
   "source": [
    "sales_cat1_aday_serie = sales_cat1_aday.groupby('date_Ymd')['date'].count()\n",
    "sales_cat1_aday_serie"
   ]
  },
  {
   "cell_type": "code",
   "execution_count": 144,
   "metadata": {},
   "outputs": [
    {
     "data": {
      "text/plain": [
       "<matplotlib.axes._subplots.AxesSubplot at 0x12c000320>"
      ]
     },
     "execution_count": 144,
     "metadata": {},
     "output_type": "execute_result"
    },
    {
     "data": {
      "image/png": "[encoded data removed]",
      "text/plain": [
       "<Figure size 720x432 with 1 Axes>"
      ]
     },
     "metadata": {
      "needs_background": "light"
     },
     "output_type": "display_data"
    }
   ],
   "source": [
    "sales_cat1_aday_serie.plot(x='date_Ymd', figsize = (10,6))"
   ]
  },
  {
   "cell_type": "code",
   "execution_count": 68,
   "metadata": {},
   "outputs": [
    {
     "data": {
      "text/plain": [
       "([array([1.8500e+02, 4.3300e+02, 3.2250e+03, 1.7376e+04, 1.8431e+04,\n",
       "         1.3449e+04, 1.4645e+04, 1.3009e+04, 1.4968e+04, 1.3572e+04,\n",
       "         1.3543e+04, 1.3263e+04, 1.2003e+04, 9.3980e+03, 1.0028e+04,\n",
       "         1.0458e+04, 7.0080e+03, 8.4690e+03, 9.9430e+03, 4.7030e+03,\n",
       "         1.9200e+02, 2.2000e+02, 1.6100e+02, 1.1000e+02, 1.2500e+02,\n",
       "         7.0000e+01, 6.5000e+01, 5.7000e+01, 8.9000e+01, 3.0000e+01,\n",
       "         4.6000e+01, 3.7000e+01, 2.2000e+01, 5.0000e+00, 3.8000e+01,\n",
       "         0.0000e+00, 9.0000e+00, 2.6000e+01, 0.0000e+00, 1.1000e+01,\n",
       "         4.0000e+00, 0.0000e+00, 0.0000e+00, 0.0000e+00, 0.0000e+00,\n",
       "         0.0000e+00, 0.0000e+00, 0.0000e+00, 0.0000e+00, 0.0000e+00,\n",
       "         0.0000e+00, 0.0000e+00, 0.0000e+00, 0.0000e+00, 0.0000e+00,\n",
       "         0.0000e+00, 0.0000e+00, 0.0000e+00, 0.0000e+00, 0.0000e+00,\n",
       "         0.0000e+00, 0.0000e+00, 0.0000e+00, 0.0000e+00, 0.0000e+00,\n",
       "         0.0000e+00, 0.0000e+00, 0.0000e+00, 0.0000e+00, 0.0000e+00,\n",
       "         0.0000e+00, 0.0000e+00, 0.0000e+00, 0.0000e+00, 0.0000e+00,\n",
       "         0.0000e+00, 0.0000e+00, 0.0000e+00, 0.0000e+00]),\n",
       "  array([0.000e+00, 2.700e+01, 1.310e+02, 1.330e+02, 2.070e+02, 3.180e+02,\n",
       "         3.390e+02, 3.410e+02, 2.280e+02, 2.212e+03, 5.656e+03, 3.376e+03,\n",
       "         3.825e+03, 5.746e+03, 4.165e+03, 8.073e+03, 9.488e+03, 5.774e+03,\n",
       "         6.559e+03, 2.155e+03, 4.981e+03, 2.856e+03, 6.021e+03, 7.427e+03,\n",
       "         5.399e+03, 3.136e+03, 5.176e+03, 4.882e+03, 4.700e+03, 2.321e+03,\n",
       "         1.920e+02, 3.060e+02, 4.940e+02, 2.240e+02, 1.430e+02, 1.600e+02,\n",
       "         2.700e+02, 9.600e+01, 1.760e+02, 1.480e+02, 1.260e+02, 6.900e+01,\n",
       "         1.110e+02, 8.100e+01, 6.700e+01, 1.160e+02, 1.330e+02, 7.300e+01,\n",
       "         9.100e+01, 8.700e+01, 3.500e+01, 9.900e+01, 8.700e+01, 1.400e+01,\n",
       "         5.900e+01, 7.400e+01, 1.800e+01, 1.300e+01, 6.600e+01, 1.600e+01,\n",
       "         1.280e+02, 2.900e+01, 8.400e+01, 1.200e+01, 1.100e+01, 0.000e+00,\n",
       "         1.900e+01, 2.300e+01, 0.000e+00, 0.000e+00, 4.000e+00, 0.000e+00,\n",
       "         1.100e+01, 6.000e+00, 0.000e+00, 0.000e+00, 0.000e+00, 0.000e+00,\n",
       "         4.700e+01]),\n",
       "  array([   0.,    0.,    0.,    0.,    0.,    0.,    0.,    0.,    0.,\n",
       "            0.,    0.,    0.,    0.,    0.,    0.,    0.,    0.,    0.,\n",
       "            0.,    0.,    0.,    0.,    0.,    0.,    0.,    0.,    0.,\n",
       "            0.,    0.,    0.,   13.,    0.,   14.,   56.,    0.,    0.,\n",
       "           14.,    0.,    0.,    6.,  444.,  266.,  468.,  252.,    0.,\n",
       "          114.,  297.,  281.,  436.,  620.,  830.,  239.,    0.,  365.,\n",
       "          585.,  502.,  547.,  839.,  489.,  173.,  453.,  434.,  592.,\n",
       "          323.,   99.,  160.,    0., 1077., 1085., 1070.,   43.,  148.,\n",
       "           14.,   26.,    0.,    4.,    0.,   30.,  122.])],\n",
       " array([ 0.5,  1.5,  2.5,  3.5,  4.5,  5.5,  6.5,  7.5,  8.5,  9.5, 10.5,\n",
       "        11.5, 12.5, 13.5, 14.5, 15.5, 16.5, 17.5, 18.5, 19.5, 20.5, 21.5,\n",
       "        22.5, 23.5, 24.5, 25.5, 26.5, 27.5, 28.5, 29.5, 30.5, 31.5, 32.5,\n",
       "        33.5, 34.5, 35.5, 36.5, 37.5, 38.5, 39.5, 40.5, 41.5, 42.5, 43.5,\n",
       "        44.5, 45.5, 46.5, 47.5, 48.5, 49.5, 50.5, 51.5, 52.5, 53.5, 54.5,\n",
       "        55.5, 56.5, 57.5, 58.5, 59.5, 60.5, 61.5, 62.5, 63.5, 64.5, 65.5,\n",
       "        66.5, 67.5, 68.5, 69.5, 70.5, 71.5, 72.5, 73.5, 74.5, 75.5, 76.5,\n",
       "        77.5, 78.5, 79.5]),\n",
       " <a list of 3 Lists of Patches objects>)"
      ]
     },
     "execution_count": 68,
     "metadata": {},
     "output_type": "execute_result"
    },
    {
     "data": {
      "image/png": "[encoded data removed]",
      "text/plain": [
       "<Figure size 432x288 with 1 Axes>"
      ]
     },
     "metadata": {
      "needs_background": "light"
     },
     "output_type": "display_data"
    }
   ],
   "source": [
    "sales_acat = book[['categ', 'price']].copy()\n",
    "\n",
    "# df masks\n",
    "cat0_mask = sales_acat['categ']==0\n",
    "cat1_mask = sales_acat['categ']==1\n",
    "cat2_mask = sales_acat['categ']==2\n",
    "\n",
    "# separate dataframes per cat\n",
    "sales_acat0 = sales_acat[cat0_mask]\n",
    "sales_acat1 = sales_acat[cat1_mask]\n",
    "sales_acat2 = sales_acat[cat2_mask]\n",
    "\n",
    "# series per cat\n",
    "s0 = sales_acat0['price']\n",
    "s1 = sales_acat1['price']\n",
    "s2 = sales_acat2['price']\n",
    "\n",
    "plt.hist(\n",
    "    [s0, s1, s2], \n",
    "    bins = [x + 0.5 for x in range(0, 80)], \n",
    "    color = ['blue', 'orange', 'green'],\n",
    "    edgecolor = 'black',\n",
    "    label = ['cat0', 'cat1', 'cat2'],\n",
    "    alpha = 0.5,\n",
    "    histtype = 'stepfilled'\n",
    ")"
   ]
  },
  {
   "cell_type": "code",
   "execution_count": 69,
   "metadata": {},
   "outputs": [
    {
     "data": {
      "text/plain": [
       "date_Ym\n",
       "2021-03    479312.03\n",
       "2021-04    472980.72\n",
       "2021-05    489367.95\n",
       "2021-06    481257.94\n",
       "2021-07    480898.66\n",
       "2021-08    479305.19\n",
       "2021-09    502771.28\n",
       "2021-10    319159.96\n",
       "2021-11    512890.17\n",
       "2021-12    522937.68\n",
       "2022-01    522955.31\n",
       "2022-02    532740.88\n",
       "Name: price, dtype: float64"
      ]
     },
     "execution_count": 69,
     "metadata": {},
     "output_type": "execute_result"
    }
   ],
   "source": [
    "sales_rev_monthly = book.groupby('date_Ym')['price'].sum()\n",
    "sales_rev_monthly"
   ]
  },
  {
   "cell_type": "code",
   "execution_count": 70,
   "metadata": {},
   "outputs": [
    {
     "name": "stdout",
     "output_type": "stream",
     "text": [
      "le pic de prix est de 319159.96,\n",
      "la valeur mediane des prix est a 485312.94,\n",
      "et la moyenne de prix est de 483048.15\n",
      "avec un ecart type empirique de 53204.87\n",
      "skew: -2.62\n",
      "kurtosis: 8.09\n",
      "\n"
     ]
    }
   ],
   "source": [
    "central_measures(sales_rev_monthly)"
   ]
  },
  {
   "cell_type": "code",
   "execution_count": 71,
   "metadata": {},
   "outputs": [
    {
     "data": {
      "text/plain": [
       "<matplotlib.axes._subplots.AxesSubplot at 0x11a230e10>"
      ]
     },
     "execution_count": 71,
     "metadata": {},
     "output_type": "execute_result"
    },
    {
     "data": {
      "image/png": "[encoded data removed]",
      "text/plain": [
       "<Figure size 432x288 with 1 Axes>"
      ]
     },
     "metadata": {
      "needs_background": "light"
     },
     "output_type": "display_data"
    }
   ],
   "source": [
    "sales_rev_monthly.hist(density=False)"
   ]
  },
  {
   "cell_type": "code",
   "execution_count": 72,
   "metadata": {},
   "outputs": [
    {
     "data": {
      "text/plain": [
       "<matplotlib.axes._subplots.AxesSubplot at 0x11d4e8828>"
      ]
     },
     "execution_count": 72,
     "metadata": {},
     "output_type": "execute_result"
    },
    {
     "data": {
      "image/png": "[encoded data removed]",
      "text/plain": [
       "<Figure size 432x288 with 1 Axes>"
      ]
     },
     "metadata": {
      "needs_background": "light"
     },
     "output_type": "display_data"
    }
   ],
   "source": [
    "sales_rev_monthly.plot(kind='bar')"
   ]
  },
  {
   "cell_type": "markdown",
   "metadata": {},
   "source": [
    "On observe un trou dans le CA du mois d'Octobre..."
   ]
  },
  {
   "cell_type": "code",
   "execution_count": 73,
   "metadata": {},
   "outputs": [
    {
     "data": {
      "text/plain": [
       "categ  date_Ym\n",
       "0.0    2021-03    193566.38\n",
       "       2021-04    205159.67\n",
       "       2021-05    196114.96\n",
       "       2021-06    167886.34\n",
       "       2021-07    144711.92\n",
       "       2021-08    167677.82\n",
       "       2021-09    246264.21\n",
       "       2021-10    199217.94\n",
       "       2021-11    155843.78\n",
       "       2021-12    205976.44\n",
       "       2022-01    164162.67\n",
       "       2022-02    183140.52\n",
       "1.0    2021-03    186974.17\n",
       "       2021-04    156138.35\n",
       "       2021-05    165893.40\n",
       "       2021-06    189162.04\n",
       "       2021-07    188523.27\n",
       "       2021-08    162991.38\n",
       "       2021-09    190613.78\n",
       "       2021-10     33762.32\n",
       "       2021-11    252910.39\n",
       "       2021-12    251026.75\n",
       "       2022-01    256267.92\n",
       "       2022-02    213120.64\n",
       "2.0    2021-03     98771.48\n",
       "       2021-04    111682.70\n",
       "       2021-05    127359.59\n",
       "       2021-06    124209.56\n",
       "       2021-07    147663.47\n",
       "       2021-08    148635.99\n",
       "       2021-09     65893.29\n",
       "       2021-10     86179.70\n",
       "       2021-11    104136.00\n",
       "       2021-12     65934.49\n",
       "       2022-01    102524.72\n",
       "       2022-02    136479.72\n",
       "Name: price, dtype: float64"
      ]
     },
     "execution_count": 73,
     "metadata": {},
     "output_type": "execute_result"
    }
   ],
   "source": [
    "sales_acat_monthly = book.groupby(['categ','date_Ym'])['price'].sum()\n",
    "sales_acat_monthly"
   ]
  },
  {
   "cell_type": "code",
   "execution_count": 74,
   "metadata": {},
   "outputs": [
    {
     "data": {
      "text/plain": [
       "<matplotlib.axes._subplots.AxesSubplot at 0x111b8bcc0>"
      ]
     },
     "execution_count": 74,
     "metadata": {},
     "output_type": "execute_result"
    },
    {
     "data": {
      "image/png": "[encoded data removed]",
      "text/plain": [
       "<Figure size 432x288 with 1 Axes>"
      ]
     },
     "metadata": {
      "needs_background": "light"
     },
     "output_type": "display_data"
    }
   ],
   "source": [
    "trans_table = pd.crosstab(index=book['date_Ym'], columns=book['categ'])\n",
    "trans_table.plot(kind='bar', stacked=True)"
   ]
  },
  {
   "cell_type": "markdown",
   "metadata": {},
   "source": [
    "sur le mois d'octobre les ventes de produits de cat1 ont fondu."
   ]
  },
  {
   "cell_type": "code",
   "execution_count": 75,
   "metadata": {},
   "outputs": [
    {
     "data": {
      "text/html": [
       "<div>\n",
       "<style scoped>\n",
       "    .dataframe tbody tr th:only-of-type {\n",
       "        vertical-align: middle;\n",
       "    }\n",
       "\n",
       "    .dataframe tbody tr th {\n",
       "        vertical-align: top;\n",
       "    }\n",
       "\n",
       "    .dataframe thead th {\n",
       "        text-align: right;\n",
       "    }\n",
       "</style>\n",
       "<table border=\"1\" class=\"dataframe\">\n",
       "  <thead>\n",
       "    <tr style=\"text-align: right;\">\n",
       "      <th></th>\n",
       "      <th>date</th>\n",
       "      <th>session_id</th>\n",
       "      <th>id_prod</th>\n",
       "      <th>price</th>\n",
       "      <th>categ</th>\n",
       "      <th>client_id</th>\n",
       "      <th>test</th>\n",
       "      <th>sex</th>\n",
       "      <th>birth</th>\n",
       "      <th>age</th>\n",
       "      <th>date_Ym</th>\n",
       "      <th>date_Ymd</th>\n",
       "    </tr>\n",
       "  </thead>\n",
       "  <tbody>\n",
       "    <tr>\n",
       "      <td>195586</td>\n",
       "      <td>2021-10-01 00:03:07.095422</td>\n",
       "      <td>s_98169</td>\n",
       "      <td>1_622</td>\n",
       "      <td>17.41</td>\n",
       "      <td>1.0</td>\n",
       "      <td>c_7614</td>\n",
       "      <td>False</td>\n",
       "      <td>m</td>\n",
       "      <td>1995.0</td>\n",
       "      <td>24.0</td>\n",
       "      <td>2021-10</td>\n",
       "      <td>2021-10-01</td>\n",
       "    </tr>\n",
       "    <tr>\n",
       "      <td>195587</td>\n",
       "      <td>2021-10-01 00:03:16.664480</td>\n",
       "      <td>s_98171</td>\n",
       "      <td>1_202</td>\n",
       "      <td>19.96</td>\n",
       "      <td>1.0</td>\n",
       "      <td>c_4492</td>\n",
       "      <td>False</td>\n",
       "      <td>f</td>\n",
       "      <td>1980.0</td>\n",
       "      <td>39.0</td>\n",
       "      <td>2021-10</td>\n",
       "      <td>2021-10-01</td>\n",
       "    </tr>\n",
       "    <tr>\n",
       "      <td>195593</td>\n",
       "      <td>2021-10-01 00:15:08.771899</td>\n",
       "      <td>s_98175</td>\n",
       "      <td>1_397</td>\n",
       "      <td>18.99</td>\n",
       "      <td>1.0</td>\n",
       "      <td>c_7176</td>\n",
       "      <td>False</td>\n",
       "      <td>f</td>\n",
       "      <td>1951.0</td>\n",
       "      <td>68.0</td>\n",
       "      <td>2021-10</td>\n",
       "      <td>2021-10-01</td>\n",
       "    </tr>\n",
       "    <tr>\n",
       "      <td>195598</td>\n",
       "      <td>2021-10-01 00:21:30.028255</td>\n",
       "      <td>s_98178</td>\n",
       "      <td>1_619</td>\n",
       "      <td>12.99</td>\n",
       "      <td>1.0</td>\n",
       "      <td>c_4848</td>\n",
       "      <td>False</td>\n",
       "      <td>m</td>\n",
       "      <td>1953.0</td>\n",
       "      <td>66.0</td>\n",
       "      <td>2021-10</td>\n",
       "      <td>2021-10-01</td>\n",
       "    </tr>\n",
       "    <tr>\n",
       "      <td>195599</td>\n",
       "      <td>2021-10-01 00:21:41.000160</td>\n",
       "      <td>s_98179</td>\n",
       "      <td>1_669</td>\n",
       "      <td>15.99</td>\n",
       "      <td>1.0</td>\n",
       "      <td>c_1773</td>\n",
       "      <td>False</td>\n",
       "      <td>f</td>\n",
       "      <td>1995.0</td>\n",
       "      <td>24.0</td>\n",
       "      <td>2021-10</td>\n",
       "      <td>2021-10-01</td>\n",
       "    </tr>\n",
       "    <tr>\n",
       "      <td>...</td>\n",
       "      <td>...</td>\n",
       "      <td>...</td>\n",
       "      <td>...</td>\n",
       "      <td>...</td>\n",
       "      <td>...</td>\n",
       "      <td>...</td>\n",
       "      <td>...</td>\n",
       "      <td>...</td>\n",
       "      <td>...</td>\n",
       "      <td>...</td>\n",
       "      <td>...</td>\n",
       "      <td>...</td>\n",
       "    </tr>\n",
       "    <tr>\n",
       "      <td>217151</td>\n",
       "      <td>2021-10-31 23:29:35.004605</td>\n",
       "      <td>s_112945</td>\n",
       "      <td>1_588</td>\n",
       "      <td>12.62</td>\n",
       "      <td>1.0</td>\n",
       "      <td>c_7731</td>\n",
       "      <td>False</td>\n",
       "      <td>m</td>\n",
       "      <td>1968.0</td>\n",
       "      <td>51.0</td>\n",
       "      <td>2021-10</td>\n",
       "      <td>2021-10-31</td>\n",
       "    </tr>\n",
       "    <tr>\n",
       "      <td>217154</td>\n",
       "      <td>2021-10-31 23:39:14.623842</td>\n",
       "      <td>s_112946</td>\n",
       "      <td>1_720</td>\n",
       "      <td>10.86</td>\n",
       "      <td>1.0</td>\n",
       "      <td>c_4962</td>\n",
       "      <td>False</td>\n",
       "      <td>f</td>\n",
       "      <td>1974.0</td>\n",
       "      <td>45.0</td>\n",
       "      <td>2021-10</td>\n",
       "      <td>2021-10-31</td>\n",
       "    </tr>\n",
       "    <tr>\n",
       "      <td>217155</td>\n",
       "      <td>2021-10-31 23:42:21.451322</td>\n",
       "      <td>s_112941</td>\n",
       "      <td>1_493</td>\n",
       "      <td>10.99</td>\n",
       "      <td>1.0</td>\n",
       "      <td>c_8476</td>\n",
       "      <td>False</td>\n",
       "      <td>f</td>\n",
       "      <td>1959.0</td>\n",
       "      <td>60.0</td>\n",
       "      <td>2021-10</td>\n",
       "      <td>2021-10-31</td>\n",
       "    </tr>\n",
       "    <tr>\n",
       "      <td>217158</td>\n",
       "      <td>2021-10-31 23:48:14.590919</td>\n",
       "      <td>s_112948</td>\n",
       "      <td>1_414</td>\n",
       "      <td>23.83</td>\n",
       "      <td>1.0</td>\n",
       "      <td>c_1609</td>\n",
       "      <td>False</td>\n",
       "      <td>m</td>\n",
       "      <td>1980.0</td>\n",
       "      <td>39.0</td>\n",
       "      <td>2021-10</td>\n",
       "      <td>2021-10-31</td>\n",
       "    </tr>\n",
       "    <tr>\n",
       "      <td>217161</td>\n",
       "      <td>2021-10-31 23:56:19.757517</td>\n",
       "      <td>s_112949</td>\n",
       "      <td>1_692</td>\n",
       "      <td>13.04</td>\n",
       "      <td>1.0</td>\n",
       "      <td>c_1767</td>\n",
       "      <td>False</td>\n",
       "      <td>f</td>\n",
       "      <td>1983.0</td>\n",
       "      <td>36.0</td>\n",
       "      <td>2021-10</td>\n",
       "      <td>2021-10-31</td>\n",
       "    </tr>\n",
       "  </tbody>\n",
       "</table>\n",
       "<p>1666 rows × 12 columns</p>\n",
       "</div>"
      ],
      "text/plain": [
       "                             date session_id id_prod  price  categ client_id  \\\n",
       "195586 2021-10-01 00:03:07.095422    s_98169   1_622  17.41    1.0    c_7614   \n",
       "195587 2021-10-01 00:03:16.664480    s_98171   1_202  19.96    1.0    c_4492   \n",
       "195593 2021-10-01 00:15:08.771899    s_98175   1_397  18.99    1.0    c_7176   \n",
       "195598 2021-10-01 00:21:30.028255    s_98178   1_619  12.99    1.0    c_4848   \n",
       "195599 2021-10-01 00:21:41.000160    s_98179   1_669  15.99    1.0    c_1773   \n",
       "...                           ...        ...     ...    ...    ...       ...   \n",
       "217151 2021-10-31 23:29:35.004605   s_112945   1_588  12.62    1.0    c_7731   \n",
       "217154 2021-10-31 23:39:14.623842   s_112946   1_720  10.86    1.0    c_4962   \n",
       "217155 2021-10-31 23:42:21.451322   s_112941   1_493  10.99    1.0    c_8476   \n",
       "217158 2021-10-31 23:48:14.590919   s_112948   1_414  23.83    1.0    c_1609   \n",
       "217161 2021-10-31 23:56:19.757517   s_112949   1_692  13.04    1.0    c_1767   \n",
       "\n",
       "         test sex   birth   age  date_Ym    date_Ymd  \n",
       "195586  False   m  1995.0  24.0  2021-10  2021-10-01  \n",
       "195587  False   f  1980.0  39.0  2021-10  2021-10-01  \n",
       "195593  False   f  1951.0  68.0  2021-10  2021-10-01  \n",
       "195598  False   m  1953.0  66.0  2021-10  2021-10-01  \n",
       "195599  False   f  1995.0  24.0  2021-10  2021-10-01  \n",
       "...       ...  ..     ...   ...      ...         ...  \n",
       "217151  False   m  1968.0  51.0  2021-10  2021-10-31  \n",
       "217154  False   f  1974.0  45.0  2021-10  2021-10-31  \n",
       "217155  False   f  1959.0  60.0  2021-10  2021-10-31  \n",
       "217158  False   m  1980.0  39.0  2021-10  2021-10-31  \n",
       "217161  False   f  1983.0  36.0  2021-10  2021-10-31  \n",
       "\n",
       "[1666 rows x 12 columns]"
      ]
     },
     "execution_count": 75,
     "metadata": {},
     "output_type": "execute_result"
    }
   ],
   "source": [
    "oct_cat1_mask = (book['categ']==1) & (book['date_Ym']=='2021-10')\n",
    "invest_hole = book.loc[oct_cat1_mask].copy()\n",
    "invest_hole"
   ]
  },
  {
   "cell_type": "code",
   "execution_count": 76,
   "metadata": {},
   "outputs": [
    {
     "data": {
      "text/html": [
       "<div>\n",
       "<style scoped>\n",
       "    .dataframe tbody tr th:only-of-type {\n",
       "        vertical-align: middle;\n",
       "    }\n",
       "\n",
       "    .dataframe tbody tr th {\n",
       "        vertical-align: top;\n",
       "    }\n",
       "\n",
       "    .dataframe thead th {\n",
       "        text-align: right;\n",
       "    }\n",
       "</style>\n",
       "<table border=\"1\" class=\"dataframe\">\n",
       "  <thead>\n",
       "    <tr style=\"text-align: right;\">\n",
       "      <th></th>\n",
       "      <th>price</th>\n",
       "    </tr>\n",
       "    <tr>\n",
       "      <th>date_d</th>\n",
       "      <th></th>\n",
       "    </tr>\n",
       "  </thead>\n",
       "  <tbody>\n",
       "    <tr>\n",
       "      <td>01</td>\n",
       "      <td>7003.79</td>\n",
       "    </tr>\n",
       "    <tr>\n",
       "      <td>28</td>\n",
       "      <td>6317.99</td>\n",
       "    </tr>\n",
       "    <tr>\n",
       "      <td>29</td>\n",
       "      <td>6425.18</td>\n",
       "    </tr>\n",
       "    <tr>\n",
       "      <td>30</td>\n",
       "      <td>6753.69</td>\n",
       "    </tr>\n",
       "    <tr>\n",
       "      <td>31</td>\n",
       "      <td>7261.67</td>\n",
       "    </tr>\n",
       "  </tbody>\n",
       "</table>\n",
       "</div>"
      ],
      "text/plain": [
       "          price\n",
       "date_d         \n",
       "01      7003.79\n",
       "28      6317.99\n",
       "29      6425.18\n",
       "30      6753.69\n",
       "31      7261.67"
      ]
     },
     "execution_count": 76,
     "metadata": {},
     "output_type": "execute_result"
    }
   ],
   "source": [
    "invest_hole['date_d'] = invest_hole['date'].dt.strftime('%d')\n",
    "invest_hole.groupby('date_d')['date_d', 'price'].sum()"
   ]
  },
  {
   "cell_type": "markdown",
   "metadata": {},
   "source": [
    "# refaire le graphe (plot) sur l'annee avec les jours : serie temporelle sur un an avec aggregation par jour, juste sur la categorie 1\n",
    "\n",
    "# lien de Marine sur le sujet\n",
    "\n",
    "# choix a faire sur les donnes mois d'octobre (suppression ou imputation)"
   ]
  },
  {
   "cell_type": "markdown",
   "metadata": {},
   "source": [
    "Manque des donnees de la categorie 1 entre le 2 et le 28 octobre 2021"
   ]
  },
  {
   "cell_type": "code",
   "execution_count": 77,
   "metadata": {},
   "outputs": [
    {
     "data": {
      "text/html": [
       "<div>\n",
       "<style scoped>\n",
       "    .dataframe tbody tr th:only-of-type {\n",
       "        vertical-align: middle;\n",
       "    }\n",
       "\n",
       "    .dataframe tbody tr th {\n",
       "        vertical-align: top;\n",
       "    }\n",
       "\n",
       "    .dataframe thead tr th {\n",
       "        text-align: left;\n",
       "    }\n",
       "\n",
       "    .dataframe thead tr:last-of-type th {\n",
       "        text-align: right;\n",
       "    }\n",
       "</style>\n",
       "<table border=\"1\" class=\"dataframe\">\n",
       "  <thead>\n",
       "    <tr>\n",
       "      <th>categ</th>\n",
       "      <th colspan=\"2\" halign=\"left\">0.0</th>\n",
       "      <th colspan=\"2\" halign=\"left\">1.0</th>\n",
       "      <th colspan=\"2\" halign=\"left\">2.0</th>\n",
       "    </tr>\n",
       "    <tr>\n",
       "      <th>sex</th>\n",
       "      <th>f</th>\n",
       "      <th>m</th>\n",
       "      <th>f</th>\n",
       "      <th>m</th>\n",
       "      <th>f</th>\n",
       "      <th>m</th>\n",
       "    </tr>\n",
       "    <tr>\n",
       "      <th>date_Ym</th>\n",
       "      <th></th>\n",
       "      <th></th>\n",
       "      <th></th>\n",
       "      <th></th>\n",
       "      <th></th>\n",
       "      <th></th>\n",
       "    </tr>\n",
       "  </thead>\n",
       "  <tbody>\n",
       "    <tr>\n",
       "      <td>2021-03</td>\n",
       "      <td>95711.79</td>\n",
       "      <td>97854.59</td>\n",
       "      <td>94073.70</td>\n",
       "      <td>92900.47</td>\n",
       "      <td>45084.22</td>\n",
       "      <td>53687.26</td>\n",
       "    </tr>\n",
       "    <tr>\n",
       "      <td>2021-04</td>\n",
       "      <td>102737.58</td>\n",
       "      <td>102422.09</td>\n",
       "      <td>78837.59</td>\n",
       "      <td>77300.76</td>\n",
       "      <td>54024.81</td>\n",
       "      <td>57657.89</td>\n",
       "    </tr>\n",
       "    <tr>\n",
       "      <td>2021-05</td>\n",
       "      <td>98587.00</td>\n",
       "      <td>97527.96</td>\n",
       "      <td>84083.20</td>\n",
       "      <td>81810.20</td>\n",
       "      <td>61582.09</td>\n",
       "      <td>65777.50</td>\n",
       "    </tr>\n",
       "    <tr>\n",
       "      <td>2021-06</td>\n",
       "      <td>82607.60</td>\n",
       "      <td>85278.74</td>\n",
       "      <td>96622.13</td>\n",
       "      <td>92539.91</td>\n",
       "      <td>56511.91</td>\n",
       "      <td>67697.65</td>\n",
       "    </tr>\n",
       "    <tr>\n",
       "      <td>2021-07</td>\n",
       "      <td>71562.89</td>\n",
       "      <td>73149.03</td>\n",
       "      <td>95840.22</td>\n",
       "      <td>92683.05</td>\n",
       "      <td>67970.31</td>\n",
       "      <td>79693.16</td>\n",
       "    </tr>\n",
       "    <tr>\n",
       "      <td>2021-08</td>\n",
       "      <td>82950.04</td>\n",
       "      <td>84727.78</td>\n",
       "      <td>82059.90</td>\n",
       "      <td>80931.48</td>\n",
       "      <td>70472.37</td>\n",
       "      <td>78163.62</td>\n",
       "    </tr>\n",
       "    <tr>\n",
       "      <td>2021-09</td>\n",
       "      <td>120661.88</td>\n",
       "      <td>125602.33</td>\n",
       "      <td>95025.27</td>\n",
       "      <td>95588.51</td>\n",
       "      <td>30935.62</td>\n",
       "      <td>34957.67</td>\n",
       "    </tr>\n",
       "    <tr>\n",
       "      <td>2021-10</td>\n",
       "      <td>96884.03</td>\n",
       "      <td>102333.91</td>\n",
       "      <td>16435.53</td>\n",
       "      <td>17326.79</td>\n",
       "      <td>41372.99</td>\n",
       "      <td>44806.71</td>\n",
       "    </tr>\n",
       "    <tr>\n",
       "      <td>2021-11</td>\n",
       "      <td>76139.35</td>\n",
       "      <td>79704.43</td>\n",
       "      <td>128231.41</td>\n",
       "      <td>124678.98</td>\n",
       "      <td>50974.47</td>\n",
       "      <td>53161.53</td>\n",
       "    </tr>\n",
       "    <tr>\n",
       "      <td>2021-12</td>\n",
       "      <td>101448.21</td>\n",
       "      <td>104528.23</td>\n",
       "      <td>126876.57</td>\n",
       "      <td>124150.18</td>\n",
       "      <td>29765.17</td>\n",
       "      <td>36169.32</td>\n",
       "    </tr>\n",
       "    <tr>\n",
       "      <td>2022-01</td>\n",
       "      <td>82656.35</td>\n",
       "      <td>81506.32</td>\n",
       "      <td>130542.19</td>\n",
       "      <td>125725.73</td>\n",
       "      <td>50186.82</td>\n",
       "      <td>52337.90</td>\n",
       "    </tr>\n",
       "    <tr>\n",
       "      <td>2022-02</td>\n",
       "      <td>91519.25</td>\n",
       "      <td>91621.27</td>\n",
       "      <td>109228.78</td>\n",
       "      <td>103891.86</td>\n",
       "      <td>58918.53</td>\n",
       "      <td>77561.19</td>\n",
       "    </tr>\n",
       "  </tbody>\n",
       "</table>\n",
       "</div>"
      ],
      "text/plain": [
       "categ          0.0                   1.0                  2.0          \n",
       "sex              f          m          f          m         f         m\n",
       "date_Ym                                                                \n",
       "2021-03   95711.79   97854.59   94073.70   92900.47  45084.22  53687.26\n",
       "2021-04  102737.58  102422.09   78837.59   77300.76  54024.81  57657.89\n",
       "2021-05   98587.00   97527.96   84083.20   81810.20  61582.09  65777.50\n",
       "2021-06   82607.60   85278.74   96622.13   92539.91  56511.91  67697.65\n",
       "2021-07   71562.89   73149.03   95840.22   92683.05  67970.31  79693.16\n",
       "2021-08   82950.04   84727.78   82059.90   80931.48  70472.37  78163.62\n",
       "2021-09  120661.88  125602.33   95025.27   95588.51  30935.62  34957.67\n",
       "2021-10   96884.03  102333.91   16435.53   17326.79  41372.99  44806.71\n",
       "2021-11   76139.35   79704.43  128231.41  124678.98  50974.47  53161.53\n",
       "2021-12  101448.21  104528.23  126876.57  124150.18  29765.17  36169.32\n",
       "2022-01   82656.35   81506.32  130542.19  125725.73  50186.82  52337.90\n",
       "2022-02   91519.25   91621.27  109228.78  103891.86  58918.53  77561.19"
      ]
     },
     "execution_count": 77,
     "metadata": {},
     "output_type": "execute_result"
    }
   ],
   "source": [
    "sales_acat_sex_monthly = book.pivot_table(index='date_Ym', columns=['categ', 'sex'], values='price', aggfunc=sum)\n",
    "sales_acat_sex_monthly\n"
   ]
  },
  {
   "cell_type": "code",
   "execution_count": 78,
   "metadata": {},
   "outputs": [
    {
     "data": {
      "text/plain": [
       "<matplotlib.axes._subplots.AxesSubplot at 0x11af9a2b0>"
      ]
     },
     "execution_count": 78,
     "metadata": {},
     "output_type": "execute_result"
    },
    {
     "data": {
      "image/png": "[encoded data removed]",
      "text/plain": [
       "<Figure size 432x288 with 1 Axes>"
      ]
     },
     "metadata": {
      "needs_background": "light"
     },
     "output_type": "display_data"
    }
   ],
   "source": [
    "sales_acat_sex_monthly.plot(kind='bar', stacked=True)"
   ]
  },
  {
   "cell_type": "code",
   "execution_count": 79,
   "metadata": {},
   "outputs": [
    {
     "data": {
      "text/html": [
       "<div>\n",
       "<style scoped>\n",
       "    .dataframe tbody tr th:only-of-type {\n",
       "        vertical-align: middle;\n",
       "    }\n",
       "\n",
       "    .dataframe tbody tr th {\n",
       "        vertical-align: top;\n",
       "    }\n",
       "\n",
       "    .dataframe thead th {\n",
       "        text-align: right;\n",
       "    }\n",
       "</style>\n",
       "<table border=\"1\" class=\"dataframe\">\n",
       "  <thead>\n",
       "    <tr style=\"text-align: right;\">\n",
       "      <th>categ</th>\n",
       "      <th>0.0</th>\n",
       "      <th>1.0</th>\n",
       "      <th>2.0</th>\n",
       "    </tr>\n",
       "    <tr>\n",
       "      <th>date_Ym</th>\n",
       "      <th></th>\n",
       "      <th></th>\n",
       "      <th></th>\n",
       "    </tr>\n",
       "  </thead>\n",
       "  <tbody>\n",
       "    <tr>\n",
       "      <td>2021-03</td>\n",
       "      <td>193566.38</td>\n",
       "      <td>186974.17</td>\n",
       "      <td>98771.48</td>\n",
       "    </tr>\n",
       "    <tr>\n",
       "      <td>2021-04</td>\n",
       "      <td>205159.67</td>\n",
       "      <td>156138.35</td>\n",
       "      <td>111682.70</td>\n",
       "    </tr>\n",
       "    <tr>\n",
       "      <td>2021-05</td>\n",
       "      <td>196114.96</td>\n",
       "      <td>165893.40</td>\n",
       "      <td>127359.59</td>\n",
       "    </tr>\n",
       "    <tr>\n",
       "      <td>2021-06</td>\n",
       "      <td>167886.34</td>\n",
       "      <td>189162.04</td>\n",
       "      <td>124209.56</td>\n",
       "    </tr>\n",
       "    <tr>\n",
       "      <td>2021-07</td>\n",
       "      <td>144711.92</td>\n",
       "      <td>188523.27</td>\n",
       "      <td>147663.47</td>\n",
       "    </tr>\n",
       "    <tr>\n",
       "      <td>2021-08</td>\n",
       "      <td>167677.82</td>\n",
       "      <td>162991.38</td>\n",
       "      <td>148635.99</td>\n",
       "    </tr>\n",
       "    <tr>\n",
       "      <td>2021-09</td>\n",
       "      <td>246264.21</td>\n",
       "      <td>190613.78</td>\n",
       "      <td>65893.29</td>\n",
       "    </tr>\n",
       "    <tr>\n",
       "      <td>2021-10</td>\n",
       "      <td>199217.94</td>\n",
       "      <td>33762.32</td>\n",
       "      <td>86179.70</td>\n",
       "    </tr>\n",
       "    <tr>\n",
       "      <td>2021-11</td>\n",
       "      <td>155843.78</td>\n",
       "      <td>252910.39</td>\n",
       "      <td>104136.00</td>\n",
       "    </tr>\n",
       "    <tr>\n",
       "      <td>2021-12</td>\n",
       "      <td>205976.44</td>\n",
       "      <td>251026.75</td>\n",
       "      <td>65934.49</td>\n",
       "    </tr>\n",
       "    <tr>\n",
       "      <td>2022-01</td>\n",
       "      <td>164162.67</td>\n",
       "      <td>256267.92</td>\n",
       "      <td>102524.72</td>\n",
       "    </tr>\n",
       "    <tr>\n",
       "      <td>2022-02</td>\n",
       "      <td>183140.52</td>\n",
       "      <td>213120.64</td>\n",
       "      <td>136479.72</td>\n",
       "    </tr>\n",
       "  </tbody>\n",
       "</table>\n",
       "</div>"
      ],
      "text/plain": [
       "categ          0.0        1.0        2.0\n",
       "date_Ym                                 \n",
       "2021-03  193566.38  186974.17   98771.48\n",
       "2021-04  205159.67  156138.35  111682.70\n",
       "2021-05  196114.96  165893.40  127359.59\n",
       "2021-06  167886.34  189162.04  124209.56\n",
       "2021-07  144711.92  188523.27  147663.47\n",
       "2021-08  167677.82  162991.38  148635.99\n",
       "2021-09  246264.21  190613.78   65893.29\n",
       "2021-10  199217.94   33762.32   86179.70\n",
       "2021-11  155843.78  252910.39  104136.00\n",
       "2021-12  205976.44  251026.75   65934.49\n",
       "2022-01  164162.67  256267.92  102524.72\n",
       "2022-02  183140.52  213120.64  136479.72"
      ]
     },
     "execution_count": 79,
     "metadata": {},
     "output_type": "execute_result"
    }
   ],
   "source": [
    "sales_acat_monthly = book.pivot_table(index='date_Ym', columns='categ', values='price', aggfunc=sum)\n",
    "sales_acat_monthly"
   ]
  },
  {
   "cell_type": "code",
   "execution_count": 80,
   "metadata": {},
   "outputs": [
    {
     "data": {
      "text/plain": [
       "<matplotlib.axes._subplots.AxesSubplot at 0x11af77518>"
      ]
     },
     "execution_count": 80,
     "metadata": {},
     "output_type": "execute_result"
    },
    {
     "data": {
      "image/png": "[encoded data removed]",
      "text/plain": [
       "<Figure size 432x288 with 1 Axes>"
      ]
     },
     "metadata": {
      "needs_background": "light"
     },
     "output_type": "display_data"
    }
   ],
   "source": [
    "sales_acat_monthly.plot(kind='bar', stacked=True)"
   ]
  },
  {
   "cell_type": "code",
   "execution_count": 81,
   "metadata": {},
   "outputs": [
    {
     "data": {
      "text/plain": [
       "client_id\n",
       "c_1        300.65\n",
       "c_10       586.18\n",
       "c_100      222.87\n",
       "c_1000     980.02\n",
       "c_1001    1102.45\n",
       "           ...   \n",
       "c_995      119.08\n",
       "c_996      739.60\n",
       "c_997      572.89\n",
       "c_998     1527.69\n",
       "c_999      305.00\n",
       "Name: price, Length: 8600, dtype: float64"
      ]
     },
     "execution_count": 81,
     "metadata": {},
     "output_type": "execute_result"
    }
   ],
   "source": [
    "sales_aclient_yearly = book.groupby('client_id')['price'].sum()\n",
    "sales_aclient_yearly"
   ]
  },
  {
   "cell_type": "code",
   "execution_count": 82,
   "metadata": {},
   "outputs": [
    {
     "name": "stdout",
     "output_type": "stream",
     "text": [
      "le pic de prix est de 26.61,\n",
      "la valeur mediane des prix est a 501.31,\n",
      "et la moyenne de prix est de 674.02\n",
      "avec un ecart type empirique de 2565.70\n",
      "skew: 53.00\n",
      "kurtosis: 3053.85\n",
      "\n"
     ]
    }
   ],
   "source": [
    "central_measures(sales_aclient_yearly)"
   ]
  },
  {
   "cell_type": "code",
   "execution_count": 83,
   "metadata": {},
   "outputs": [
    {
     "data": {
      "text/plain": [
       "'162007.34'"
      ]
     },
     "execution_count": 83,
     "metadata": {},
     "output_type": "execute_result"
    }
   ],
   "source": [
    "print_float(max(sales_aclient_yearly))"
   ]
  },
  {
   "cell_type": "code",
   "execution_count": 84,
   "metadata": {},
   "outputs": [
    {
     "data": {
      "text/plain": [
       "['c_1609', 'c_3454', 'c_4958', 'c_6714']"
      ]
     },
     "execution_count": 84,
     "metadata": {},
     "output_type": "execute_result"
    }
   ],
   "source": [
    "greater_mask = sales_aclient_yearly > 3000\n",
    "freaks = sales_aclient_yearly.loc[greater_mask].index.tolist()\n",
    "freaks"
   ]
  },
  {
   "cell_type": "code",
   "execution_count": 85,
   "metadata": {},
   "outputs": [
    {
     "data": {
      "text/plain": [
       "4.15"
      ]
     },
     "execution_count": 85,
     "metadata": {},
     "output_type": "execute_result"
    }
   ],
   "source": [
    "min(sales_aclient_yearly)"
   ]
  },
  {
   "cell_type": "code",
   "execution_count": 86,
   "metadata": {
    "scrolled": true
   },
   "outputs": [
    {
     "data": {
      "text/plain": [
       "<matplotlib.axes._subplots.AxesSubplot at 0x11de6dbe0>"
      ]
     },
     "execution_count": 86,
     "metadata": {},
     "output_type": "execute_result"
    },
    {
     "data": {
      "image/png": "[encoded data removed]",
      "text/plain": [
       "<Figure size 432x288 with 1 Axes>"
      ]
     },
     "metadata": {
      "needs_background": "light"
     },
     "output_type": "display_data"
    }
   ],
   "source": [
    "sales_aclient_yearly.hist(density=False, bins=14)"
   ]
  },
  {
   "cell_type": "code",
   "execution_count": 87,
   "metadata": {},
   "outputs": [
    {
     "data": {
      "text/plain": [
       "client_id\n",
       "c_1609    162007.34\n",
       "Name: price, dtype: float64"
      ]
     },
     "execution_count": 87,
     "metadata": {},
     "output_type": "execute_result"
    }
   ],
   "source": [
    "top_mask = sales_aclient_yearly==162007.34000000087\n",
    "sales_aclient_yearly.loc[top_mask]"
   ]
  },
  {
   "cell_type": "markdown",
   "metadata": {},
   "source": [
    "c_1609 est un outlier. il depense anormalement bcp"
   ]
  },
  {
   "cell_type": "code",
   "execution_count": 88,
   "metadata": {},
   "outputs": [],
   "source": [
    "sales_aclient_yearly_bis = sales_aclient_yearly.drop(labels=freaks)"
   ]
  },
  {
   "cell_type": "markdown",
   "metadata": {},
   "source": [
    "# [RETOUR ]Regarder comment filtrer les histogrammes generes en definissant les limites"
   ]
  },
  {
   "cell_type": "code",
   "execution_count": 89,
   "metadata": {},
   "outputs": [
    {
     "name": "stdout",
     "output_type": "stream",
     "text": [
      "le pic de prix est de 26.61,\n",
      "la valeur mediane des prix est a 501.17,\n",
      "et la moyenne de prix est de 623.86\n",
      "avec un ecart type empirique de 457.00\n",
      "skew: 1.15\n",
      "kurtosis: 1.03\n",
      "\n"
     ]
    }
   ],
   "source": [
    "central_measures(sales_aclient_yearly_bis)"
   ]
  },
  {
   "cell_type": "code",
   "execution_count": 90,
   "metadata": {},
   "outputs": [
    {
     "data": {
      "text/plain": [
       "<matplotlib.axes._subplots.AxesSubplot at 0x11dbf7470>"
      ]
     },
     "execution_count": 90,
     "metadata": {},
     "output_type": "execute_result"
    },
    {
     "data": {
      "image/png": "[encoded data removed]",
      "text/plain": [
       "<Figure size 432x288 with 1 Axes>"
      ]
     },
     "metadata": {
      "needs_background": "light"
     },
     "output_type": "display_data"
    }
   ],
   "source": [
    "sales_aclient_yearly_bis.hist(density=False, bins=14)"
   ]
  },
  {
   "cell_type": "code",
   "execution_count": 91,
   "metadata": {},
   "outputs": [
    {
     "data": {
      "text/html": [
       "<div>\n",
       "<style scoped>\n",
       "    .dataframe tbody tr th:only-of-type {\n",
       "        vertical-align: middle;\n",
       "    }\n",
       "\n",
       "    .dataframe tbody tr th {\n",
       "        vertical-align: top;\n",
       "    }\n",
       "\n",
       "    .dataframe thead th {\n",
       "        text-align: right;\n",
       "    }\n",
       "</style>\n",
       "<table border=\"1\" class=\"dataframe\">\n",
       "  <thead>\n",
       "    <tr style=\"text-align: right;\">\n",
       "      <th>client_id</th>\n",
       "      <th>c_1</th>\n",
       "      <th>c_10</th>\n",
       "      <th>c_100</th>\n",
       "      <th>c_1000</th>\n",
       "      <th>c_1001</th>\n",
       "      <th>c_1002</th>\n",
       "      <th>c_1003</th>\n",
       "      <th>c_1004</th>\n",
       "      <th>c_1005</th>\n",
       "      <th>c_1006</th>\n",
       "      <th>...</th>\n",
       "      <th>c_990</th>\n",
       "      <th>c_991</th>\n",
       "      <th>c_992</th>\n",
       "      <th>c_993</th>\n",
       "      <th>c_994</th>\n",
       "      <th>c_995</th>\n",
       "      <th>c_996</th>\n",
       "      <th>c_997</th>\n",
       "      <th>c_998</th>\n",
       "      <th>c_999</th>\n",
       "    </tr>\n",
       "    <tr>\n",
       "      <th>date_Ym</th>\n",
       "      <th></th>\n",
       "      <th></th>\n",
       "      <th></th>\n",
       "      <th></th>\n",
       "      <th></th>\n",
       "      <th></th>\n",
       "      <th></th>\n",
       "      <th></th>\n",
       "      <th></th>\n",
       "      <th></th>\n",
       "      <th></th>\n",
       "      <th></th>\n",
       "      <th></th>\n",
       "      <th></th>\n",
       "      <th></th>\n",
       "      <th></th>\n",
       "      <th></th>\n",
       "      <th></th>\n",
       "      <th></th>\n",
       "      <th></th>\n",
       "      <th></th>\n",
       "    </tr>\n",
       "  </thead>\n",
       "  <tbody>\n",
       "    <tr>\n",
       "      <td>2021-03</td>\n",
       "      <td>NaN</td>\n",
       "      <td>14.99</td>\n",
       "      <td>NaN</td>\n",
       "      <td>160.77</td>\n",
       "      <td>357.19</td>\n",
       "      <td>NaN</td>\n",
       "      <td>133.96</td>\n",
       "      <td>63.09</td>\n",
       "      <td>7.99</td>\n",
       "      <td>211.81</td>\n",
       "      <td>...</td>\n",
       "      <td>219.95</td>\n",
       "      <td>NaN</td>\n",
       "      <td>NaN</td>\n",
       "      <td>59.99</td>\n",
       "      <td>NaN</td>\n",
       "      <td>NaN</td>\n",
       "      <td>178.19</td>\n",
       "      <td>NaN</td>\n",
       "      <td>505.96</td>\n",
       "      <td>NaN</td>\n",
       "    </tr>\n",
       "    <tr>\n",
       "      <td>2021-04</td>\n",
       "      <td>NaN</td>\n",
       "      <td>108.85</td>\n",
       "      <td>15.99</td>\n",
       "      <td>28.99</td>\n",
       "      <td>56.15</td>\n",
       "      <td>19.98</td>\n",
       "      <td>42.02</td>\n",
       "      <td>23.72</td>\n",
       "      <td>17.99</td>\n",
       "      <td>164.41</td>\n",
       "      <td>...</td>\n",
       "      <td>100.03</td>\n",
       "      <td>NaN</td>\n",
       "      <td>85.37</td>\n",
       "      <td>NaN</td>\n",
       "      <td>172.59</td>\n",
       "      <td>14.99</td>\n",
       "      <td>31.81</td>\n",
       "      <td>42.51</td>\n",
       "      <td>NaN</td>\n",
       "      <td>NaN</td>\n",
       "    </tr>\n",
       "    <tr>\n",
       "      <td>2021-05</td>\n",
       "      <td>NaN</td>\n",
       "      <td>NaN</td>\n",
       "      <td>NaN</td>\n",
       "      <td>39.63</td>\n",
       "      <td>NaN</td>\n",
       "      <td>23.99</td>\n",
       "      <td>6.51</td>\n",
       "      <td>15.99</td>\n",
       "      <td>131.05</td>\n",
       "      <td>64.68</td>\n",
       "      <td>...</td>\n",
       "      <td>145.22</td>\n",
       "      <td>NaN</td>\n",
       "      <td>NaN</td>\n",
       "      <td>62.48</td>\n",
       "      <td>43.10</td>\n",
       "      <td>23.35</td>\n",
       "      <td>101.61</td>\n",
       "      <td>20.07</td>\n",
       "      <td>375.18</td>\n",
       "      <td>NaN</td>\n",
       "    </tr>\n",
       "    <tr>\n",
       "      <td>2021-06</td>\n",
       "      <td>19.53</td>\n",
       "      <td>8.41</td>\n",
       "      <td>150.52</td>\n",
       "      <td>41.70</td>\n",
       "      <td>15.99</td>\n",
       "      <td>6.99</td>\n",
       "      <td>102.81</td>\n",
       "      <td>33.99</td>\n",
       "      <td>NaN</td>\n",
       "      <td>40.64</td>\n",
       "      <td>...</td>\n",
       "      <td>160.32</td>\n",
       "      <td>70.53</td>\n",
       "      <td>NaN</td>\n",
       "      <td>NaN</td>\n",
       "      <td>NaN</td>\n",
       "      <td>NaN</td>\n",
       "      <td>27.78</td>\n",
       "      <td>113.25</td>\n",
       "      <td>NaN</td>\n",
       "      <td>NaN</td>\n",
       "    </tr>\n",
       "    <tr>\n",
       "      <td>2021-07</td>\n",
       "      <td>55.22</td>\n",
       "      <td>55.97</td>\n",
       "      <td>NaN</td>\n",
       "      <td>39.23</td>\n",
       "      <td>NaN</td>\n",
       "      <td>NaN</td>\n",
       "      <td>14.99</td>\n",
       "      <td>28.45</td>\n",
       "      <td>NaN</td>\n",
       "      <td>257.79</td>\n",
       "      <td>...</td>\n",
       "      <td>146.70</td>\n",
       "      <td>NaN</td>\n",
       "      <td>NaN</td>\n",
       "      <td>NaN</td>\n",
       "      <td>NaN</td>\n",
       "      <td>38.75</td>\n",
       "      <td>102.04</td>\n",
       "      <td>60.37</td>\n",
       "      <td>68.47</td>\n",
       "      <td>19.50</td>\n",
       "    </tr>\n",
       "    <tr>\n",
       "      <td>2021-08</td>\n",
       "      <td>13.96</td>\n",
       "      <td>152.95</td>\n",
       "      <td>56.36</td>\n",
       "      <td>72.03</td>\n",
       "      <td>46.23</td>\n",
       "      <td>23.29</td>\n",
       "      <td>NaN</td>\n",
       "      <td>107.36</td>\n",
       "      <td>NaN</td>\n",
       "      <td>252.07</td>\n",
       "      <td>...</td>\n",
       "      <td>192.12</td>\n",
       "      <td>57.19</td>\n",
       "      <td>NaN</td>\n",
       "      <td>57.98</td>\n",
       "      <td>NaN</td>\n",
       "      <td>17.00</td>\n",
       "      <td>59.02</td>\n",
       "      <td>10.99</td>\n",
       "      <td>NaN</td>\n",
       "      <td>49.87</td>\n",
       "    </tr>\n",
       "    <tr>\n",
       "      <td>2021-09</td>\n",
       "      <td>19.98</td>\n",
       "      <td>111.74</td>\n",
       "      <td>NaN</td>\n",
       "      <td>98.89</td>\n",
       "      <td>125.13</td>\n",
       "      <td>34.53</td>\n",
       "      <td>7.45</td>\n",
       "      <td>36.70</td>\n",
       "      <td>52.08</td>\n",
       "      <td>209.28</td>\n",
       "      <td>...</td>\n",
       "      <td>43.59</td>\n",
       "      <td>82.41</td>\n",
       "      <td>21.98</td>\n",
       "      <td>NaN</td>\n",
       "      <td>NaN</td>\n",
       "      <td>NaN</td>\n",
       "      <td>NaN</td>\n",
       "      <td>147.93</td>\n",
       "      <td>13.11</td>\n",
       "      <td>49.98</td>\n",
       "    </tr>\n",
       "    <tr>\n",
       "      <td>2021-10</td>\n",
       "      <td>7.99</td>\n",
       "      <td>NaN</td>\n",
       "      <td>NaN</td>\n",
       "      <td>51.97</td>\n",
       "      <td>92.78</td>\n",
       "      <td>89.59</td>\n",
       "      <td>70.34</td>\n",
       "      <td>44.46</td>\n",
       "      <td>16.95</td>\n",
       "      <td>196.82</td>\n",
       "      <td>...</td>\n",
       "      <td>94.96</td>\n",
       "      <td>27.41</td>\n",
       "      <td>17.96</td>\n",
       "      <td>27.11</td>\n",
       "      <td>NaN</td>\n",
       "      <td>NaN</td>\n",
       "      <td>13.99</td>\n",
       "      <td>57.99</td>\n",
       "      <td>NaN</td>\n",
       "      <td>19.97</td>\n",
       "    </tr>\n",
       "    <tr>\n",
       "      <td>2021-11</td>\n",
       "      <td>136.91</td>\n",
       "      <td>45.98</td>\n",
       "      <td>NaN</td>\n",
       "      <td>100.91</td>\n",
       "      <td>120.72</td>\n",
       "      <td>57.32</td>\n",
       "      <td>81.34</td>\n",
       "      <td>27.99</td>\n",
       "      <td>70.63</td>\n",
       "      <td>128.61</td>\n",
       "      <td>...</td>\n",
       "      <td>128.43</td>\n",
       "      <td>23.99</td>\n",
       "      <td>NaN</td>\n",
       "      <td>10.29</td>\n",
       "      <td>61.05</td>\n",
       "      <td>24.99</td>\n",
       "      <td>39.95</td>\n",
       "      <td>60.67</td>\n",
       "      <td>15.99</td>\n",
       "      <td>82.29</td>\n",
       "    </tr>\n",
       "    <tr>\n",
       "      <td>2021-12</td>\n",
       "      <td>41.07</td>\n",
       "      <td>87.29</td>\n",
       "      <td>NaN</td>\n",
       "      <td>67.73</td>\n",
       "      <td>185.38</td>\n",
       "      <td>NaN</td>\n",
       "      <td>NaN</td>\n",
       "      <td>NaN</td>\n",
       "      <td>73.50</td>\n",
       "      <td>83.23</td>\n",
       "      <td>...</td>\n",
       "      <td>179.91</td>\n",
       "      <td>NaN</td>\n",
       "      <td>29.98</td>\n",
       "      <td>NaN</td>\n",
       "      <td>NaN</td>\n",
       "      <td>NaN</td>\n",
       "      <td>111.62</td>\n",
       "      <td>NaN</td>\n",
       "      <td>123.15</td>\n",
       "      <td>4.99</td>\n",
       "    </tr>\n",
       "    <tr>\n",
       "      <td>2022-01</td>\n",
       "      <td>NaN</td>\n",
       "      <td>NaN</td>\n",
       "      <td>NaN</td>\n",
       "      <td>62.97</td>\n",
       "      <td>NaN</td>\n",
       "      <td>NaN</td>\n",
       "      <td>38.42</td>\n",
       "      <td>40.24</td>\n",
       "      <td>85.63</td>\n",
       "      <td>168.10</td>\n",
       "      <td>...</td>\n",
       "      <td>161.26</td>\n",
       "      <td>64.88</td>\n",
       "      <td>16.99</td>\n",
       "      <td>NaN</td>\n",
       "      <td>NaN</td>\n",
       "      <td>NaN</td>\n",
       "      <td>36.73</td>\n",
       "      <td>59.11</td>\n",
       "      <td>160.98</td>\n",
       "      <td>53.92</td>\n",
       "    </tr>\n",
       "    <tr>\n",
       "      <td>2022-02</td>\n",
       "      <td>5.99</td>\n",
       "      <td>NaN</td>\n",
       "      <td>NaN</td>\n",
       "      <td>215.20</td>\n",
       "      <td>102.88</td>\n",
       "      <td>42.96</td>\n",
       "      <td>54.83</td>\n",
       "      <td>98.24</td>\n",
       "      <td>20.85</td>\n",
       "      <td>148.05</td>\n",
       "      <td>...</td>\n",
       "      <td>69.51</td>\n",
       "      <td>NaN</td>\n",
       "      <td>NaN</td>\n",
       "      <td>NaN</td>\n",
       "      <td>50.99</td>\n",
       "      <td>NaN</td>\n",
       "      <td>36.86</td>\n",
       "      <td>NaN</td>\n",
       "      <td>264.85</td>\n",
       "      <td>24.48</td>\n",
       "    </tr>\n",
       "  </tbody>\n",
       "</table>\n",
       "<p>12 rows × 8600 columns</p>\n",
       "</div>"
      ],
      "text/plain": [
       "client_id     c_1    c_10   c_100  c_1000  c_1001  c_1002  c_1003  c_1004  \\\n",
       "date_Ym                                                                     \n",
       "2021-03       NaN   14.99     NaN  160.77  357.19     NaN  133.96   63.09   \n",
       "2021-04       NaN  108.85   15.99   28.99   56.15   19.98   42.02   23.72   \n",
       "2021-05       NaN     NaN     NaN   39.63     NaN   23.99    6.51   15.99   \n",
       "2021-06     19.53    8.41  150.52   41.70   15.99    6.99  102.81   33.99   \n",
       "2021-07     55.22   55.97     NaN   39.23     NaN     NaN   14.99   28.45   \n",
       "2021-08     13.96  152.95   56.36   72.03   46.23   23.29     NaN  107.36   \n",
       "2021-09     19.98  111.74     NaN   98.89  125.13   34.53    7.45   36.70   \n",
       "2021-10      7.99     NaN     NaN   51.97   92.78   89.59   70.34   44.46   \n",
       "2021-11    136.91   45.98     NaN  100.91  120.72   57.32   81.34   27.99   \n",
       "2021-12     41.07   87.29     NaN   67.73  185.38     NaN     NaN     NaN   \n",
       "2022-01       NaN     NaN     NaN   62.97     NaN     NaN   38.42   40.24   \n",
       "2022-02      5.99     NaN     NaN  215.20  102.88   42.96   54.83   98.24   \n",
       "\n",
       "client_id  c_1005  c_1006  ...   c_990  c_991  c_992  c_993   c_994  c_995  \\\n",
       "date_Ym                    ...                                               \n",
       "2021-03      7.99  211.81  ...  219.95    NaN    NaN  59.99     NaN    NaN   \n",
       "2021-04     17.99  164.41  ...  100.03    NaN  85.37    NaN  172.59  14.99   \n",
       "2021-05    131.05   64.68  ...  145.22    NaN    NaN  62.48   43.10  23.35   \n",
       "2021-06       NaN   40.64  ...  160.32  70.53    NaN    NaN     NaN    NaN   \n",
       "2021-07       NaN  257.79  ...  146.70    NaN    NaN    NaN     NaN  38.75   \n",
       "2021-08       NaN  252.07  ...  192.12  57.19    NaN  57.98     NaN  17.00   \n",
       "2021-09     52.08  209.28  ...   43.59  82.41  21.98    NaN     NaN    NaN   \n",
       "2021-10     16.95  196.82  ...   94.96  27.41  17.96  27.11     NaN    NaN   \n",
       "2021-11     70.63  128.61  ...  128.43  23.99    NaN  10.29   61.05  24.99   \n",
       "2021-12     73.50   83.23  ...  179.91    NaN  29.98    NaN     NaN    NaN   \n",
       "2022-01     85.63  168.10  ...  161.26  64.88  16.99    NaN     NaN    NaN   \n",
       "2022-02     20.85  148.05  ...   69.51    NaN    NaN    NaN   50.99    NaN   \n",
       "\n",
       "client_id   c_996   c_997   c_998  c_999  \n",
       "date_Ym                                   \n",
       "2021-03    178.19     NaN  505.96    NaN  \n",
       "2021-04     31.81   42.51     NaN    NaN  \n",
       "2021-05    101.61   20.07  375.18    NaN  \n",
       "2021-06     27.78  113.25     NaN    NaN  \n",
       "2021-07    102.04   60.37   68.47  19.50  \n",
       "2021-08     59.02   10.99     NaN  49.87  \n",
       "2021-09       NaN  147.93   13.11  49.98  \n",
       "2021-10     13.99   57.99     NaN  19.97  \n",
       "2021-11     39.95   60.67   15.99  82.29  \n",
       "2021-12    111.62     NaN  123.15   4.99  \n",
       "2022-01     36.73   59.11  160.98  53.92  \n",
       "2022-02     36.86     NaN  264.85  24.48  \n",
       "\n",
       "[12 rows x 8600 columns]"
      ]
     },
     "execution_count": 91,
     "metadata": {},
     "output_type": "execute_result"
    }
   ],
   "source": [
    "sales_aclient_monthly_df = book.pivot_table(index='date_Ym', columns='client_id', values='price', aggfunc=sum)\n",
    "sales_aclient_monthly_df"
   ]
  },
  {
   "cell_type": "code",
   "execution_count": 92,
   "metadata": {},
   "outputs": [
    {
     "data": {
      "text/plain": [
       "<matplotlib.axes._subplots.AxesSubplot at 0x11dce7710>"
      ]
     },
     "execution_count": 92,
     "metadata": {},
     "output_type": "execute_result"
    },
    {
     "data": {
      "image/png": "[encoded data removed]",
      "text/plain": [
       "<Figure size 432x288 with 1 Axes>"
      ]
     },
     "metadata": {
      "needs_background": "light"
     },
     "output_type": "display_data"
    }
   ],
   "source": [
    "# Montly spending on average per client\n",
    "sales_aclient_monthly_df.T.boxplot(showfliers=False)"
   ]
  },
  {
   "cell_type": "code",
   "execution_count": 93,
   "metadata": {},
   "outputs": [
    {
     "data": {
      "text/html": [
       "<div>\n",
       "<style scoped>\n",
       "    .dataframe tbody tr th:only-of-type {\n",
       "        vertical-align: middle;\n",
       "    }\n",
       "\n",
       "    .dataframe tbody tr th {\n",
       "        vertical-align: top;\n",
       "    }\n",
       "\n",
       "    .dataframe thead th {\n",
       "        text-align: right;\n",
       "    }\n",
       "</style>\n",
       "<table border=\"1\" class=\"dataframe\">\n",
       "  <thead>\n",
       "    <tr style=\"text-align: right;\">\n",
       "      <th>session_id</th>\n",
       "      <th>s_1</th>\n",
       "      <th>s_10</th>\n",
       "      <th>s_100</th>\n",
       "      <th>s_1000</th>\n",
       "      <th>s_10000</th>\n",
       "      <th>s_100000</th>\n",
       "      <th>s_100003</th>\n",
       "      <th>s_100004</th>\n",
       "      <th>s_100005</th>\n",
       "      <th>s_100007</th>\n",
       "      <th>...</th>\n",
       "      <th>s_9999</th>\n",
       "      <th>s_99990</th>\n",
       "      <th>s_99991</th>\n",
       "      <th>s_99992</th>\n",
       "      <th>s_99993</th>\n",
       "      <th>s_99994</th>\n",
       "      <th>s_99995</th>\n",
       "      <th>s_99996</th>\n",
       "      <th>s_99997</th>\n",
       "      <th>s_99998</th>\n",
       "    </tr>\n",
       "    <tr>\n",
       "      <th>date_Ym</th>\n",
       "      <th></th>\n",
       "      <th></th>\n",
       "      <th></th>\n",
       "      <th></th>\n",
       "      <th></th>\n",
       "      <th></th>\n",
       "      <th></th>\n",
       "      <th></th>\n",
       "      <th></th>\n",
       "      <th></th>\n",
       "      <th></th>\n",
       "      <th></th>\n",
       "      <th></th>\n",
       "      <th></th>\n",
       "      <th></th>\n",
       "      <th></th>\n",
       "      <th></th>\n",
       "      <th></th>\n",
       "      <th></th>\n",
       "      <th></th>\n",
       "      <th></th>\n",
       "    </tr>\n",
       "  </thead>\n",
       "  <tbody>\n",
       "    <tr>\n",
       "      <td>2021-03</td>\n",
       "      <td>11.99</td>\n",
       "      <td>26.99</td>\n",
       "      <td>33.72</td>\n",
       "      <td>39.22</td>\n",
       "      <td>41.49</td>\n",
       "      <td>NaN</td>\n",
       "      <td>NaN</td>\n",
       "      <td>NaN</td>\n",
       "      <td>NaN</td>\n",
       "      <td>NaN</td>\n",
       "      <td>...</td>\n",
       "      <td>34.96</td>\n",
       "      <td>NaN</td>\n",
       "      <td>NaN</td>\n",
       "      <td>NaN</td>\n",
       "      <td>NaN</td>\n",
       "      <td>NaN</td>\n",
       "      <td>NaN</td>\n",
       "      <td>NaN</td>\n",
       "      <td>NaN</td>\n",
       "      <td>NaN</td>\n",
       "    </tr>\n",
       "    <tr>\n",
       "      <td>2021-04</td>\n",
       "      <td>NaN</td>\n",
       "      <td>NaN</td>\n",
       "      <td>NaN</td>\n",
       "      <td>NaN</td>\n",
       "      <td>NaN</td>\n",
       "      <td>NaN</td>\n",
       "      <td>NaN</td>\n",
       "      <td>NaN</td>\n",
       "      <td>NaN</td>\n",
       "      <td>NaN</td>\n",
       "      <td>...</td>\n",
       "      <td>NaN</td>\n",
       "      <td>NaN</td>\n",
       "      <td>NaN</td>\n",
       "      <td>NaN</td>\n",
       "      <td>NaN</td>\n",
       "      <td>NaN</td>\n",
       "      <td>NaN</td>\n",
       "      <td>NaN</td>\n",
       "      <td>NaN</td>\n",
       "      <td>NaN</td>\n",
       "    </tr>\n",
       "    <tr>\n",
       "      <td>2021-05</td>\n",
       "      <td>NaN</td>\n",
       "      <td>NaN</td>\n",
       "      <td>NaN</td>\n",
       "      <td>NaN</td>\n",
       "      <td>NaN</td>\n",
       "      <td>NaN</td>\n",
       "      <td>NaN</td>\n",
       "      <td>NaN</td>\n",
       "      <td>NaN</td>\n",
       "      <td>NaN</td>\n",
       "      <td>...</td>\n",
       "      <td>NaN</td>\n",
       "      <td>NaN</td>\n",
       "      <td>NaN</td>\n",
       "      <td>NaN</td>\n",
       "      <td>NaN</td>\n",
       "      <td>NaN</td>\n",
       "      <td>NaN</td>\n",
       "      <td>NaN</td>\n",
       "      <td>NaN</td>\n",
       "      <td>NaN</td>\n",
       "    </tr>\n",
       "    <tr>\n",
       "      <td>2021-06</td>\n",
       "      <td>NaN</td>\n",
       "      <td>NaN</td>\n",
       "      <td>NaN</td>\n",
       "      <td>NaN</td>\n",
       "      <td>NaN</td>\n",
       "      <td>NaN</td>\n",
       "      <td>NaN</td>\n",
       "      <td>NaN</td>\n",
       "      <td>NaN</td>\n",
       "      <td>NaN</td>\n",
       "      <td>...</td>\n",
       "      <td>NaN</td>\n",
       "      <td>NaN</td>\n",
       "      <td>NaN</td>\n",
       "      <td>NaN</td>\n",
       "      <td>NaN</td>\n",
       "      <td>NaN</td>\n",
       "      <td>NaN</td>\n",
       "      <td>NaN</td>\n",
       "      <td>NaN</td>\n",
       "      <td>NaN</td>\n",
       "    </tr>\n",
       "    <tr>\n",
       "      <td>2021-07</td>\n",
       "      <td>NaN</td>\n",
       "      <td>NaN</td>\n",
       "      <td>NaN</td>\n",
       "      <td>NaN</td>\n",
       "      <td>NaN</td>\n",
       "      <td>NaN</td>\n",
       "      <td>NaN</td>\n",
       "      <td>NaN</td>\n",
       "      <td>NaN</td>\n",
       "      <td>NaN</td>\n",
       "      <td>...</td>\n",
       "      <td>NaN</td>\n",
       "      <td>NaN</td>\n",
       "      <td>NaN</td>\n",
       "      <td>NaN</td>\n",
       "      <td>NaN</td>\n",
       "      <td>NaN</td>\n",
       "      <td>NaN</td>\n",
       "      <td>NaN</td>\n",
       "      <td>NaN</td>\n",
       "      <td>NaN</td>\n",
       "    </tr>\n",
       "    <tr>\n",
       "      <td>2021-08</td>\n",
       "      <td>NaN</td>\n",
       "      <td>NaN</td>\n",
       "      <td>NaN</td>\n",
       "      <td>NaN</td>\n",
       "      <td>NaN</td>\n",
       "      <td>NaN</td>\n",
       "      <td>NaN</td>\n",
       "      <td>NaN</td>\n",
       "      <td>NaN</td>\n",
       "      <td>NaN</td>\n",
       "      <td>...</td>\n",
       "      <td>NaN</td>\n",
       "      <td>NaN</td>\n",
       "      <td>NaN</td>\n",
       "      <td>NaN</td>\n",
       "      <td>NaN</td>\n",
       "      <td>NaN</td>\n",
       "      <td>NaN</td>\n",
       "      <td>NaN</td>\n",
       "      <td>NaN</td>\n",
       "      <td>NaN</td>\n",
       "    </tr>\n",
       "    <tr>\n",
       "      <td>2021-09</td>\n",
       "      <td>NaN</td>\n",
       "      <td>NaN</td>\n",
       "      <td>NaN</td>\n",
       "      <td>NaN</td>\n",
       "      <td>NaN</td>\n",
       "      <td>NaN</td>\n",
       "      <td>NaN</td>\n",
       "      <td>NaN</td>\n",
       "      <td>NaN</td>\n",
       "      <td>NaN</td>\n",
       "      <td>...</td>\n",
       "      <td>NaN</td>\n",
       "      <td>NaN</td>\n",
       "      <td>NaN</td>\n",
       "      <td>NaN</td>\n",
       "      <td>NaN</td>\n",
       "      <td>NaN</td>\n",
       "      <td>NaN</td>\n",
       "      <td>NaN</td>\n",
       "      <td>NaN</td>\n",
       "      <td>NaN</td>\n",
       "    </tr>\n",
       "    <tr>\n",
       "      <td>2021-10</td>\n",
       "      <td>NaN</td>\n",
       "      <td>NaN</td>\n",
       "      <td>NaN</td>\n",
       "      <td>NaN</td>\n",
       "      <td>NaN</td>\n",
       "      <td>10.0</td>\n",
       "      <td>51.18</td>\n",
       "      <td>9.92</td>\n",
       "      <td>4.99</td>\n",
       "      <td>8.99</td>\n",
       "      <td>...</td>\n",
       "      <td>NaN</td>\n",
       "      <td>22.91</td>\n",
       "      <td>19.99</td>\n",
       "      <td>7.99</td>\n",
       "      <td>8.58</td>\n",
       "      <td>28.92</td>\n",
       "      <td>19.84</td>\n",
       "      <td>56.27</td>\n",
       "      <td>6.99</td>\n",
       "      <td>35.11</td>\n",
       "    </tr>\n",
       "    <tr>\n",
       "      <td>2021-11</td>\n",
       "      <td>NaN</td>\n",
       "      <td>NaN</td>\n",
       "      <td>NaN</td>\n",
       "      <td>NaN</td>\n",
       "      <td>NaN</td>\n",
       "      <td>NaN</td>\n",
       "      <td>NaN</td>\n",
       "      <td>NaN</td>\n",
       "      <td>NaN</td>\n",
       "      <td>NaN</td>\n",
       "      <td>...</td>\n",
       "      <td>NaN</td>\n",
       "      <td>NaN</td>\n",
       "      <td>NaN</td>\n",
       "      <td>NaN</td>\n",
       "      <td>NaN</td>\n",
       "      <td>NaN</td>\n",
       "      <td>NaN</td>\n",
       "      <td>NaN</td>\n",
       "      <td>NaN</td>\n",
       "      <td>NaN</td>\n",
       "    </tr>\n",
       "    <tr>\n",
       "      <td>2021-12</td>\n",
       "      <td>NaN</td>\n",
       "      <td>NaN</td>\n",
       "      <td>NaN</td>\n",
       "      <td>NaN</td>\n",
       "      <td>NaN</td>\n",
       "      <td>NaN</td>\n",
       "      <td>NaN</td>\n",
       "      <td>NaN</td>\n",
       "      <td>NaN</td>\n",
       "      <td>NaN</td>\n",
       "      <td>...</td>\n",
       "      <td>NaN</td>\n",
       "      <td>NaN</td>\n",
       "      <td>NaN</td>\n",
       "      <td>NaN</td>\n",
       "      <td>NaN</td>\n",
       "      <td>NaN</td>\n",
       "      <td>NaN</td>\n",
       "      <td>NaN</td>\n",
       "      <td>NaN</td>\n",
       "      <td>NaN</td>\n",
       "    </tr>\n",
       "    <tr>\n",
       "      <td>2022-01</td>\n",
       "      <td>NaN</td>\n",
       "      <td>NaN</td>\n",
       "      <td>NaN</td>\n",
       "      <td>NaN</td>\n",
       "      <td>NaN</td>\n",
       "      <td>NaN</td>\n",
       "      <td>NaN</td>\n",
       "      <td>NaN</td>\n",
       "      <td>NaN</td>\n",
       "      <td>NaN</td>\n",
       "      <td>...</td>\n",
       "      <td>NaN</td>\n",
       "      <td>NaN</td>\n",
       "      <td>NaN</td>\n",
       "      <td>NaN</td>\n",
       "      <td>NaN</td>\n",
       "      <td>NaN</td>\n",
       "      <td>NaN</td>\n",
       "      <td>NaN</td>\n",
       "      <td>NaN</td>\n",
       "      <td>NaN</td>\n",
       "    </tr>\n",
       "    <tr>\n",
       "      <td>2022-02</td>\n",
       "      <td>NaN</td>\n",
       "      <td>NaN</td>\n",
       "      <td>NaN</td>\n",
       "      <td>NaN</td>\n",
       "      <td>NaN</td>\n",
       "      <td>NaN</td>\n",
       "      <td>NaN</td>\n",
       "      <td>NaN</td>\n",
       "      <td>NaN</td>\n",
       "      <td>NaN</td>\n",
       "      <td>...</td>\n",
       "      <td>NaN</td>\n",
       "      <td>NaN</td>\n",
       "      <td>NaN</td>\n",
       "      <td>NaN</td>\n",
       "      <td>NaN</td>\n",
       "      <td>NaN</td>\n",
       "      <td>NaN</td>\n",
       "      <td>NaN</td>\n",
       "      <td>NaN</td>\n",
       "      <td>NaN</td>\n",
       "    </tr>\n",
       "  </tbody>\n",
       "</table>\n",
       "<p>12 rows × 169173 columns</p>\n",
       "</div>"
      ],
      "text/plain": [
       "session_id    s_1   s_10  s_100  s_1000  s_10000  s_100000  s_100003  \\\n",
       "date_Ym                                                                \n",
       "2021-03     11.99  26.99  33.72   39.22    41.49       NaN       NaN   \n",
       "2021-04       NaN    NaN    NaN     NaN      NaN       NaN       NaN   \n",
       "2021-05       NaN    NaN    NaN     NaN      NaN       NaN       NaN   \n",
       "2021-06       NaN    NaN    NaN     NaN      NaN       NaN       NaN   \n",
       "2021-07       NaN    NaN    NaN     NaN      NaN       NaN       NaN   \n",
       "2021-08       NaN    NaN    NaN     NaN      NaN       NaN       NaN   \n",
       "2021-09       NaN    NaN    NaN     NaN      NaN       NaN       NaN   \n",
       "2021-10       NaN    NaN    NaN     NaN      NaN      10.0     51.18   \n",
       "2021-11       NaN    NaN    NaN     NaN      NaN       NaN       NaN   \n",
       "2021-12       NaN    NaN    NaN     NaN      NaN       NaN       NaN   \n",
       "2022-01       NaN    NaN    NaN     NaN      NaN       NaN       NaN   \n",
       "2022-02       NaN    NaN    NaN     NaN      NaN       NaN       NaN   \n",
       "\n",
       "session_id  s_100004  s_100005  s_100007  ...  s_9999  s_99990  s_99991  \\\n",
       "date_Ym                                   ...                             \n",
       "2021-03          NaN       NaN       NaN  ...   34.96      NaN      NaN   \n",
       "2021-04          NaN       NaN       NaN  ...     NaN      NaN      NaN   \n",
       "2021-05          NaN       NaN       NaN  ...     NaN      NaN      NaN   \n",
       "2021-06          NaN       NaN       NaN  ...     NaN      NaN      NaN   \n",
       "2021-07          NaN       NaN       NaN  ...     NaN      NaN      NaN   \n",
       "2021-08          NaN       NaN       NaN  ...     NaN      NaN      NaN   \n",
       "2021-09          NaN       NaN       NaN  ...     NaN      NaN      NaN   \n",
       "2021-10         9.92      4.99      8.99  ...     NaN    22.91    19.99   \n",
       "2021-11          NaN       NaN       NaN  ...     NaN      NaN      NaN   \n",
       "2021-12          NaN       NaN       NaN  ...     NaN      NaN      NaN   \n",
       "2022-01          NaN       NaN       NaN  ...     NaN      NaN      NaN   \n",
       "2022-02          NaN       NaN       NaN  ...     NaN      NaN      NaN   \n",
       "\n",
       "session_id  s_99992  s_99993  s_99994  s_99995  s_99996  s_99997  s_99998  \n",
       "date_Ym                                                                    \n",
       "2021-03         NaN      NaN      NaN      NaN      NaN      NaN      NaN  \n",
       "2021-04         NaN      NaN      NaN      NaN      NaN      NaN      NaN  \n",
       "2021-05         NaN      NaN      NaN      NaN      NaN      NaN      NaN  \n",
       "2021-06         NaN      NaN      NaN      NaN      NaN      NaN      NaN  \n",
       "2021-07         NaN      NaN      NaN      NaN      NaN      NaN      NaN  \n",
       "2021-08         NaN      NaN      NaN      NaN      NaN      NaN      NaN  \n",
       "2021-09         NaN      NaN      NaN      NaN      NaN      NaN      NaN  \n",
       "2021-10        7.99     8.58    28.92    19.84    56.27     6.99    35.11  \n",
       "2021-11         NaN      NaN      NaN      NaN      NaN      NaN      NaN  \n",
       "2021-12         NaN      NaN      NaN      NaN      NaN      NaN      NaN  \n",
       "2022-01         NaN      NaN      NaN      NaN      NaN      NaN      NaN  \n",
       "2022-02         NaN      NaN      NaN      NaN      NaN      NaN      NaN  \n",
       "\n",
       "[12 rows x 169173 columns]"
      ]
     },
     "execution_count": 93,
     "metadata": {},
     "output_type": "execute_result"
    }
   ],
   "source": [
    "sales_asession_monthly_df = book.pivot_table(index='date_Ym', columns='session_id', values='price', aggfunc=sum)\n",
    "sales_asession_monthly_df"
   ]
  },
  {
   "cell_type": "code",
   "execution_count": 94,
   "metadata": {},
   "outputs": [
    {
     "data": {
      "text/plain": [
       "<matplotlib.axes._subplots.AxesSubplot at 0x11d56fe48>"
      ]
     },
     "execution_count": 94,
     "metadata": {},
     "output_type": "execute_result"
    },
    {
     "data": {
      "image/png": "[encoded data removed]",
      "text/plain": [
       "<Figure size 432x288 with 1 Axes>"
      ]
     },
     "metadata": {
      "needs_background": "light"
     },
     "output_type": "display_data"
    }
   ],
   "source": [
    "# Montly spending on average per client\n",
    "sales_asession_monthly_df.T.boxplot(showfliers=False)"
   ]
  },
  {
   "cell_type": "code",
   "execution_count": 95,
   "metadata": {},
   "outputs": [
    {
     "data": {
      "text/plain": [
       "14.070120944476823"
      ]
     },
     "execution_count": 95,
     "metadata": {},
     "output_type": "execute_result"
    }
   ],
   "source": [
    "# Sturges rule \n",
    "kp = 1 + math.log(sales_aclient_yearly.shape[0],2)\n",
    "kp"
   ]
  },
  {
   "cell_type": "code",
   "execution_count": 96,
   "metadata": {},
   "outputs": [
    {
     "data": {
      "image/png": "[encoded data removed]",
      "text/plain": [
       "<Figure size 432x288 with 1 Axes>"
      ]
     },
     "metadata": {
      "needs_background": "light"
     },
     "output_type": "display_data"
    }
   ],
   "source": [
    "#Courbe de Lorentz\n",
    "lorenz = np.cumsum(np.sort(sales_aclient_yearly)) / sales_aclient_yearly.sum()\n",
    "lorenz = np.append([0], lorenz)\n",
    "n = len(sales_aclient_yearly)\n",
    "plt.axes().axis('equal')\n",
    "xaxis = np.linspace(0, 1, len(lorenz))\n",
    "plt.plot(xaxis, lorenz, drawstyle='steps-post', color='red')\n",
    "plt.plot([0,1], [0,1], color='blue')\n",
    "plt.title('courbe de Lorenz des dépenses des acheteurs')\n",
    "plt.show()"
   ]
  },
  {
   "cell_type": "code",
   "execution_count": 97,
   "metadata": {},
   "outputs": [
    {
     "data": {
      "text/plain": [
       "'0.44'"
      ]
     },
     "execution_count": 97,
     "metadata": {},
     "output_type": "execute_result"
    }
   ],
   "source": [
    "area_red = lorenz[:].sum()/len(lorenz)\n",
    "S = 0.5 - area_red\n",
    "gini = 2*S\n",
    "\"%.2f\" % gini"
   ]
  },
  {
   "cell_type": "markdown",
   "metadata": {},
   "source": [
    "Sur la fin gros desequilibre de 4 clients qui depensent largement plus que les autres."
   ]
  },
  {
   "cell_type": "code",
   "execution_count": 98,
   "metadata": {},
   "outputs": [
    {
     "data": {
      "text/plain": [
       "session_id\n",
       "s_1        11.99\n",
       "s_10       26.99\n",
       "s_100      33.72\n",
       "s_1000     39.22\n",
       "s_10000    41.49\n",
       "           ...  \n",
       "s_99994    28.92\n",
       "s_99995    19.84\n",
       "s_99996    56.27\n",
       "s_99997     6.99\n",
       "s_99998    35.11\n",
       "Name: price, Length: 169173, dtype: float64"
      ]
     },
     "execution_count": 98,
     "metadata": {},
     "output_type": "execute_result"
    }
   ],
   "source": [
    "sales_atrans_yearly = book.groupby('session_id')['price'].sum()\n",
    "sales_atrans_yearly"
   ]
  },
  {
   "cell_type": "code",
   "execution_count": 99,
   "metadata": {},
   "outputs": [
    {
     "name": "stdout",
     "output_type": "stream",
     "text": [
      "le pic de prix est de 15.99,\n",
      "la valeur mediane des prix est a 25.56,\n",
      "et la moyenne de prix est de 34.26\n",
      "avec un ecart type empirique de 31.87\n",
      "skew: 3.35\n",
      "kurtosis: 18.84\n",
      "\n"
     ]
    }
   ],
   "source": [
    "central_measures(sales_atrans_yearly)"
   ]
  },
  {
   "cell_type": "code",
   "execution_count": 100,
   "metadata": {},
   "outputs": [
    {
     "data": {
      "text/plain": [
       "18.368139807230563"
      ]
     },
     "execution_count": 100,
     "metadata": {},
     "output_type": "execute_result"
    }
   ],
   "source": [
    "# Sturges rule \n",
    "kp = 1 + math.log(sales_atrans_yearly.shape[0],2)\n",
    "kp"
   ]
  },
  {
   "cell_type": "code",
   "execution_count": 101,
   "metadata": {},
   "outputs": [
    {
     "data": {
      "text/plain": [
       "<matplotlib.axes._subplots.AxesSubplot at 0x11d683da0>"
      ]
     },
     "execution_count": 101,
     "metadata": {},
     "output_type": "execute_result"
    },
    {
     "data": {
      "image/png": "[encoded data removed]",
      "text/plain": [
       "<Figure size 432x288 with 1 Axes>"
      ]
     },
     "metadata": {
      "needs_background": "light"
     },
     "output_type": "display_data"
    }
   ],
   "source": [
    "sales_atrans_yearly.hist(density=False, bins=18)"
   ]
  },
  {
   "cell_type": "code",
   "execution_count": 102,
   "metadata": {},
   "outputs": [
    {
     "data": {
      "text/plain": [
       "sex\n",
       "f    2.859122e+06\n",
       "m    2.937456e+06\n",
       "Name: price, dtype: float64"
      ]
     },
     "execution_count": 102,
     "metadata": {},
     "output_type": "execute_result"
    }
   ],
   "source": [
    "sales_asex_yearly = book.groupby('sex')['price'].sum()\n",
    "sales_asex_yearly"
   ]
  },
  {
   "cell_type": "markdown",
   "metadata": {},
   "source": [
    "Refaire les analyses univariees sur le dataframe transactions / book\n",
    "Courbe de Gini sur CA par client\n",
    "Serie temporelle CA pour la serie temporelle / avec dimension categorie\n",
    "Analyse bivariee: comparer 2 var qualitative, chi2 / 2 var quantit avec coef correlation lin / 1 quali et 1 quanti Kruskal Wallis ==>"
   ]
  },
  {
   "cell_type": "markdown",
   "metadata": {},
   "source": [
    "### evaluer la frequence d'achat par client\n"
   ]
  },
  {
   "cell_type": "code",
   "execution_count": 103,
   "metadata": {},
   "outputs": [
    {
     "data": {
      "text/html": [
       "<div>\n",
       "<style scoped>\n",
       "    .dataframe tbody tr th:only-of-type {\n",
       "        vertical-align: middle;\n",
       "    }\n",
       "\n",
       "    .dataframe tbody tr th {\n",
       "        vertical-align: top;\n",
       "    }\n",
       "\n",
       "    .dataframe thead th {\n",
       "        text-align: right;\n",
       "    }\n",
       "</style>\n",
       "<table border=\"1\" class=\"dataframe\">\n",
       "  <thead>\n",
       "    <tr style=\"text-align: right;\">\n",
       "      <th>client_id</th>\n",
       "      <th>c_1</th>\n",
       "      <th>c_10</th>\n",
       "      <th>c_100</th>\n",
       "      <th>c_1000</th>\n",
       "      <th>c_1001</th>\n",
       "      <th>c_1002</th>\n",
       "      <th>c_1003</th>\n",
       "      <th>c_1004</th>\n",
       "      <th>c_1005</th>\n",
       "      <th>c_1006</th>\n",
       "      <th>...</th>\n",
       "      <th>c_990</th>\n",
       "      <th>c_991</th>\n",
       "      <th>c_992</th>\n",
       "      <th>c_993</th>\n",
       "      <th>c_994</th>\n",
       "      <th>c_995</th>\n",
       "      <th>c_996</th>\n",
       "      <th>c_997</th>\n",
       "      <th>c_998</th>\n",
       "      <th>c_999</th>\n",
       "    </tr>\n",
       "    <tr>\n",
       "      <th>date_Ym</th>\n",
       "      <th></th>\n",
       "      <th></th>\n",
       "      <th></th>\n",
       "      <th></th>\n",
       "      <th></th>\n",
       "      <th></th>\n",
       "      <th></th>\n",
       "      <th></th>\n",
       "      <th></th>\n",
       "      <th></th>\n",
       "      <th></th>\n",
       "      <th></th>\n",
       "      <th></th>\n",
       "      <th></th>\n",
       "      <th></th>\n",
       "      <th></th>\n",
       "      <th></th>\n",
       "      <th></th>\n",
       "      <th></th>\n",
       "      <th></th>\n",
       "      <th></th>\n",
       "    </tr>\n",
       "  </thead>\n",
       "  <tbody>\n",
       "    <tr>\n",
       "      <td>2021-03</td>\n",
       "      <td>NaN</td>\n",
       "      <td>1.0</td>\n",
       "      <td>NaN</td>\n",
       "      <td>9.0</td>\n",
       "      <td>6.0</td>\n",
       "      <td>NaN</td>\n",
       "      <td>11.0</td>\n",
       "      <td>7.0</td>\n",
       "      <td>1.0</td>\n",
       "      <td>14.0</td>\n",
       "      <td>...</td>\n",
       "      <td>16.0</td>\n",
       "      <td>NaN</td>\n",
       "      <td>NaN</td>\n",
       "      <td>4.0</td>\n",
       "      <td>NaN</td>\n",
       "      <td>NaN</td>\n",
       "      <td>10.0</td>\n",
       "      <td>NaN</td>\n",
       "      <td>4.0</td>\n",
       "      <td>NaN</td>\n",
       "    </tr>\n",
       "    <tr>\n",
       "      <td>2021-04</td>\n",
       "      <td>NaN</td>\n",
       "      <td>7.0</td>\n",
       "      <td>1.0</td>\n",
       "      <td>1.0</td>\n",
       "      <td>5.0</td>\n",
       "      <td>2.0</td>\n",
       "      <td>3.0</td>\n",
       "      <td>3.0</td>\n",
       "      <td>1.0</td>\n",
       "      <td>13.0</td>\n",
       "      <td>...</td>\n",
       "      <td>8.0</td>\n",
       "      <td>NaN</td>\n",
       "      <td>5.0</td>\n",
       "      <td>NaN</td>\n",
       "      <td>6.0</td>\n",
       "      <td>1.0</td>\n",
       "      <td>2.0</td>\n",
       "      <td>1.0</td>\n",
       "      <td>NaN</td>\n",
       "      <td>NaN</td>\n",
       "    </tr>\n",
       "    <tr>\n",
       "      <td>2021-05</td>\n",
       "      <td>NaN</td>\n",
       "      <td>NaN</td>\n",
       "      <td>NaN</td>\n",
       "      <td>3.0</td>\n",
       "      <td>NaN</td>\n",
       "      <td>1.0</td>\n",
       "      <td>1.0</td>\n",
       "      <td>1.0</td>\n",
       "      <td>9.0</td>\n",
       "      <td>7.0</td>\n",
       "      <td>...</td>\n",
       "      <td>12.0</td>\n",
       "      <td>NaN</td>\n",
       "      <td>NaN</td>\n",
       "      <td>4.0</td>\n",
       "      <td>4.0</td>\n",
       "      <td>2.0</td>\n",
       "      <td>5.0</td>\n",
       "      <td>2.0</td>\n",
       "      <td>7.0</td>\n",
       "      <td>NaN</td>\n",
       "    </tr>\n",
       "    <tr>\n",
       "      <td>2021-06</td>\n",
       "      <td>1.0</td>\n",
       "      <td>1.0</td>\n",
       "      <td>2.0</td>\n",
       "      <td>3.0</td>\n",
       "      <td>1.0</td>\n",
       "      <td>1.0</td>\n",
       "      <td>10.0</td>\n",
       "      <td>1.0</td>\n",
       "      <td>NaN</td>\n",
       "      <td>4.0</td>\n",
       "      <td>...</td>\n",
       "      <td>15.0</td>\n",
       "      <td>5.0</td>\n",
       "      <td>NaN</td>\n",
       "      <td>NaN</td>\n",
       "      <td>NaN</td>\n",
       "      <td>NaN</td>\n",
       "      <td>2.0</td>\n",
       "      <td>2.0</td>\n",
       "      <td>NaN</td>\n",
       "      <td>NaN</td>\n",
       "    </tr>\n",
       "    <tr>\n",
       "      <td>2021-07</td>\n",
       "      <td>4.0</td>\n",
       "      <td>3.0</td>\n",
       "      <td>NaN</td>\n",
       "      <td>2.0</td>\n",
       "      <td>NaN</td>\n",
       "      <td>NaN</td>\n",
       "      <td>1.0</td>\n",
       "      <td>2.0</td>\n",
       "      <td>NaN</td>\n",
       "      <td>17.0</td>\n",
       "      <td>...</td>\n",
       "      <td>9.0</td>\n",
       "      <td>NaN</td>\n",
       "      <td>NaN</td>\n",
       "      <td>NaN</td>\n",
       "      <td>NaN</td>\n",
       "      <td>2.0</td>\n",
       "      <td>4.0</td>\n",
       "      <td>1.0</td>\n",
       "      <td>2.0</td>\n",
       "      <td>1.0</td>\n",
       "    </tr>\n",
       "    <tr>\n",
       "      <td>2021-08</td>\n",
       "      <td>1.0</td>\n",
       "      <td>4.0</td>\n",
       "      <td>3.0</td>\n",
       "      <td>5.0</td>\n",
       "      <td>3.0</td>\n",
       "      <td>3.0</td>\n",
       "      <td>NaN</td>\n",
       "      <td>7.0</td>\n",
       "      <td>NaN</td>\n",
       "      <td>18.0</td>\n",
       "      <td>...</td>\n",
       "      <td>16.0</td>\n",
       "      <td>4.0</td>\n",
       "      <td>NaN</td>\n",
       "      <td>2.0</td>\n",
       "      <td>NaN</td>\n",
       "      <td>2.0</td>\n",
       "      <td>3.0</td>\n",
       "      <td>1.0</td>\n",
       "      <td>NaN</td>\n",
       "      <td>3.0</td>\n",
       "    </tr>\n",
       "    <tr>\n",
       "      <td>2021-09</td>\n",
       "      <td>2.0</td>\n",
       "      <td>5.0</td>\n",
       "      <td>NaN</td>\n",
       "      <td>6.0</td>\n",
       "      <td>10.0</td>\n",
       "      <td>3.0</td>\n",
       "      <td>1.0</td>\n",
       "      <td>3.0</td>\n",
       "      <td>6.0</td>\n",
       "      <td>15.0</td>\n",
       "      <td>...</td>\n",
       "      <td>5.0</td>\n",
       "      <td>8.0</td>\n",
       "      <td>2.0</td>\n",
       "      <td>NaN</td>\n",
       "      <td>NaN</td>\n",
       "      <td>NaN</td>\n",
       "      <td>NaN</td>\n",
       "      <td>7.0</td>\n",
       "      <td>1.0</td>\n",
       "      <td>5.0</td>\n",
       "    </tr>\n",
       "    <tr>\n",
       "      <td>2021-10</td>\n",
       "      <td>1.0</td>\n",
       "      <td>NaN</td>\n",
       "      <td>NaN</td>\n",
       "      <td>3.0</td>\n",
       "      <td>6.0</td>\n",
       "      <td>7.0</td>\n",
       "      <td>8.0</td>\n",
       "      <td>4.0</td>\n",
       "      <td>1.0</td>\n",
       "      <td>15.0</td>\n",
       "      <td>...</td>\n",
       "      <td>10.0</td>\n",
       "      <td>3.0</td>\n",
       "      <td>2.0</td>\n",
       "      <td>2.0</td>\n",
       "      <td>NaN</td>\n",
       "      <td>NaN</td>\n",
       "      <td>1.0</td>\n",
       "      <td>1.0</td>\n",
       "      <td>NaN</td>\n",
       "      <td>2.0</td>\n",
       "    </tr>\n",
       "    <tr>\n",
       "      <td>2021-11</td>\n",
       "      <td>7.0</td>\n",
       "      <td>2.0</td>\n",
       "      <td>NaN</td>\n",
       "      <td>5.0</td>\n",
       "      <td>8.0</td>\n",
       "      <td>3.0</td>\n",
       "      <td>6.0</td>\n",
       "      <td>1.0</td>\n",
       "      <td>3.0</td>\n",
       "      <td>9.0</td>\n",
       "      <td>...</td>\n",
       "      <td>12.0</td>\n",
       "      <td>1.0</td>\n",
       "      <td>NaN</td>\n",
       "      <td>1.0</td>\n",
       "      <td>2.0</td>\n",
       "      <td>1.0</td>\n",
       "      <td>4.0</td>\n",
       "      <td>4.0</td>\n",
       "      <td>1.0</td>\n",
       "      <td>5.0</td>\n",
       "    </tr>\n",
       "    <tr>\n",
       "      <td>2021-12</td>\n",
       "      <td>3.0</td>\n",
       "      <td>5.0</td>\n",
       "      <td>NaN</td>\n",
       "      <td>5.0</td>\n",
       "      <td>10.0</td>\n",
       "      <td>NaN</td>\n",
       "      <td>NaN</td>\n",
       "      <td>NaN</td>\n",
       "      <td>4.0</td>\n",
       "      <td>8.0</td>\n",
       "      <td>...</td>\n",
       "      <td>13.0</td>\n",
       "      <td>NaN</td>\n",
       "      <td>2.0</td>\n",
       "      <td>NaN</td>\n",
       "      <td>NaN</td>\n",
       "      <td>NaN</td>\n",
       "      <td>7.0</td>\n",
       "      <td>NaN</td>\n",
       "      <td>9.0</td>\n",
       "      <td>1.0</td>\n",
       "    </tr>\n",
       "    <tr>\n",
       "      <td>2022-01</td>\n",
       "      <td>NaN</td>\n",
       "      <td>NaN</td>\n",
       "      <td>NaN</td>\n",
       "      <td>3.0</td>\n",
       "      <td>NaN</td>\n",
       "      <td>NaN</td>\n",
       "      <td>4.0</td>\n",
       "      <td>2.0</td>\n",
       "      <td>6.0</td>\n",
       "      <td>12.0</td>\n",
       "      <td>...</td>\n",
       "      <td>7.0</td>\n",
       "      <td>5.0</td>\n",
       "      <td>1.0</td>\n",
       "      <td>NaN</td>\n",
       "      <td>NaN</td>\n",
       "      <td>NaN</td>\n",
       "      <td>2.0</td>\n",
       "      <td>4.0</td>\n",
       "      <td>2.0</td>\n",
       "      <td>3.0</td>\n",
       "    </tr>\n",
       "    <tr>\n",
       "      <td>2022-02</td>\n",
       "      <td>1.0</td>\n",
       "      <td>NaN</td>\n",
       "      <td>NaN</td>\n",
       "      <td>11.0</td>\n",
       "      <td>9.0</td>\n",
       "      <td>4.0</td>\n",
       "      <td>4.0</td>\n",
       "      <td>6.0</td>\n",
       "      <td>1.0</td>\n",
       "      <td>11.0</td>\n",
       "      <td>...</td>\n",
       "      <td>5.0</td>\n",
       "      <td>NaN</td>\n",
       "      <td>NaN</td>\n",
       "      <td>NaN</td>\n",
       "      <td>1.0</td>\n",
       "      <td>NaN</td>\n",
       "      <td>2.0</td>\n",
       "      <td>NaN</td>\n",
       "      <td>2.0</td>\n",
       "      <td>2.0</td>\n",
       "    </tr>\n",
       "  </tbody>\n",
       "</table>\n",
       "<p>12 rows × 8600 columns</p>\n",
       "</div>"
      ],
      "text/plain": [
       "client_id  c_1  c_10  c_100  c_1000  c_1001  c_1002  c_1003  c_1004  c_1005  \\\n",
       "date_Ym                                                                       \n",
       "2021-03    NaN   1.0    NaN     9.0     6.0     NaN    11.0     7.0     1.0   \n",
       "2021-04    NaN   7.0    1.0     1.0     5.0     2.0     3.0     3.0     1.0   \n",
       "2021-05    NaN   NaN    NaN     3.0     NaN     1.0     1.0     1.0     9.0   \n",
       "2021-06    1.0   1.0    2.0     3.0     1.0     1.0    10.0     1.0     NaN   \n",
       "2021-07    4.0   3.0    NaN     2.0     NaN     NaN     1.0     2.0     NaN   \n",
       "2021-08    1.0   4.0    3.0     5.0     3.0     3.0     NaN     7.0     NaN   \n",
       "2021-09    2.0   5.0    NaN     6.0    10.0     3.0     1.0     3.0     6.0   \n",
       "2021-10    1.0   NaN    NaN     3.0     6.0     7.0     8.0     4.0     1.0   \n",
       "2021-11    7.0   2.0    NaN     5.0     8.0     3.0     6.0     1.0     3.0   \n",
       "2021-12    3.0   5.0    NaN     5.0    10.0     NaN     NaN     NaN     4.0   \n",
       "2022-01    NaN   NaN    NaN     3.0     NaN     NaN     4.0     2.0     6.0   \n",
       "2022-02    1.0   NaN    NaN    11.0     9.0     4.0     4.0     6.0     1.0   \n",
       "\n",
       "client_id  c_1006  ...  c_990  c_991  c_992  c_993  c_994  c_995  c_996  \\\n",
       "date_Ym            ...                                                    \n",
       "2021-03      14.0  ...   16.0    NaN    NaN    4.0    NaN    NaN   10.0   \n",
       "2021-04      13.0  ...    8.0    NaN    5.0    NaN    6.0    1.0    2.0   \n",
       "2021-05       7.0  ...   12.0    NaN    NaN    4.0    4.0    2.0    5.0   \n",
       "2021-06       4.0  ...   15.0    5.0    NaN    NaN    NaN    NaN    2.0   \n",
       "2021-07      17.0  ...    9.0    NaN    NaN    NaN    NaN    2.0    4.0   \n",
       "2021-08      18.0  ...   16.0    4.0    NaN    2.0    NaN    2.0    3.0   \n",
       "2021-09      15.0  ...    5.0    8.0    2.0    NaN    NaN    NaN    NaN   \n",
       "2021-10      15.0  ...   10.0    3.0    2.0    2.0    NaN    NaN    1.0   \n",
       "2021-11       9.0  ...   12.0    1.0    NaN    1.0    2.0    1.0    4.0   \n",
       "2021-12       8.0  ...   13.0    NaN    2.0    NaN    NaN    NaN    7.0   \n",
       "2022-01      12.0  ...    7.0    5.0    1.0    NaN    NaN    NaN    2.0   \n",
       "2022-02      11.0  ...    5.0    NaN    NaN    NaN    1.0    NaN    2.0   \n",
       "\n",
       "client_id  c_997  c_998  c_999  \n",
       "date_Ym                         \n",
       "2021-03      NaN    4.0    NaN  \n",
       "2021-04      1.0    NaN    NaN  \n",
       "2021-05      2.0    7.0    NaN  \n",
       "2021-06      2.0    NaN    NaN  \n",
       "2021-07      1.0    2.0    1.0  \n",
       "2021-08      1.0    NaN    3.0  \n",
       "2021-09      7.0    1.0    5.0  \n",
       "2021-10      1.0    NaN    2.0  \n",
       "2021-11      4.0    1.0    5.0  \n",
       "2021-12      NaN    9.0    1.0  \n",
       "2022-01      4.0    2.0    3.0  \n",
       "2022-02      NaN    2.0    2.0  \n",
       "\n",
       "[12 rows x 8600 columns]"
      ]
     },
     "execution_count": 103,
     "metadata": {},
     "output_type": "execute_result"
    }
   ],
   "source": [
    "sales_aclient_amonth = book.pivot_table(index='date_Ym', columns='client_id', values='session_id', aggfunc=len)\n",
    "sales_aclient_amonth"
   ]
  },
  {
   "cell_type": "code",
   "execution_count": 104,
   "metadata": {},
   "outputs": [],
   "source": [
    "sales_aclient_amonth['freq'] = sales_aclient_amonth.mean(axis=1, skipna=True)"
   ]
  },
  {
   "cell_type": "code",
   "execution_count": 105,
   "metadata": {},
   "outputs": [
    {
     "data": {
      "text/plain": [
       "date_Ym\n",
       "2021-03    5.031536\n",
       "2021-04    5.005464\n",
       "2021-05    5.003012\n",
       "2021-06    4.737940\n",
       "2021-07    4.356841\n",
       "2021-08    4.539171\n",
       "2021-09    5.841209\n",
       "2021-10    4.235768\n",
       "2021-11    4.811404\n",
       "2021-12    5.525311\n",
       "2022-01    5.045791\n",
       "2022-02    5.159016\n",
       "Name: freq, dtype: float64"
      ]
     },
     "execution_count": 105,
     "metadata": {},
     "output_type": "execute_result"
    }
   ],
   "source": [
    "sales_aclient_amonth['freq'] "
   ]
  },
  {
   "cell_type": "markdown",
   "metadata": {},
   "source": [
    "ici nombre de visite moyenne par client par mois. Par mois les client font en moyenne 5 achats par client"
   ]
  },
  {
   "cell_type": "code",
   "execution_count": 106,
   "metadata": {},
   "outputs": [
    {
     "data": {
      "text/plain": [
       "client_id\n",
       "c_1       2.500000\n",
       "c_10      3.500000\n",
       "c_100     2.000000\n",
       "c_1000    4.666667\n",
       "c_1001    6.444444\n",
       "            ...   \n",
       "c_996     3.818182\n",
       "c_997     2.555556\n",
       "c_998     3.500000\n",
       "c_999     2.750000\n",
       "freq      4.941038\n",
       "Length: 8601, dtype: float64"
      ]
     },
     "execution_count": 106,
     "metadata": {},
     "output_type": "execute_result"
    }
   ],
   "source": [
    "sales_aclient_freq_yearly = sales_aclient_amonth.mean(axis=0, skipna=True)\n",
    "sales_aclient_freq_yearly"
   ]
  },
  {
   "cell_type": "markdown",
   "metadata": {},
   "source": [
    "sur l'annee les clients font ce nombre d'achat mensuel moyen"
   ]
  },
  {
   "cell_type": "markdown",
   "metadata": {},
   "source": [
    "## Analyses bivariees\n",
    "\n",
    "- sexe et categorie qa / qa\n",
    "- age et categorie qt /qa\n",
    "\n",
    "- sexe et depenses annuelles qa / qt\n",
    "\n",
    "- age et depenses annuelles qt / qt\n",
    "- age et panier qt/qt\n",
    "\n"
   ]
  },
  {
   "cell_type": "markdown",
   "metadata": {},
   "source": [
    "#### sexe et categorie"
   ]
  },
  {
   "cell_type": "code",
   "execution_count": 182,
   "metadata": {},
   "outputs": [
    {
     "data": {
      "text/html": [
       "<div>\n",
       "<style scoped>\n",
       "    .dataframe tbody tr th:only-of-type {\n",
       "        vertical-align: middle;\n",
       "    }\n",
       "\n",
       "    .dataframe tbody tr th {\n",
       "        vertical-align: top;\n",
       "    }\n",
       "\n",
       "    .dataframe thead th {\n",
       "        text-align: right;\n",
       "    }\n",
       "</style>\n",
       "<table border=\"1\" class=\"dataframe\">\n",
       "  <thead>\n",
       "    <tr style=\"text-align: right;\">\n",
       "      <th>categ</th>\n",
       "      <th>0.0</th>\n",
       "      <th>1.0</th>\n",
       "      <th>2.0</th>\n",
       "      <th>Total</th>\n",
       "    </tr>\n",
       "    <tr>\n",
       "      <th>sex</th>\n",
       "      <th></th>\n",
       "      <th></th>\n",
       "      <th></th>\n",
       "      <th></th>\n",
       "    </tr>\n",
       "  </thead>\n",
       "  <tbody>\n",
       "    <tr>\n",
       "      <td>f</td>\n",
       "      <td>103786</td>\n",
       "      <td>55469</td>\n",
       "      <td>8260</td>\n",
       "      <td>167515</td>\n",
       "    </tr>\n",
       "    <tr>\n",
       "      <td>m</td>\n",
       "      <td>105640</td>\n",
       "      <td>54266</td>\n",
       "      <td>9292</td>\n",
       "      <td>169198</td>\n",
       "    </tr>\n",
       "    <tr>\n",
       "      <td>Total</td>\n",
       "      <td>209426</td>\n",
       "      <td>109735</td>\n",
       "      <td>17552</td>\n",
       "      <td>336713</td>\n",
       "    </tr>\n",
       "  </tbody>\n",
       "</table>\n",
       "</div>"
      ],
      "text/plain": [
       "categ     0.0     1.0    2.0   Total\n",
       "sex                                 \n",
       "f      103786   55469   8260  167515\n",
       "m      105640   54266   9292  169198\n",
       "Total  209426  109735  17552  336713"
      ]
     },
     "execution_count": 182,
     "metadata": {},
     "output_type": "execute_result"
    }
   ],
   "source": [
    "X = 'sex'\n",
    "Y = 'categ'\n",
    "\n",
    "cont= book[[X,Y]].pivot_table(index=X, columns=Y, aggfunc=len,margins=True, margins_name=\"Total\")\n",
    "cont"
   ]
  },
  {
   "cell_type": "code",
   "execution_count": 180,
   "metadata": {},
   "outputs": [
    {
     "data": {
      "text/html": [
       "<div>\n",
       "<style scoped>\n",
       "    .dataframe tbody tr th:only-of-type {\n",
       "        vertical-align: middle;\n",
       "    }\n",
       "\n",
       "    .dataframe tbody tr th {\n",
       "        vertical-align: top;\n",
       "    }\n",
       "\n",
       "    .dataframe thead th {\n",
       "        text-align: right;\n",
       "    }\n",
       "</style>\n",
       "<table border=\"1\" class=\"dataframe\">\n",
       "  <thead>\n",
       "    <tr style=\"text-align: right;\">\n",
       "      <th>sex</th>\n",
       "      <th>f</th>\n",
       "      <th>m</th>\n",
       "      <th>Total</th>\n",
       "    </tr>\n",
       "    <tr>\n",
       "      <th>categ</th>\n",
       "      <th></th>\n",
       "      <th></th>\n",
       "      <th></th>\n",
       "    </tr>\n",
       "  </thead>\n",
       "  <tbody>\n",
       "    <tr>\n",
       "      <td>Total</td>\n",
       "      <td>167515</td>\n",
       "      <td>169198</td>\n",
       "      <td>336713</td>\n",
       "    </tr>\n",
       "  </tbody>\n",
       "</table>\n",
       "</div>"
      ],
      "text/plain": [
       "sex         f       m   Total\n",
       "categ                        \n",
       "Total  167515  169198  336713"
      ]
     },
     "execution_count": 180,
     "metadata": {},
     "output_type": "execute_result"
    }
   ],
   "source": [
    "import seaborn as sns\n",
    "from scipy.stats import chi2_contingency\n",
    "\n",
    "tx = cont.loc[:,['Total']]\n",
    "ty = cont.loc[['Total'],:]\n",
    "ty"
   ]
  },
  {
   "cell_type": "code",
   "execution_count": 181,
   "metadata": {},
   "outputs": [
    {
     "data": {
      "text/plain": [
       "(81.86933350990711,\n",
       " 1.467788236006804e-15,\n",
       " 6,\n",
       " array([[104189.61070704, 105236.38929296, 209426.        ],\n",
       "        [ 54593.25456695,  55141.74543305, 109735.        ],\n",
       "        [  8732.13472601,   8819.86527399,  17552.        ],\n",
       "        [167515.        , 169198.        , 336713.        ]]))"
      ]
     },
     "execution_count": 181,
     "metadata": {},
     "output_type": "execute_result"
    }
   ],
   "source": [
    "chi_2, p_value, dof, exp = chi2_contingency(cont)\n",
    "(chi_2, p_value, dof, exp)"
   ]
  },
  {
   "cell_type": "code",
   "execution_count": 110,
   "metadata": {},
   "outputs": [
    {
     "data": {
      "text/html": [
       "<div>\n",
       "<style scoped>\n",
       "    .dataframe tbody tr th:only-of-type {\n",
       "        vertical-align: middle;\n",
       "    }\n",
       "\n",
       "    .dataframe tbody tr th {\n",
       "        vertical-align: top;\n",
       "    }\n",
       "\n",
       "    .dataframe thead th {\n",
       "        text-align: right;\n",
       "    }\n",
       "</style>\n",
       "<table border=\"1\" class=\"dataframe\">\n",
       "  <thead>\n",
       "    <tr style=\"text-align: right;\">\n",
       "      <th>categ</th>\n",
       "      <th>0.0</th>\n",
       "      <th>1.0</th>\n",
       "      <th>2.0</th>\n",
       "      <th>Total</th>\n",
       "    </tr>\n",
       "    <tr>\n",
       "      <th>sex</th>\n",
       "      <th></th>\n",
       "      <th></th>\n",
       "      <th></th>\n",
       "      <th></th>\n",
       "    </tr>\n",
       "  </thead>\n",
       "  <tbody>\n",
       "    <tr>\n",
       "      <td>f</td>\n",
       "      <td>104189.610707</td>\n",
       "      <td>54593.254567</td>\n",
       "      <td>8732.134726</td>\n",
       "      <td>167515.0</td>\n",
       "    </tr>\n",
       "    <tr>\n",
       "      <td>m</td>\n",
       "      <td>105236.389293</td>\n",
       "      <td>55141.745433</td>\n",
       "      <td>8819.865274</td>\n",
       "      <td>169198.0</td>\n",
       "    </tr>\n",
       "    <tr>\n",
       "      <td>Total</td>\n",
       "      <td>209426.000000</td>\n",
       "      <td>109735.000000</td>\n",
       "      <td>17552.000000</td>\n",
       "      <td>336713.0</td>\n",
       "    </tr>\n",
       "  </tbody>\n",
       "</table>\n",
       "</div>"
      ],
      "text/plain": [
       "categ            0.0            1.0           2.0     Total\n",
       "sex                                                        \n",
       "f      104189.610707   54593.254567   8732.134726  167515.0\n",
       "m      105236.389293   55141.745433   8819.865274  169198.0\n",
       "Total  209426.000000  109735.000000  17552.000000  336713.0"
      ]
     },
     "execution_count": 110,
     "metadata": {},
     "output_type": "execute_result"
    }
   ],
   "source": [
    "n = len(book)\n",
    "indep = tx.dot(ty)/n # Tableau d'independance\n",
    "indep"
   ]
  },
  {
   "cell_type": "markdown",
   "metadata": {},
   "source": [
    "Le tableau d'independance montre ce qui devrait etre obtenu en theorie"
   ]
  },
  {
   "cell_type": "code",
   "execution_count": 111,
   "metadata": {},
   "outputs": [
    {
     "data": {
      "text/plain": [
       "81.86933350990711"
      ]
     },
     "execution_count": 111,
     "metadata": {},
     "output_type": "execute_result"
    }
   ],
   "source": [
    "c = cont.fillna(0) # Tableau de contingence\n",
    "measure= (c-indep)**2/indep # normalisation\n",
    "xi_n = measure.sum().sum()# double somme, d'abord sur les colonnes ==> obtention d'une serie puis somme sur celle ci\n",
    "xi_n # l'indicateur du Khi2"
   ]
  },
  {
   "cell_type": "code",
   "execution_count": 178,
   "metadata": {
    "scrolled": true
   },
   "outputs": [
    {
     "data": {
      "image/png": "[encoded data removed]",
      "text/plain": [
       "<Figure size 432x288 with 2 Axes>"
      ]
     },
     "metadata": {
      "needs_background": "light"
     },
     "output_type": "display_data"
    }
   ],
   "source": [
    "table = measure/xi_n\n",
    "sns.heatmap(table.iloc[:-1, :-1], annot=table.iloc[:-1, :-1])\n",
    "plt.show()"
   ]
  },
  {
   "cell_type": "markdown",
   "metadata": {},
   "source": [
    "#### age et montant total des achats sur l'annee"
   ]
  },
  {
   "cell_type": "code",
   "execution_count": 113,
   "metadata": {},
   "outputs": [
    {
     "data": {
      "text/plain": [
       "client_id\n",
       "c_1        300.65\n",
       "c_10       586.18\n",
       "c_100      222.87\n",
       "c_1000     980.02\n",
       "c_1001    1102.45\n",
       "           ...   \n",
       "c_995      119.08\n",
       "c_996      739.60\n",
       "c_997      572.89\n",
       "c_998     1527.69\n",
       "c_999      305.00\n",
       "Name: price, Length: 8600, dtype: float64"
      ]
     },
     "execution_count": 113,
     "metadata": {},
     "output_type": "execute_result"
    }
   ],
   "source": [
    "basket = book.loc[:,['client_id', 'price']]\n",
    "t_basket =basket.groupby('client_id')['price'].sum()\n",
    "t_basket"
   ]
  },
  {
   "cell_type": "code",
   "execution_count": 114,
   "metadata": {},
   "outputs": [],
   "source": [
    "f_basket = pd.merge(t_basket, customers, on='client_id', how='left')\n",
    "outliers_mask = ~f_basket['client_id'].isin(freaks)\n",
    "f_basket = f_basket.loc[outliers_mask]\n"
   ]
  },
  {
   "cell_type": "code",
   "execution_count": 115,
   "metadata": {},
   "outputs": [
    {
     "data": {
      "text/plain": [
       "[<matplotlib.lines.Line2D at 0x12265f780>]"
      ]
     },
     "execution_count": 115,
     "metadata": {},
     "output_type": "execute_result"
    },
    {
     "data": {
      "image/png": "[encoded data removed]",
      "text/plain": [
       "<Figure size 432x288 with 1 Axes>"
      ]
     },
     "metadata": {
      "needs_background": "light"
     },
     "output_type": "display_data"
    }
   ],
   "source": [
    "plt.plot(f_basket[\"age\"], f_basket[\"price\"],'o', alpha=0.5)\n"
   ]
  },
  {
   "cell_type": "markdown",
   "metadata": {},
   "source": [
    "#### Age et frequence d'achat mensuelle"
   ]
  },
  {
   "cell_type": "code",
   "execution_count": 116,
   "metadata": {},
   "outputs": [
    {
     "data": {
      "text/html": [
       "<div>\n",
       "<style scoped>\n",
       "    .dataframe tbody tr th:only-of-type {\n",
       "        vertical-align: middle;\n",
       "    }\n",
       "\n",
       "    .dataframe tbody tr th {\n",
       "        vertical-align: top;\n",
       "    }\n",
       "\n",
       "    .dataframe thead th {\n",
       "        text-align: right;\n",
       "    }\n",
       "</style>\n",
       "<table border=\"1\" class=\"dataframe\">\n",
       "  <thead>\n",
       "    <tr style=\"text-align: right;\">\n",
       "      <th>date_Ym</th>\n",
       "      <th>2021-03</th>\n",
       "      <th>2021-04</th>\n",
       "      <th>2021-05</th>\n",
       "      <th>2021-06</th>\n",
       "      <th>2021-07</th>\n",
       "      <th>2021-08</th>\n",
       "      <th>2021-09</th>\n",
       "      <th>2021-10</th>\n",
       "      <th>2021-11</th>\n",
       "      <th>2021-12</th>\n",
       "      <th>2022-01</th>\n",
       "      <th>2022-02</th>\n",
       "      <th>purchases_amonth_mean</th>\n",
       "    </tr>\n",
       "    <tr>\n",
       "      <th>client_id</th>\n",
       "      <th></th>\n",
       "      <th></th>\n",
       "      <th></th>\n",
       "      <th></th>\n",
       "      <th></th>\n",
       "      <th></th>\n",
       "      <th></th>\n",
       "      <th></th>\n",
       "      <th></th>\n",
       "      <th></th>\n",
       "      <th></th>\n",
       "      <th></th>\n",
       "      <th></th>\n",
       "    </tr>\n",
       "  </thead>\n",
       "  <tbody>\n",
       "    <tr>\n",
       "      <td>c_1</td>\n",
       "      <td>0.0</td>\n",
       "      <td>0.0</td>\n",
       "      <td>0.0</td>\n",
       "      <td>1.0</td>\n",
       "      <td>4.0</td>\n",
       "      <td>1.0</td>\n",
       "      <td>2.0</td>\n",
       "      <td>1.0</td>\n",
       "      <td>7.0</td>\n",
       "      <td>3.0</td>\n",
       "      <td>0.0</td>\n",
       "      <td>1.0</td>\n",
       "      <td>1.666667</td>\n",
       "    </tr>\n",
       "    <tr>\n",
       "      <td>c_10</td>\n",
       "      <td>1.0</td>\n",
       "      <td>7.0</td>\n",
       "      <td>0.0</td>\n",
       "      <td>1.0</td>\n",
       "      <td>3.0</td>\n",
       "      <td>4.0</td>\n",
       "      <td>5.0</td>\n",
       "      <td>0.0</td>\n",
       "      <td>2.0</td>\n",
       "      <td>5.0</td>\n",
       "      <td>0.0</td>\n",
       "      <td>0.0</td>\n",
       "      <td>2.333333</td>\n",
       "    </tr>\n",
       "    <tr>\n",
       "      <td>c_100</td>\n",
       "      <td>0.0</td>\n",
       "      <td>1.0</td>\n",
       "      <td>0.0</td>\n",
       "      <td>2.0</td>\n",
       "      <td>0.0</td>\n",
       "      <td>3.0</td>\n",
       "      <td>0.0</td>\n",
       "      <td>0.0</td>\n",
       "      <td>0.0</td>\n",
       "      <td>0.0</td>\n",
       "      <td>0.0</td>\n",
       "      <td>0.0</td>\n",
       "      <td>0.500000</td>\n",
       "    </tr>\n",
       "    <tr>\n",
       "      <td>c_1000</td>\n",
       "      <td>9.0</td>\n",
       "      <td>1.0</td>\n",
       "      <td>3.0</td>\n",
       "      <td>3.0</td>\n",
       "      <td>2.0</td>\n",
       "      <td>5.0</td>\n",
       "      <td>6.0</td>\n",
       "      <td>3.0</td>\n",
       "      <td>5.0</td>\n",
       "      <td>5.0</td>\n",
       "      <td>3.0</td>\n",
       "      <td>11.0</td>\n",
       "      <td>4.666667</td>\n",
       "    </tr>\n",
       "    <tr>\n",
       "      <td>c_1001</td>\n",
       "      <td>6.0</td>\n",
       "      <td>5.0</td>\n",
       "      <td>0.0</td>\n",
       "      <td>1.0</td>\n",
       "      <td>0.0</td>\n",
       "      <td>3.0</td>\n",
       "      <td>10.0</td>\n",
       "      <td>6.0</td>\n",
       "      <td>8.0</td>\n",
       "      <td>10.0</td>\n",
       "      <td>0.0</td>\n",
       "      <td>9.0</td>\n",
       "      <td>4.833333</td>\n",
       "    </tr>\n",
       "    <tr>\n",
       "      <td>...</td>\n",
       "      <td>...</td>\n",
       "      <td>...</td>\n",
       "      <td>...</td>\n",
       "      <td>...</td>\n",
       "      <td>...</td>\n",
       "      <td>...</td>\n",
       "      <td>...</td>\n",
       "      <td>...</td>\n",
       "      <td>...</td>\n",
       "      <td>...</td>\n",
       "      <td>...</td>\n",
       "      <td>...</td>\n",
       "      <td>...</td>\n",
       "    </tr>\n",
       "    <tr>\n",
       "      <td>c_995</td>\n",
       "      <td>0.0</td>\n",
       "      <td>1.0</td>\n",
       "      <td>2.0</td>\n",
       "      <td>0.0</td>\n",
       "      <td>2.0</td>\n",
       "      <td>2.0</td>\n",
       "      <td>0.0</td>\n",
       "      <td>0.0</td>\n",
       "      <td>1.0</td>\n",
       "      <td>0.0</td>\n",
       "      <td>0.0</td>\n",
       "      <td>0.0</td>\n",
       "      <td>0.666667</td>\n",
       "    </tr>\n",
       "    <tr>\n",
       "      <td>c_996</td>\n",
       "      <td>10.0</td>\n",
       "      <td>2.0</td>\n",
       "      <td>5.0</td>\n",
       "      <td>2.0</td>\n",
       "      <td>4.0</td>\n",
       "      <td>3.0</td>\n",
       "      <td>0.0</td>\n",
       "      <td>1.0</td>\n",
       "      <td>4.0</td>\n",
       "      <td>7.0</td>\n",
       "      <td>2.0</td>\n",
       "      <td>2.0</td>\n",
       "      <td>3.500000</td>\n",
       "    </tr>\n",
       "    <tr>\n",
       "      <td>c_997</td>\n",
       "      <td>0.0</td>\n",
       "      <td>1.0</td>\n",
       "      <td>2.0</td>\n",
       "      <td>2.0</td>\n",
       "      <td>1.0</td>\n",
       "      <td>1.0</td>\n",
       "      <td>7.0</td>\n",
       "      <td>1.0</td>\n",
       "      <td>4.0</td>\n",
       "      <td>0.0</td>\n",
       "      <td>4.0</td>\n",
       "      <td>0.0</td>\n",
       "      <td>1.916667</td>\n",
       "    </tr>\n",
       "    <tr>\n",
       "      <td>c_998</td>\n",
       "      <td>4.0</td>\n",
       "      <td>0.0</td>\n",
       "      <td>7.0</td>\n",
       "      <td>0.0</td>\n",
       "      <td>2.0</td>\n",
       "      <td>0.0</td>\n",
       "      <td>1.0</td>\n",
       "      <td>0.0</td>\n",
       "      <td>1.0</td>\n",
       "      <td>9.0</td>\n",
       "      <td>2.0</td>\n",
       "      <td>2.0</td>\n",
       "      <td>2.333333</td>\n",
       "    </tr>\n",
       "    <tr>\n",
       "      <td>c_999</td>\n",
       "      <td>0.0</td>\n",
       "      <td>0.0</td>\n",
       "      <td>0.0</td>\n",
       "      <td>0.0</td>\n",
       "      <td>1.0</td>\n",
       "      <td>3.0</td>\n",
       "      <td>5.0</td>\n",
       "      <td>2.0</td>\n",
       "      <td>5.0</td>\n",
       "      <td>1.0</td>\n",
       "      <td>3.0</td>\n",
       "      <td>2.0</td>\n",
       "      <td>1.833333</td>\n",
       "    </tr>\n",
       "  </tbody>\n",
       "</table>\n",
       "<p>8600 rows × 13 columns</p>\n",
       "</div>"
      ],
      "text/plain": [
       "date_Ym    2021-03  2021-04  2021-05  2021-06  2021-07  2021-08  2021-09  \\\n",
       "client_id                                                                  \n",
       "c_1            0.0      0.0      0.0      1.0      4.0      1.0      2.0   \n",
       "c_10           1.0      7.0      0.0      1.0      3.0      4.0      5.0   \n",
       "c_100          0.0      1.0      0.0      2.0      0.0      3.0      0.0   \n",
       "c_1000         9.0      1.0      3.0      3.0      2.0      5.0      6.0   \n",
       "c_1001         6.0      5.0      0.0      1.0      0.0      3.0     10.0   \n",
       "...            ...      ...      ...      ...      ...      ...      ...   \n",
       "c_995          0.0      1.0      2.0      0.0      2.0      2.0      0.0   \n",
       "c_996         10.0      2.0      5.0      2.0      4.0      3.0      0.0   \n",
       "c_997          0.0      1.0      2.0      2.0      1.0      1.0      7.0   \n",
       "c_998          4.0      0.0      7.0      0.0      2.0      0.0      1.0   \n",
       "c_999          0.0      0.0      0.0      0.0      1.0      3.0      5.0   \n",
       "\n",
       "date_Ym    2021-10  2021-11  2021-12  2022-01  2022-02  purchases_amonth_mean  \n",
       "client_id                                                                      \n",
       "c_1            1.0      7.0      3.0      0.0      1.0               1.666667  \n",
       "c_10           0.0      2.0      5.0      0.0      0.0               2.333333  \n",
       "c_100          0.0      0.0      0.0      0.0      0.0               0.500000  \n",
       "c_1000         3.0      5.0      5.0      3.0     11.0               4.666667  \n",
       "c_1001         6.0      8.0     10.0      0.0      9.0               4.833333  \n",
       "...            ...      ...      ...      ...      ...                    ...  \n",
       "c_995          0.0      1.0      0.0      0.0      0.0               0.666667  \n",
       "c_996          1.0      4.0      7.0      2.0      2.0               3.500000  \n",
       "c_997          1.0      4.0      0.0      4.0      0.0               1.916667  \n",
       "c_998          0.0      1.0      9.0      2.0      2.0               2.333333  \n",
       "c_999          2.0      5.0      1.0      3.0      2.0               1.833333  \n",
       "\n",
       "[8600 rows x 13 columns]"
      ]
     },
     "execution_count": 116,
     "metadata": {},
     "output_type": "execute_result"
    }
   ],
   "source": [
    "freq_monthly = book.pivot_table(index='client_id', columns='date_Ym', values='session_id', aggfunc=len)\n",
    "freq_monthly = freq_monthly.fillna(0)\n",
    "freq_monthly[\"purchases_amonth_mean\"] = freq_monthly.mean(axis=1, skipna=False)\n",
    "freq_monthly\n"
   ]
  },
  {
   "cell_type": "code",
   "execution_count": 159,
   "metadata": {},
   "outputs": [],
   "source": [
    "f_freq = pd.merge(freq_monthly[\"purchases_amonth_mean\"], customers, on='client_id', how='left')\n",
    "outliers_mask = ~f_freq['client_id'].isin(freaks)\n",
    "f_freq = f_freq.loc[outliers_mask]\n"
   ]
  },
  {
   "cell_type": "code",
   "execution_count": 160,
   "metadata": {},
   "outputs": [
    {
     "data": {
      "text/plain": [
       "[<matplotlib.lines.Line2D at 0x12d10d358>]"
      ]
     },
     "execution_count": 160,
     "metadata": {},
     "output_type": "execute_result"
    },
    {
     "data": {
      "image/png": "[encoded data removed]",
      "text/plain": [
       "<Figure size 432x288 with 1 Axes>"
      ]
     },
     "metadata": {
      "needs_background": "light"
     },
     "output_type": "display_data"
    }
   ],
   "source": [
    "plt.plot(f_freq[\"age\"], f_freq[\"purchases_amonth_mean\"],'o', alpha=0.5)\n"
   ]
  },
  {
   "cell_type": "markdown",
   "metadata": {},
   "source": [
    "merge sur client_id et on filtre sur derniere colonne"
   ]
  },
  {
   "cell_type": "markdown",
   "metadata": {},
   "source": [
    "#### Age et taille moyenne des paniers"
   ]
  },
  {
   "cell_type": "code",
   "execution_count": 170,
   "metadata": {},
   "outputs": [
    {
     "data": {
      "text/html": [
       "<div>\n",
       "<style scoped>\n",
       "    .dataframe tbody tr th:only-of-type {\n",
       "        vertical-align: middle;\n",
       "    }\n",
       "\n",
       "    .dataframe tbody tr th {\n",
       "        vertical-align: top;\n",
       "    }\n",
       "\n",
       "    .dataframe thead th {\n",
       "        text-align: right;\n",
       "    }\n",
       "</style>\n",
       "<table border=\"1\" class=\"dataframe\">\n",
       "  <thead>\n",
       "    <tr style=\"text-align: right;\">\n",
       "      <th></th>\n",
       "      <th>session_id</th>\n",
       "      <th>id_prod</th>\n",
       "    </tr>\n",
       "  </thead>\n",
       "  <tbody>\n",
       "    <tr>\n",
       "      <td>0</td>\n",
       "      <td>s_1</td>\n",
       "      <td>0_1259</td>\n",
       "    </tr>\n",
       "    <tr>\n",
       "      <td>1</td>\n",
       "      <td>s_2</td>\n",
       "      <td>0_1390</td>\n",
       "    </tr>\n",
       "    <tr>\n",
       "      <td>2</td>\n",
       "      <td>s_3</td>\n",
       "      <td>0_1352</td>\n",
       "    </tr>\n",
       "    <tr>\n",
       "      <td>3</td>\n",
       "      <td>s_4</td>\n",
       "      <td>0_1458</td>\n",
       "    </tr>\n",
       "    <tr>\n",
       "      <td>4</td>\n",
       "      <td>s_5</td>\n",
       "      <td>0_1358</td>\n",
       "    </tr>\n",
       "    <tr>\n",
       "      <td>...</td>\n",
       "      <td>...</td>\n",
       "      <td>...</td>\n",
       "    </tr>\n",
       "    <tr>\n",
       "      <td>336708</td>\n",
       "      <td>s_172422</td>\n",
       "      <td>1_456</td>\n",
       "    </tr>\n",
       "    <tr>\n",
       "      <td>336709</td>\n",
       "      <td>s_172423</td>\n",
       "      <td>1_370</td>\n",
       "    </tr>\n",
       "    <tr>\n",
       "      <td>336710</td>\n",
       "      <td>s_172424</td>\n",
       "      <td>0_1538</td>\n",
       "    </tr>\n",
       "    <tr>\n",
       "      <td>336711</td>\n",
       "      <td>s_172423</td>\n",
       "      <td>0_1403</td>\n",
       "    </tr>\n",
       "    <tr>\n",
       "      <td>336712</td>\n",
       "      <td>s_172423</td>\n",
       "      <td>0_1775</td>\n",
       "    </tr>\n",
       "  </tbody>\n",
       "</table>\n",
       "<p>336713 rows × 2 columns</p>\n",
       "</div>"
      ],
      "text/plain": [
       "       session_id id_prod\n",
       "0             s_1  0_1259\n",
       "1             s_2  0_1390\n",
       "2             s_3  0_1352\n",
       "3             s_4  0_1458\n",
       "4             s_5  0_1358\n",
       "...           ...     ...\n",
       "336708   s_172422   1_456\n",
       "336709   s_172423   1_370\n",
       "336710   s_172424  0_1538\n",
       "336711   s_172423  0_1403\n",
       "336712   s_172423  0_1775\n",
       "\n",
       "[336713 rows x 2 columns]"
      ]
     },
     "execution_count": 170,
     "metadata": {},
     "output_type": "execute_result"
    }
   ],
   "source": [
    "basket_size = book.loc[:,['session_id', 'id_prod']]\n",
    "basket_size"
   ]
  },
  {
   "cell_type": "code",
   "execution_count": 171,
   "metadata": {},
   "outputs": [
    {
     "data": {
      "text/plain": [
       "session_id\n",
       "s_1        1\n",
       "s_10       1\n",
       "s_100      2\n",
       "s_1000     4\n",
       "s_10000    3\n",
       "          ..\n",
       "s_99994    3\n",
       "s_99995    1\n",
       "s_99996    4\n",
       "s_99997    1\n",
       "s_99998    3\n",
       "Name: id_prod, Length: 169173, dtype: int64"
      ]
     },
     "execution_count": 171,
     "metadata": {},
     "output_type": "execute_result"
    }
   ],
   "source": [
    "f_basket_size = basket_size.groupby('session_id')['id_prod'].count()\n",
    "f_basket_size"
   ]
  },
  {
   "cell_type": "code",
   "execution_count": 175,
   "metadata": {},
   "outputs": [
    {
     "data": {
      "text/html": [
       "<div>\n",
       "<style scoped>\n",
       "    .dataframe tbody tr th:only-of-type {\n",
       "        vertical-align: middle;\n",
       "    }\n",
       "\n",
       "    .dataframe tbody tr th {\n",
       "        vertical-align: top;\n",
       "    }\n",
       "\n",
       "    .dataframe thead th {\n",
       "        text-align: right;\n",
       "    }\n",
       "</style>\n",
       "<table border=\"1\" class=\"dataframe\">\n",
       "  <thead>\n",
       "    <tr style=\"text-align: right;\">\n",
       "      <th></th>\n",
       "      <th>session_id</th>\n",
       "      <th>id_prod</th>\n",
       "      <th>age</th>\n",
       "    </tr>\n",
       "  </thead>\n",
       "  <tbody>\n",
       "    <tr>\n",
       "      <td>0</td>\n",
       "      <td>s_1</td>\n",
       "      <td>1</td>\n",
       "      <td>52.0</td>\n",
       "    </tr>\n",
       "    <tr>\n",
       "      <td>1</td>\n",
       "      <td>s_10</td>\n",
       "      <td>1</td>\n",
       "      <td>49.0</td>\n",
       "    </tr>\n",
       "    <tr>\n",
       "      <td>2</td>\n",
       "      <td>s_100</td>\n",
       "      <td>2</td>\n",
       "      <td>41.0</td>\n",
       "    </tr>\n",
       "    <tr>\n",
       "      <td>3</td>\n",
       "      <td>s_100</td>\n",
       "      <td>2</td>\n",
       "      <td>41.0</td>\n",
       "    </tr>\n",
       "    <tr>\n",
       "      <td>4</td>\n",
       "      <td>s_1000</td>\n",
       "      <td>4</td>\n",
       "      <td>30.0</td>\n",
       "    </tr>\n",
       "    <tr>\n",
       "      <td>...</td>\n",
       "      <td>...</td>\n",
       "      <td>...</td>\n",
       "      <td>...</td>\n",
       "    </tr>\n",
       "    <tr>\n",
       "      <td>336708</td>\n",
       "      <td>s_99996</td>\n",
       "      <td>4</td>\n",
       "      <td>45.0</td>\n",
       "    </tr>\n",
       "    <tr>\n",
       "      <td>336709</td>\n",
       "      <td>s_99997</td>\n",
       "      <td>1</td>\n",
       "      <td>40.0</td>\n",
       "    </tr>\n",
       "    <tr>\n",
       "      <td>336710</td>\n",
       "      <td>s_99998</td>\n",
       "      <td>3</td>\n",
       "      <td>41.0</td>\n",
       "    </tr>\n",
       "    <tr>\n",
       "      <td>336711</td>\n",
       "      <td>s_99998</td>\n",
       "      <td>3</td>\n",
       "      <td>41.0</td>\n",
       "    </tr>\n",
       "    <tr>\n",
       "      <td>336712</td>\n",
       "      <td>s_99998</td>\n",
       "      <td>3</td>\n",
       "      <td>41.0</td>\n",
       "    </tr>\n",
       "  </tbody>\n",
       "</table>\n",
       "<p>336713 rows × 3 columns</p>\n",
       "</div>"
      ],
      "text/plain": [
       "       session_id  id_prod   age\n",
       "0             s_1        1  52.0\n",
       "1            s_10        1  49.0\n",
       "2           s_100        2  41.0\n",
       "3           s_100        2  41.0\n",
       "4          s_1000        4  30.0\n",
       "...           ...      ...   ...\n",
       "336708    s_99996        4  45.0\n",
       "336709    s_99997        1  40.0\n",
       "336710    s_99998        3  41.0\n",
       "336711    s_99998        3  41.0\n",
       "336712    s_99998        3  41.0\n",
       "\n",
       "[336713 rows x 3 columns]"
      ]
     },
     "execution_count": 175,
     "metadata": {},
     "output_type": "execute_result"
    }
   ],
   "source": [
    "f_basket_size = pd.merge(f_basket_size, book.loc[:,['session_id', 'age']], on='session_id', how='left')\n",
    "f_basket_size"
   ]
  },
  {
   "cell_type": "code",
   "execution_count": 177,
   "metadata": {},
   "outputs": [
    {
     "data": {
      "text/plain": [
       "[<matplotlib.lines.Line2D at 0x124cdfd68>]"
      ]
     },
     "execution_count": 177,
     "metadata": {},
     "output_type": "execute_result"
    },
    {
     "data": {
      "image/png": "[encoded data removed]",
      "text/plain": [
       "<Figure size 432x288 with 1 Axes>"
      ]
     },
     "metadata": {
      "needs_background": "light"
     },
     "output_type": "display_data"
    }
   ],
   "source": [
    "plt.plot(f_basket_size['age'], f_basket_size['id_prod'],'o', alpha=0.5)\n"
   ]
  },
  {
   "cell_type": "markdown",
   "metadata": {},
   "source": [
    "on merge sur session id et on filtre sur cette colonne et age\n"
   ]
  },
  {
   "cell_type": "markdown",
   "metadata": {},
   "source": [
    "#### Age et catégories de produits achetés"
   ]
  },
  {
   "cell_type": "code",
   "execution_count": 153,
   "metadata": {},
   "outputs": [
    {
     "data": {
      "image/png": "[encoded data removed]",
      "text/plain": [
       "<Figure size 432x288 with 1 Axes>"
      ]
     },
     "metadata": {
      "needs_background": "light"
     },
     "output_type": "display_data"
    }
   ],
   "source": [
    "X = \"categ\" # qualitative\n",
    "Y = \"age\" # quantitative\n",
    "\n",
    "modalites = book[X].unique()\n",
    "groupes = []\n",
    "for m in modalites:\n",
    "    groupes.append(book[book[X]==m][Y])\n",
    "\n",
    "# Propriétés graphiques    \n",
    "medianprops = {'color':\"black\"}\n",
    "meanprops = {'marker':'o', 'markeredgecolor':'black',\n",
    "            'markerfacecolor':'firebrick'}\n",
    "    \n",
    "plt.boxplot(groupes, labels=modalites, showfliers=False, medianprops=medianprops, \n",
    "            vert=False, patch_artist=True, showmeans=True, meanprops=meanprops)\n",
    "\n",
    "\n",
    "\n",
    "plt.savefig('boxplot age catégorie.png')\n",
    "\n"
   ]
  },
  {
   "cell_type": "code",
   "execution_count": 152,
   "metadata": {},
   "outputs": [
    {
     "name": "stdout",
     "output_type": "stream",
     "text": [
      "coefficient de Pearson & P-Value (-0.09861243223973028, 0.0)\n"
     ]
    }
   ],
   "source": [
    "from scipy.stats import pearsonr\n",
    "\n",
    "plt.show()\n",
    "print(\"coefficient de Pearson & P-Value\",pearsonr(book[\"categ\"], book[\"age\"]))"
   ]
  },
  {
   "cell_type": "code",
   "execution_count": null,
   "metadata": {},
   "outputs": [],
   "source": []
  }
 ],
 "metadata": {
  "kernelspec": {
   "display_name": "Python 3",
   "language": "python",
   "name": "python3"
  },
  "language_info": {
   "codemirror_mode": {
    "name": "ipython",
    "version": 3
   },
   "file_extension": ".py",
   "mimetype": "text/x-python",
   "name": "python",
   "nbconvert_exporter": "python",
   "pygments_lexer": "ipython3",
   "version": "3.7.0"
  }
 },
 "nbformat": 4,
 "nbformat_minor": 2
}
