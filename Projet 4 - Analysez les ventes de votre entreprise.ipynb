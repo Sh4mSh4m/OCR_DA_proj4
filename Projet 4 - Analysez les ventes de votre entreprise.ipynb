{
 "cells": [
  {
   "cell_type": "code",
   "execution_count": 1,
   "metadata": {},
   "outputs": [],
   "source": [
    "import pandas as pd\n",
    "import numpy as np\n",
    "import re\n",
    "import matplotlib.pyplot as plt\n",
    "import math"
   ]
  },
  {
   "cell_type": "markdown",
   "metadata": {},
   "source": [
    "-----------"
   ]
  },
  {
   "cell_type": "markdown",
   "metadata": {},
   "source": [
    "# Mission 1 - Data discovery and cleaning\n",
    "\n",
    "The purpose of this first part is to discover the data we were handled and clean them"
   ]
  },
  {
   "cell_type": "markdown",
   "metadata": {},
   "source": [
    "## Tables loading and primary key identification"
   ]
  },
  {
   "cell_type": "code",
   "execution_count": 2,
   "metadata": {},
   "outputs": [
    {
     "data": {
      "text/plain": [
       "(8623, 3)"
      ]
     },
     "execution_count": 2,
     "metadata": {},
     "output_type": "execute_result"
    }
   ],
   "source": [
    "# We get global knowledge from the table\n",
    "customers = pd.read_csv('customers.csv')\n",
    "customers.shape"
   ]
  },
  {
   "cell_type": "code",
   "execution_count": 3,
   "metadata": {},
   "outputs": [
    {
     "data": {
      "text/html": [
       "<div>\n",
       "<style scoped>\n",
       "    .dataframe tbody tr th:only-of-type {\n",
       "        vertical-align: middle;\n",
       "    }\n",
       "\n",
       "    .dataframe tbody tr th {\n",
       "        vertical-align: top;\n",
       "    }\n",
       "\n",
       "    .dataframe thead th {\n",
       "        text-align: right;\n",
       "    }\n",
       "</style>\n",
       "<table border=\"1\" class=\"dataframe\">\n",
       "  <thead>\n",
       "    <tr style=\"text-align: right;\">\n",
       "      <th></th>\n",
       "      <th>client_id</th>\n",
       "      <th>sex</th>\n",
       "      <th>birth</th>\n",
       "    </tr>\n",
       "  </thead>\n",
       "  <tbody>\n",
       "    <tr>\n",
       "      <td>0</td>\n",
       "      <td>c_4410</td>\n",
       "      <td>f</td>\n",
       "      <td>1967</td>\n",
       "    </tr>\n",
       "    <tr>\n",
       "      <td>1</td>\n",
       "      <td>c_7839</td>\n",
       "      <td>f</td>\n",
       "      <td>1975</td>\n",
       "    </tr>\n",
       "    <tr>\n",
       "      <td>2</td>\n",
       "      <td>c_1699</td>\n",
       "      <td>f</td>\n",
       "      <td>1984</td>\n",
       "    </tr>\n",
       "    <tr>\n",
       "      <td>3</td>\n",
       "      <td>c_5961</td>\n",
       "      <td>f</td>\n",
       "      <td>1962</td>\n",
       "    </tr>\n",
       "    <tr>\n",
       "      <td>4</td>\n",
       "      <td>c_5320</td>\n",
       "      <td>m</td>\n",
       "      <td>1943</td>\n",
       "    </tr>\n",
       "  </tbody>\n",
       "</table>\n",
       "</div>"
      ],
      "text/plain": [
       "  client_id sex  birth\n",
       "0    c_4410   f   1967\n",
       "1    c_7839   f   1975\n",
       "2    c_1699   f   1984\n",
       "3    c_5961   f   1962\n",
       "4    c_5320   m   1943"
      ]
     },
     "execution_count": 3,
     "metadata": {},
     "output_type": "execute_result"
    }
   ],
   "source": [
    "# Taking a look at the table\n",
    "customers.head(5)"
   ]
  },
  {
   "cell_type": "code",
   "execution_count": 4,
   "metadata": {},
   "outputs": [
    {
     "data": {
      "text/plain": [
       "8623"
      ]
     },
     "execution_count": 4,
     "metadata": {},
     "output_type": "execute_result"
    }
   ],
   "source": [
    "# We make sure the client_id is a primary key for relation customers\n",
    "len(customers['client_id'].unique())"
   ]
  },
  {
   "cell_type": "code",
   "execution_count": 5,
   "metadata": {},
   "outputs": [
    {
     "data": {
      "text/plain": [
       "(3287, 3)"
      ]
     },
     "execution_count": 5,
     "metadata": {},
     "output_type": "execute_result"
    }
   ],
   "source": [
    "# We get to know the second table\n",
    "products = pd.read_csv('products.csv')\n",
    "products.shape"
   ]
  },
  {
   "cell_type": "code",
   "execution_count": 6,
   "metadata": {},
   "outputs": [
    {
     "data": {
      "text/html": [
       "<div>\n",
       "<style scoped>\n",
       "    .dataframe tbody tr th:only-of-type {\n",
       "        vertical-align: middle;\n",
       "    }\n",
       "\n",
       "    .dataframe tbody tr th {\n",
       "        vertical-align: top;\n",
       "    }\n",
       "\n",
       "    .dataframe thead th {\n",
       "        text-align: right;\n",
       "    }\n",
       "</style>\n",
       "<table border=\"1\" class=\"dataframe\">\n",
       "  <thead>\n",
       "    <tr style=\"text-align: right;\">\n",
       "      <th></th>\n",
       "      <th>id_prod</th>\n",
       "      <th>price</th>\n",
       "      <th>categ</th>\n",
       "    </tr>\n",
       "  </thead>\n",
       "  <tbody>\n",
       "    <tr>\n",
       "      <td>0</td>\n",
       "      <td>0_1421</td>\n",
       "      <td>19.99</td>\n",
       "      <td>0</td>\n",
       "    </tr>\n",
       "    <tr>\n",
       "      <td>1</td>\n",
       "      <td>0_1368</td>\n",
       "      <td>5.13</td>\n",
       "      <td>0</td>\n",
       "    </tr>\n",
       "    <tr>\n",
       "      <td>2</td>\n",
       "      <td>0_731</td>\n",
       "      <td>17.99</td>\n",
       "      <td>0</td>\n",
       "    </tr>\n",
       "    <tr>\n",
       "      <td>3</td>\n",
       "      <td>1_587</td>\n",
       "      <td>4.99</td>\n",
       "      <td>1</td>\n",
       "    </tr>\n",
       "    <tr>\n",
       "      <td>4</td>\n",
       "      <td>0_1507</td>\n",
       "      <td>3.99</td>\n",
       "      <td>0</td>\n",
       "    </tr>\n",
       "  </tbody>\n",
       "</table>\n",
       "</div>"
      ],
      "text/plain": [
       "  id_prod  price  categ\n",
       "0  0_1421  19.99      0\n",
       "1  0_1368   5.13      0\n",
       "2   0_731  17.99      0\n",
       "3   1_587   4.99      1\n",
       "4  0_1507   3.99      0"
      ]
     },
     "execution_count": 6,
     "metadata": {},
     "output_type": "execute_result"
    }
   ],
   "source": [
    "# Taking a look at the table sample\n",
    "products.head(5)"
   ]
  },
  {
   "cell_type": "code",
   "execution_count": 7,
   "metadata": {},
   "outputs": [
    {
     "data": {
      "text/html": [
       "<div>\n",
       "<style scoped>\n",
       "    .dataframe tbody tr th:only-of-type {\n",
       "        vertical-align: middle;\n",
       "    }\n",
       "\n",
       "    .dataframe tbody tr th {\n",
       "        vertical-align: top;\n",
       "    }\n",
       "\n",
       "    .dataframe thead th {\n",
       "        text-align: right;\n",
       "    }\n",
       "</style>\n",
       "<table border=\"1\" class=\"dataframe\">\n",
       "  <thead>\n",
       "    <tr style=\"text-align: right;\">\n",
       "      <th></th>\n",
       "      <th>id_prod</th>\n",
       "      <th>price</th>\n",
       "      <th>categ</th>\n",
       "    </tr>\n",
       "  </thead>\n",
       "  <tbody>\n",
       "  </tbody>\n",
       "</table>\n",
       "</div>"
      ],
      "text/plain": [
       "Empty DataFrame\n",
       "Columns: [id_prod, price, categ]\n",
       "Index: []"
      ]
     },
     "execution_count": 7,
     "metadata": {},
     "output_type": "execute_result"
    }
   ],
   "source": [
    "products.loc[(products['categ'] != 0) & (products['categ'] != 1) & (products['categ'] != 2)]"
   ]
  },
  {
   "cell_type": "code",
   "execution_count": 8,
   "metadata": {},
   "outputs": [
    {
     "data": {
      "text/plain": [
       "3287"
      ]
     },
     "execution_count": 8,
     "metadata": {},
     "output_type": "execute_result"
    }
   ],
   "source": [
    "# id_prod is a primary key for the products relation\n",
    "len(products['id_prod'].unique())"
   ]
  },
  {
   "cell_type": "code",
   "execution_count": 9,
   "metadata": {},
   "outputs": [
    {
     "data": {
      "text/plain": [
       "(337016, 4)"
      ]
     },
     "execution_count": 9,
     "metadata": {},
     "output_type": "execute_result"
    }
   ],
   "source": [
    "# Loading the last table\n",
    "transactions = pd.read_csv('transactions.csv')\n",
    "transactions.shape"
   ]
  },
  {
   "cell_type": "code",
   "execution_count": 10,
   "metadata": {},
   "outputs": [
    {
     "data": {
      "text/html": [
       "<div>\n",
       "<style scoped>\n",
       "    .dataframe tbody tr th:only-of-type {\n",
       "        vertical-align: middle;\n",
       "    }\n",
       "\n",
       "    .dataframe tbody tr th {\n",
       "        vertical-align: top;\n",
       "    }\n",
       "\n",
       "    .dataframe thead th {\n",
       "        text-align: right;\n",
       "    }\n",
       "</style>\n",
       "<table border=\"1\" class=\"dataframe\">\n",
       "  <thead>\n",
       "    <tr style=\"text-align: right;\">\n",
       "      <th></th>\n",
       "      <th>id_prod</th>\n",
       "      <th>date</th>\n",
       "      <th>session_id</th>\n",
       "      <th>client_id</th>\n",
       "    </tr>\n",
       "  </thead>\n",
       "  <tbody>\n",
       "    <tr>\n",
       "      <td>0</td>\n",
       "      <td>0_1483</td>\n",
       "      <td>2021-04-10 18:37:28.723910</td>\n",
       "      <td>s_18746</td>\n",
       "      <td>c_4450</td>\n",
       "    </tr>\n",
       "    <tr>\n",
       "      <td>1</td>\n",
       "      <td>2_226</td>\n",
       "      <td>2022-02-03 01:55:53.276402</td>\n",
       "      <td>s_159142</td>\n",
       "      <td>c_277</td>\n",
       "    </tr>\n",
       "    <tr>\n",
       "      <td>2</td>\n",
       "      <td>1_374</td>\n",
       "      <td>2021-09-23 15:13:46.938559</td>\n",
       "      <td>s_94290</td>\n",
       "      <td>c_4270</td>\n",
       "    </tr>\n",
       "    <tr>\n",
       "      <td>3</td>\n",
       "      <td>0_2186</td>\n",
       "      <td>2021-10-17 03:27:18.783634</td>\n",
       "      <td>s_105936</td>\n",
       "      <td>c_4597</td>\n",
       "    </tr>\n",
       "    <tr>\n",
       "      <td>4</td>\n",
       "      <td>0_1351</td>\n",
       "      <td>2021-07-17 20:34:25.800563</td>\n",
       "      <td>s_63642</td>\n",
       "      <td>c_1242</td>\n",
       "    </tr>\n",
       "  </tbody>\n",
       "</table>\n",
       "</div>"
      ],
      "text/plain": [
       "  id_prod                        date session_id client_id\n",
       "0  0_1483  2021-04-10 18:37:28.723910    s_18746    c_4450\n",
       "1   2_226  2022-02-03 01:55:53.276402   s_159142     c_277\n",
       "2   1_374  2021-09-23 15:13:46.938559    s_94290    c_4270\n",
       "3  0_2186  2021-10-17 03:27:18.783634   s_105936    c_4597\n",
       "4  0_1351  2021-07-17 20:34:25.800563    s_63642    c_1242"
      ]
     },
     "execution_count": 10,
     "metadata": {},
     "output_type": "execute_result"
    }
   ],
   "source": [
    "# Looking at a sample\n",
    "transactions.head(5)"
   ]
  },
  {
   "cell_type": "code",
   "execution_count": 11,
   "metadata": {},
   "outputs": [],
   "source": [
    "# Several calculations do not allow to determine a primary key. Duplicates are probably in the data"
   ]
  },
  {
   "cell_type": "code",
   "execution_count": 12,
   "metadata": {},
   "outputs": [
    {
     "data": {
      "text/html": [
       "<div>\n",
       "<style scoped>\n",
       "    .dataframe tbody tr th:only-of-type {\n",
       "        vertical-align: middle;\n",
       "    }\n",
       "\n",
       "    .dataframe tbody tr th {\n",
       "        vertical-align: top;\n",
       "    }\n",
       "\n",
       "    .dataframe thead th {\n",
       "        text-align: right;\n",
       "    }\n",
       "</style>\n",
       "<table border=\"1\" class=\"dataframe\">\n",
       "  <thead>\n",
       "    <tr style=\"text-align: right;\">\n",
       "      <th></th>\n",
       "      <th>id_prod</th>\n",
       "      <th>date</th>\n",
       "      <th>session_id</th>\n",
       "      <th>client_id</th>\n",
       "    </tr>\n",
       "  </thead>\n",
       "  <tbody>\n",
       "    <tr>\n",
       "      <td>34387</td>\n",
       "      <td>T_0</td>\n",
       "      <td>test_2021-03-01 02:30:02.237443</td>\n",
       "      <td>s_0</td>\n",
       "      <td>ct_0</td>\n",
       "    </tr>\n",
       "    <tr>\n",
       "      <td>54813</td>\n",
       "      <td>T_0</td>\n",
       "      <td>test_2021-03-01 02:30:02.237412</td>\n",
       "      <td>s_0</td>\n",
       "      <td>ct_1</td>\n",
       "    </tr>\n",
       "    <tr>\n",
       "      <td>57261</td>\n",
       "      <td>T_0</td>\n",
       "      <td>test_2021-03-01 02:30:02.237439</td>\n",
       "      <td>s_0</td>\n",
       "      <td>ct_1</td>\n",
       "    </tr>\n",
       "    <tr>\n",
       "      <td>58802</td>\n",
       "      <td>T_0</td>\n",
       "      <td>test_2021-03-01 02:30:02.237429</td>\n",
       "      <td>s_0</td>\n",
       "      <td>ct_0</td>\n",
       "    </tr>\n",
       "    <tr>\n",
       "      <td>60170</td>\n",
       "      <td>T_0</td>\n",
       "      <td>test_2021-03-01 02:30:02.237446</td>\n",
       "      <td>s_0</td>\n",
       "      <td>ct_0</td>\n",
       "    </tr>\n",
       "    <tr>\n",
       "      <td>...</td>\n",
       "      <td>...</td>\n",
       "      <td>...</td>\n",
       "      <td>...</td>\n",
       "      <td>...</td>\n",
       "    </tr>\n",
       "    <tr>\n",
       "      <td>332594</td>\n",
       "      <td>T_0</td>\n",
       "      <td>test_2021-03-01 02:30:02.237445</td>\n",
       "      <td>s_0</td>\n",
       "      <td>ct_0</td>\n",
       "    </tr>\n",
       "    <tr>\n",
       "      <td>332705</td>\n",
       "      <td>T_0</td>\n",
       "      <td>test_2021-03-01 02:30:02.237423</td>\n",
       "      <td>s_0</td>\n",
       "      <td>ct_1</td>\n",
       "    </tr>\n",
       "    <tr>\n",
       "      <td>332730</td>\n",
       "      <td>T_0</td>\n",
       "      <td>test_2021-03-01 02:30:02.237421</td>\n",
       "      <td>s_0</td>\n",
       "      <td>ct_1</td>\n",
       "    </tr>\n",
       "    <tr>\n",
       "      <td>333442</td>\n",
       "      <td>T_0</td>\n",
       "      <td>test_2021-03-01 02:30:02.237431</td>\n",
       "      <td>s_0</td>\n",
       "      <td>ct_1</td>\n",
       "    </tr>\n",
       "    <tr>\n",
       "      <td>335279</td>\n",
       "      <td>T_0</td>\n",
       "      <td>test_2021-03-01 02:30:02.237430</td>\n",
       "      <td>s_0</td>\n",
       "      <td>ct_0</td>\n",
       "    </tr>\n",
       "  </tbody>\n",
       "</table>\n",
       "<p>126 rows × 4 columns</p>\n",
       "</div>"
      ],
      "text/plain": [
       "       id_prod                             date session_id client_id\n",
       "34387      T_0  test_2021-03-01 02:30:02.237443        s_0      ct_0\n",
       "54813      T_0  test_2021-03-01 02:30:02.237412        s_0      ct_1\n",
       "57261      T_0  test_2021-03-01 02:30:02.237439        s_0      ct_1\n",
       "58802      T_0  test_2021-03-01 02:30:02.237429        s_0      ct_0\n",
       "60170      T_0  test_2021-03-01 02:30:02.237446        s_0      ct_0\n",
       "...        ...                              ...        ...       ...\n",
       "332594     T_0  test_2021-03-01 02:30:02.237445        s_0      ct_0\n",
       "332705     T_0  test_2021-03-01 02:30:02.237423        s_0      ct_1\n",
       "332730     T_0  test_2021-03-01 02:30:02.237421        s_0      ct_1\n",
       "333442     T_0  test_2021-03-01 02:30:02.237431        s_0      ct_1\n",
       "335279     T_0  test_2021-03-01 02:30:02.237430        s_0      ct_0\n",
       "\n",
       "[126 rows x 4 columns]"
      ]
     },
     "execution_count": 12,
     "metadata": {},
     "output_type": "execute_result"
    }
   ],
   "source": [
    "transactions_duplicated = transactions[transactions.duplicated()]\n",
    "transactions_duplicated"
   ]
  },
  {
   "cell_type": "code",
   "execution_count": 13,
   "metadata": {},
   "outputs": [
    {
     "data": {
      "text/plain": [
       "array(['T_0'], dtype=object)"
      ]
     },
     "execution_count": 13,
     "metadata": {},
     "output_type": "execute_result"
    }
   ],
   "source": [
    "transactions_duplicated['id_prod'].unique()"
   ]
  },
  {
   "cell_type": "code",
   "execution_count": 14,
   "metadata": {},
   "outputs": [
    {
     "data": {
      "text/html": [
       "<div>\n",
       "<style scoped>\n",
       "    .dataframe tbody tr th:only-of-type {\n",
       "        vertical-align: middle;\n",
       "    }\n",
       "\n",
       "    .dataframe tbody tr th {\n",
       "        vertical-align: top;\n",
       "    }\n",
       "\n",
       "    .dataframe thead th {\n",
       "        text-align: right;\n",
       "    }\n",
       "</style>\n",
       "<table border=\"1\" class=\"dataframe\">\n",
       "  <thead>\n",
       "    <tr style=\"text-align: right;\">\n",
       "      <th></th>\n",
       "      <th>id_prod</th>\n",
       "      <th>price</th>\n",
       "      <th>categ</th>\n",
       "    </tr>\n",
       "  </thead>\n",
       "  <tbody>\n",
       "    <tr>\n",
       "      <td>731</td>\n",
       "      <td>T_0</td>\n",
       "      <td>-1.0</td>\n",
       "      <td>0</td>\n",
       "    </tr>\n",
       "  </tbody>\n",
       "</table>\n",
       "</div>"
      ],
      "text/plain": [
       "    id_prod  price  categ\n",
       "731     T_0   -1.0      0"
      ]
     },
     "execution_count": 14,
     "metadata": {},
     "output_type": "execute_result"
    }
   ],
   "source": [
    "# T_0 is a legitimate id_prod\n",
    "products[products['id_prod'] == 'T_0']"
   ]
  },
  {
   "cell_type": "code",
   "execution_count": 15,
   "metadata": {},
   "outputs": [
    {
     "data": {
      "text/html": [
       "<div>\n",
       "<style scoped>\n",
       "    .dataframe tbody tr th:only-of-type {\n",
       "        vertical-align: middle;\n",
       "    }\n",
       "\n",
       "    .dataframe tbody tr th {\n",
       "        vertical-align: top;\n",
       "    }\n",
       "\n",
       "    .dataframe thead th {\n",
       "        text-align: right;\n",
       "    }\n",
       "</style>\n",
       "<table border=\"1\" class=\"dataframe\">\n",
       "  <thead>\n",
       "    <tr style=\"text-align: right;\">\n",
       "      <th></th>\n",
       "      <th>id_prod</th>\n",
       "      <th>date</th>\n",
       "      <th>session_id</th>\n",
       "      <th>client_id</th>\n",
       "    </tr>\n",
       "  </thead>\n",
       "  <tbody>\n",
       "    <tr>\n",
       "      <td>227121</td>\n",
       "      <td>T_0</td>\n",
       "      <td>test_2021-03-01 02:30:02.237421</td>\n",
       "      <td>s_0</td>\n",
       "      <td>ct_1</td>\n",
       "    </tr>\n",
       "    <tr>\n",
       "      <td>293107</td>\n",
       "      <td>T_0</td>\n",
       "      <td>test_2021-03-01 02:30:02.237421</td>\n",
       "      <td>s_0</td>\n",
       "      <td>ct_0</td>\n",
       "    </tr>\n",
       "    <tr>\n",
       "      <td>332730</td>\n",
       "      <td>T_0</td>\n",
       "      <td>test_2021-03-01 02:30:02.237421</td>\n",
       "      <td>s_0</td>\n",
       "      <td>ct_1</td>\n",
       "    </tr>\n",
       "  </tbody>\n",
       "</table>\n",
       "</div>"
      ],
      "text/plain": [
       "       id_prod                             date session_id client_id\n",
       "227121     T_0  test_2021-03-01 02:30:02.237421        s_0      ct_1\n",
       "293107     T_0  test_2021-03-01 02:30:02.237421        s_0      ct_0\n",
       "332730     T_0  test_2021-03-01 02:30:02.237421        s_0      ct_1"
      ]
     },
     "execution_count": 15,
     "metadata": {},
     "output_type": "execute_result"
    }
   ],
   "source": [
    "# It appears only dates including test_ as a prefix are concerned with duplicates\n",
    "# Moreover those dates are not valid dates\n",
    "\n",
    "transactions[transactions['date'] == 'test_2021-03-01 02:30:02.237421']"
   ]
  },
  {
   "cell_type": "code",
   "execution_count": 16,
   "metadata": {},
   "outputs": [
    {
     "data": {
      "text/plain": [
       "(200, 5)"
      ]
     },
     "execution_count": 16,
     "metadata": {},
     "output_type": "execute_result"
    }
   ],
   "source": [
    "# It appears that 200 data are defined as tests and therefore as non valid for our study\n",
    "transactions['test'] = [ True if ('test' in date) else False for date in transactions['date']]\n",
    "transactions[transactions['test']].shape"
   ]
  },
  {
   "cell_type": "markdown",
   "metadata": {},
   "source": [
    "Ainsi on trouve 200 entrees de test dans les transactions et il semble qu'elles soient toutes liees au produit T_0."
   ]
  },
  {
   "cell_type": "code",
   "execution_count": 17,
   "metadata": {},
   "outputs": [
    {
     "data": {
      "text/html": [
       "<div>\n",
       "<style scoped>\n",
       "    .dataframe tbody tr th:only-of-type {\n",
       "        vertical-align: middle;\n",
       "    }\n",
       "\n",
       "    .dataframe tbody tr th {\n",
       "        vertical-align: top;\n",
       "    }\n",
       "\n",
       "    .dataframe thead th {\n",
       "        text-align: right;\n",
       "    }\n",
       "</style>\n",
       "<table border=\"1\" class=\"dataframe\">\n",
       "  <thead>\n",
       "    <tr style=\"text-align: right;\">\n",
       "      <th></th>\n",
       "      <th>id_prod</th>\n",
       "      <th>date</th>\n",
       "      <th>session_id</th>\n",
       "      <th>client_id</th>\n",
       "      <th>test</th>\n",
       "    </tr>\n",
       "  </thead>\n",
       "  <tbody>\n",
       "    <tr>\n",
       "      <td>1431</td>\n",
       "      <td>T_0</td>\n",
       "      <td>test_2021-03-01 02:30:02.237420</td>\n",
       "      <td>s_0</td>\n",
       "      <td>ct_1</td>\n",
       "      <td>True</td>\n",
       "    </tr>\n",
       "    <tr>\n",
       "      <td>2365</td>\n",
       "      <td>T_0</td>\n",
       "      <td>test_2021-03-01 02:30:02.237446</td>\n",
       "      <td>s_0</td>\n",
       "      <td>ct_1</td>\n",
       "      <td>True</td>\n",
       "    </tr>\n",
       "    <tr>\n",
       "      <td>2895</td>\n",
       "      <td>T_0</td>\n",
       "      <td>test_2021-03-01 02:30:02.237414</td>\n",
       "      <td>s_0</td>\n",
       "      <td>ct_1</td>\n",
       "      <td>True</td>\n",
       "    </tr>\n",
       "    <tr>\n",
       "      <td>5955</td>\n",
       "      <td>T_0</td>\n",
       "      <td>test_2021-03-01 02:30:02.237441</td>\n",
       "      <td>s_0</td>\n",
       "      <td>ct_0</td>\n",
       "      <td>True</td>\n",
       "    </tr>\n",
       "    <tr>\n",
       "      <td>7283</td>\n",
       "      <td>T_0</td>\n",
       "      <td>test_2021-03-01 02:30:02.237434</td>\n",
       "      <td>s_0</td>\n",
       "      <td>ct_1</td>\n",
       "      <td>True</td>\n",
       "    </tr>\n",
       "    <tr>\n",
       "      <td>...</td>\n",
       "      <td>...</td>\n",
       "      <td>...</td>\n",
       "      <td>...</td>\n",
       "      <td>...</td>\n",
       "      <td>...</td>\n",
       "    </tr>\n",
       "    <tr>\n",
       "      <td>332594</td>\n",
       "      <td>T_0</td>\n",
       "      <td>test_2021-03-01 02:30:02.237445</td>\n",
       "      <td>s_0</td>\n",
       "      <td>ct_0</td>\n",
       "      <td>True</td>\n",
       "    </tr>\n",
       "    <tr>\n",
       "      <td>332705</td>\n",
       "      <td>T_0</td>\n",
       "      <td>test_2021-03-01 02:30:02.237423</td>\n",
       "      <td>s_0</td>\n",
       "      <td>ct_1</td>\n",
       "      <td>True</td>\n",
       "    </tr>\n",
       "    <tr>\n",
       "      <td>332730</td>\n",
       "      <td>T_0</td>\n",
       "      <td>test_2021-03-01 02:30:02.237421</td>\n",
       "      <td>s_0</td>\n",
       "      <td>ct_1</td>\n",
       "      <td>True</td>\n",
       "    </tr>\n",
       "    <tr>\n",
       "      <td>333442</td>\n",
       "      <td>T_0</td>\n",
       "      <td>test_2021-03-01 02:30:02.237431</td>\n",
       "      <td>s_0</td>\n",
       "      <td>ct_1</td>\n",
       "      <td>True</td>\n",
       "    </tr>\n",
       "    <tr>\n",
       "      <td>335279</td>\n",
       "      <td>T_0</td>\n",
       "      <td>test_2021-03-01 02:30:02.237430</td>\n",
       "      <td>s_0</td>\n",
       "      <td>ct_0</td>\n",
       "      <td>True</td>\n",
       "    </tr>\n",
       "  </tbody>\n",
       "</table>\n",
       "<p>200 rows × 5 columns</p>\n",
       "</div>"
      ],
      "text/plain": [
       "       id_prod                             date session_id client_id  test\n",
       "1431       T_0  test_2021-03-01 02:30:02.237420        s_0      ct_1  True\n",
       "2365       T_0  test_2021-03-01 02:30:02.237446        s_0      ct_1  True\n",
       "2895       T_0  test_2021-03-01 02:30:02.237414        s_0      ct_1  True\n",
       "5955       T_0  test_2021-03-01 02:30:02.237441        s_0      ct_0  True\n",
       "7283       T_0  test_2021-03-01 02:30:02.237434        s_0      ct_1  True\n",
       "...        ...                              ...        ...       ...   ...\n",
       "332594     T_0  test_2021-03-01 02:30:02.237445        s_0      ct_0  True\n",
       "332705     T_0  test_2021-03-01 02:30:02.237423        s_0      ct_1  True\n",
       "332730     T_0  test_2021-03-01 02:30:02.237421        s_0      ct_1  True\n",
       "333442     T_0  test_2021-03-01 02:30:02.237431        s_0      ct_1  True\n",
       "335279     T_0  test_2021-03-01 02:30:02.237430        s_0      ct_0  True\n",
       "\n",
       "[200 rows x 5 columns]"
      ]
     },
     "execution_count": 17,
     "metadata": {},
     "output_type": "execute_result"
    }
   ],
   "source": [
    "test_id_prod_mask = transactions['id_prod'] == 'T_0'\n",
    "test_date_mask2 = transactions['date'].str.contains('test_.*', regex=True)\n",
    "transactions.loc[test_id_prod_mask & test_date_mask2]"
   ]
  },
  {
   "cell_type": "markdown",
   "metadata": {},
   "source": [
    "## Cleaning data"
   ]
  },
  {
   "cell_type": "code",
   "execution_count": 18,
   "metadata": {},
   "outputs": [
    {
     "data": {
      "text/plain": [
       "8623"
      ]
     },
     "execution_count": 18,
     "metadata": {},
     "output_type": "execute_result"
    }
   ],
   "source": [
    "# We drop ROWs (axis=0)\n",
    "customers.dropna(axis=0, how='any').shape[0]"
   ]
  },
  {
   "cell_type": "code",
   "execution_count": 19,
   "metadata": {},
   "outputs": [
    {
     "data": {
      "text/plain": [
       "3287"
      ]
     },
     "execution_count": 19,
     "metadata": {},
     "output_type": "execute_result"
    }
   ],
   "source": [
    "products.dropna(axis=0, how='any').shape[0]"
   ]
  },
  {
   "cell_type": "code",
   "execution_count": 20,
   "metadata": {},
   "outputs": [
    {
     "data": {
      "text/plain": [
       "337016"
      ]
     },
     "execution_count": 20,
     "metadata": {},
     "output_type": "execute_result"
    }
   ],
   "source": [
    "transactions.dropna(axis=0, how='any').shape[0]"
   ]
  },
  {
   "cell_type": "markdown",
   "metadata": {},
   "source": [
    "Ici on voit qu'il n'y a pas de valeurs manquantes dans les tables products, customers ou transactions"
   ]
  },
  {
   "cell_type": "code",
   "execution_count": 21,
   "metadata": {},
   "outputs": [
    {
     "name": "stdout",
     "output_type": "stream",
     "text": [
      "['f' 'm']\n"
     ]
    }
   ],
   "source": [
    "print(customers['sex'].unique())"
   ]
  },
  {
   "cell_type": "code",
   "execution_count": 22,
   "metadata": {},
   "outputs": [
    {
     "data": {
      "text/plain": [
       "array([ -1.  ,   0.62,   0.66, ..., 247.22, 254.44, 300.  ])"
      ]
     },
     "execution_count": 22,
     "metadata": {},
     "output_type": "execute_result"
    }
   ],
   "source": [
    "products_prices_lst = products['price'].unique()\n",
    "products_prices_lst.sort()\n",
    "products_prices_lst"
   ]
  },
  {
   "cell_type": "markdown",
   "metadata": {},
   "source": [
    "Les prix n'ont pas de valeurs aberrantes en dehors de la valeur -1 associee au produit T_0 dont le nom ne semble pas correspondre a la nomenclature attendue pour les produits."
   ]
  },
  {
   "cell_type": "code",
   "execution_count": 23,
   "metadata": {},
   "outputs": [
    {
     "data": {
      "text/html": [
       "<div>\n",
       "<style scoped>\n",
       "    .dataframe tbody tr th:only-of-type {\n",
       "        vertical-align: middle;\n",
       "    }\n",
       "\n",
       "    .dataframe tbody tr th {\n",
       "        vertical-align: top;\n",
       "    }\n",
       "\n",
       "    .dataframe thead th {\n",
       "        text-align: right;\n",
       "    }\n",
       "</style>\n",
       "<table border=\"1\" class=\"dataframe\">\n",
       "  <thead>\n",
       "    <tr style=\"text-align: right;\">\n",
       "      <th></th>\n",
       "      <th>id_prod</th>\n",
       "      <th>price</th>\n",
       "      <th>categ</th>\n",
       "    </tr>\n",
       "  </thead>\n",
       "  <tbody>\n",
       "    <tr>\n",
       "      <td>731</td>\n",
       "      <td>T_0</td>\n",
       "      <td>-1.0</td>\n",
       "      <td>0</td>\n",
       "    </tr>\n",
       "  </tbody>\n",
       "</table>\n",
       "</div>"
      ],
      "text/plain": [
       "    id_prod  price  categ\n",
       "731     T_0   -1.0      0"
      ]
     },
     "execution_count": 23,
     "metadata": {},
     "output_type": "execute_result"
    }
   ],
   "source": [
    "neg_price_mask = products['price'] < 0\n",
    "products.loc[neg_price_mask]"
   ]
  },
  {
   "cell_type": "code",
   "execution_count": 24,
   "metadata": {},
   "outputs": [
    {
     "data": {
      "text/plain": [
       "3286"
      ]
     },
     "execution_count": 24,
     "metadata": {},
     "output_type": "execute_result"
    }
   ],
   "source": [
    "prod_id_mask = products['id_prod'].str.contains('\\d_\\d+', regex=True)\n",
    "products.loc[prod_id_mask].shape[0]"
   ]
  },
  {
   "cell_type": "markdown",
   "metadata": {},
   "source": [
    "Les noms des produits repondent tous a la nomenclature 'chiffre unique, underscore, un ou plusieurs chiffre', le produit T_0 etant l'unique valeur ne suivant pas cette nomenclature avec un prix negatif. Ce dernier est de plus lie aux transactions de test avec des dates non conforme. On peut donc le retirer de notre analyse."
   ]
  },
  {
   "cell_type": "code",
   "execution_count": 25,
   "metadata": {},
   "outputs": [
    {
     "data": {
      "text/html": [
       "<div>\n",
       "<style scoped>\n",
       "    .dataframe tbody tr th:only-of-type {\n",
       "        vertical-align: middle;\n",
       "    }\n",
       "\n",
       "    .dataframe tbody tr th {\n",
       "        vertical-align: top;\n",
       "    }\n",
       "\n",
       "    .dataframe thead th {\n",
       "        text-align: right;\n",
       "    }\n",
       "</style>\n",
       "<table border=\"1\" class=\"dataframe\">\n",
       "  <thead>\n",
       "    <tr style=\"text-align: right;\">\n",
       "      <th></th>\n",
       "      <th>client_id</th>\n",
       "      <th>sex</th>\n",
       "      <th>birth</th>\n",
       "    </tr>\n",
       "  </thead>\n",
       "  <tbody>\n",
       "    <tr>\n",
       "      <td>2735</td>\n",
       "      <td>ct_0</td>\n",
       "      <td>f</td>\n",
       "      <td>2001</td>\n",
       "    </tr>\n",
       "    <tr>\n",
       "      <td>8494</td>\n",
       "      <td>ct_1</td>\n",
       "      <td>m</td>\n",
       "      <td>2001</td>\n",
       "    </tr>\n",
       "  </tbody>\n",
       "</table>\n",
       "</div>"
      ],
      "text/plain": [
       "     client_id sex  birth\n",
       "2735      ct_0   f   2001\n",
       "8494      ct_1   m   2001"
      ]
     },
     "execution_count": 25,
     "metadata": {},
     "output_type": "execute_result"
    }
   ],
   "source": [
    "id_mask = customers['client_id'].str.contains('^c(?!_\\d+)', regex=True)\n",
    "customers.loc[id_mask]"
   ]
  },
  {
   "cell_type": "markdown",
   "metadata": {},
   "source": [
    "De la meme facon on identifie deux clients dont la nomenclature ne verifie pas 'c, underscore, serie de chiffre' et qui sont eux aussi associes aux donnees de transactions de test.\n",
    "On verifie cela sur les donnees de transactions."
   ]
  },
  {
   "cell_type": "code",
   "execution_count": 26,
   "metadata": {},
   "outputs": [
    {
     "data": {
      "text/html": [
       "<div>\n",
       "<style scoped>\n",
       "    .dataframe tbody tr th:only-of-type {\n",
       "        vertical-align: middle;\n",
       "    }\n",
       "\n",
       "    .dataframe tbody tr th {\n",
       "        vertical-align: top;\n",
       "    }\n",
       "\n",
       "    .dataframe thead th {\n",
       "        text-align: right;\n",
       "    }\n",
       "</style>\n",
       "<table border=\"1\" class=\"dataframe\">\n",
       "  <thead>\n",
       "    <tr style=\"text-align: right;\">\n",
       "      <th></th>\n",
       "      <th>id_prod</th>\n",
       "      <th>date</th>\n",
       "      <th>session_id</th>\n",
       "      <th>client_id</th>\n",
       "      <th>test</th>\n",
       "    </tr>\n",
       "  </thead>\n",
       "  <tbody>\n",
       "    <tr>\n",
       "      <td>1431</td>\n",
       "      <td>T_0</td>\n",
       "      <td>test_2021-03-01 02:30:02.237420</td>\n",
       "      <td>s_0</td>\n",
       "      <td>ct_1</td>\n",
       "      <td>True</td>\n",
       "    </tr>\n",
       "    <tr>\n",
       "      <td>2365</td>\n",
       "      <td>T_0</td>\n",
       "      <td>test_2021-03-01 02:30:02.237446</td>\n",
       "      <td>s_0</td>\n",
       "      <td>ct_1</td>\n",
       "      <td>True</td>\n",
       "    </tr>\n",
       "    <tr>\n",
       "      <td>2895</td>\n",
       "      <td>T_0</td>\n",
       "      <td>test_2021-03-01 02:30:02.237414</td>\n",
       "      <td>s_0</td>\n",
       "      <td>ct_1</td>\n",
       "      <td>True</td>\n",
       "    </tr>\n",
       "    <tr>\n",
       "      <td>5955</td>\n",
       "      <td>T_0</td>\n",
       "      <td>test_2021-03-01 02:30:02.237441</td>\n",
       "      <td>s_0</td>\n",
       "      <td>ct_0</td>\n",
       "      <td>True</td>\n",
       "    </tr>\n",
       "    <tr>\n",
       "      <td>7283</td>\n",
       "      <td>T_0</td>\n",
       "      <td>test_2021-03-01 02:30:02.237434</td>\n",
       "      <td>s_0</td>\n",
       "      <td>ct_1</td>\n",
       "      <td>True</td>\n",
       "    </tr>\n",
       "    <tr>\n",
       "      <td>...</td>\n",
       "      <td>...</td>\n",
       "      <td>...</td>\n",
       "      <td>...</td>\n",
       "      <td>...</td>\n",
       "      <td>...</td>\n",
       "    </tr>\n",
       "    <tr>\n",
       "      <td>332594</td>\n",
       "      <td>T_0</td>\n",
       "      <td>test_2021-03-01 02:30:02.237445</td>\n",
       "      <td>s_0</td>\n",
       "      <td>ct_0</td>\n",
       "      <td>True</td>\n",
       "    </tr>\n",
       "    <tr>\n",
       "      <td>332705</td>\n",
       "      <td>T_0</td>\n",
       "      <td>test_2021-03-01 02:30:02.237423</td>\n",
       "      <td>s_0</td>\n",
       "      <td>ct_1</td>\n",
       "      <td>True</td>\n",
       "    </tr>\n",
       "    <tr>\n",
       "      <td>332730</td>\n",
       "      <td>T_0</td>\n",
       "      <td>test_2021-03-01 02:30:02.237421</td>\n",
       "      <td>s_0</td>\n",
       "      <td>ct_1</td>\n",
       "      <td>True</td>\n",
       "    </tr>\n",
       "    <tr>\n",
       "      <td>333442</td>\n",
       "      <td>T_0</td>\n",
       "      <td>test_2021-03-01 02:30:02.237431</td>\n",
       "      <td>s_0</td>\n",
       "      <td>ct_1</td>\n",
       "      <td>True</td>\n",
       "    </tr>\n",
       "    <tr>\n",
       "      <td>335279</td>\n",
       "      <td>T_0</td>\n",
       "      <td>test_2021-03-01 02:30:02.237430</td>\n",
       "      <td>s_0</td>\n",
       "      <td>ct_0</td>\n",
       "      <td>True</td>\n",
       "    </tr>\n",
       "  </tbody>\n",
       "</table>\n",
       "<p>200 rows × 5 columns</p>\n",
       "</div>"
      ],
      "text/plain": [
       "       id_prod                             date session_id client_id  test\n",
       "1431       T_0  test_2021-03-01 02:30:02.237420        s_0      ct_1  True\n",
       "2365       T_0  test_2021-03-01 02:30:02.237446        s_0      ct_1  True\n",
       "2895       T_0  test_2021-03-01 02:30:02.237414        s_0      ct_1  True\n",
       "5955       T_0  test_2021-03-01 02:30:02.237441        s_0      ct_0  True\n",
       "7283       T_0  test_2021-03-01 02:30:02.237434        s_0      ct_1  True\n",
       "...        ...                              ...        ...       ...   ...\n",
       "332594     T_0  test_2021-03-01 02:30:02.237445        s_0      ct_0  True\n",
       "332705     T_0  test_2021-03-01 02:30:02.237423        s_0      ct_1  True\n",
       "332730     T_0  test_2021-03-01 02:30:02.237421        s_0      ct_1  True\n",
       "333442     T_0  test_2021-03-01 02:30:02.237431        s_0      ct_1  True\n",
       "335279     T_0  test_2021-03-01 02:30:02.237430        s_0      ct_0  True\n",
       "\n",
       "[200 rows x 5 columns]"
      ]
     },
     "execution_count": 26,
     "metadata": {},
     "output_type": "execute_result"
    }
   ],
   "source": [
    "test_client_id_mask = transactions['client_id'].str.contains('^c(?!_\\d+)', regex=True)\n",
    "transactions.loc[test_client_id_mask]"
   ]
  },
  {
   "cell_type": "code",
   "execution_count": 27,
   "metadata": {},
   "outputs": [
    {
     "name": "stdout",
     "output_type": "stream",
     "text": [
      "2021-03-01 00:01:07.843138 test_2021-03-01 02:30:02.237450\n"
     ]
    }
   ],
   "source": [
    "# A REFAIRE sur les dates sans test_\n",
    "dates = transactions.loc[:,'date'].tolist()\n",
    "dates.sort()\n",
    "print(dates[0], dates[-1])"
   ]
  },
  {
   "cell_type": "markdown",
   "metadata": {},
   "source": [
    "Rien d'anormal sur les dates, qui sont repertoriees entre 2021 et 2022 bien que situees dans le futur au niveau des annees."
   ]
  },
  {
   "cell_type": "code",
   "execution_count": 28,
   "metadata": {},
   "outputs": [
    {
     "data": {
      "text/plain": [
       "337016"
      ]
     },
     "execution_count": 28,
     "metadata": {},
     "output_type": "execute_result"
    }
   ],
   "source": [
    "# All session_id match the naming convention\n",
    "session_id_mask = transactions['session_id'].str.contains('s_\\d+', regex=True)\n",
    "transactions.loc[session_id_mask].shape[0]"
   ]
  },
  {
   "cell_type": "markdown",
   "metadata": {},
   "source": [
    "En resume on elimine alors les elements suivants:\n",
    "- lignes de customers avec les valeurs 'ct_X'\n",
    "- lignes de products avec la valeur 'T_0'\n",
    "- lignes de transactions avec un des valeur precedentes ou des dates non conformes commencant par 'test_'"
   ]
  },
  {
   "cell_type": "code",
   "execution_count": 29,
   "metadata": {},
   "outputs": [],
   "source": [
    "products = products.loc[prod_id_mask]\n",
    "correct_id_mask = customers['client_id'].str.contains('c_\\d+', regex=True)\n",
    "customers = customers.loc[correct_id_mask]\n",
    "test_mask = transactions['id_prod'] != 'T_0'\n",
    "transactions = transactions.loc[test_mask]"
   ]
  },
  {
   "cell_type": "code",
   "execution_count": 30,
   "metadata": {},
   "outputs": [
    {
     "name": "stdout",
     "output_type": "stream",
     "text": [
      "3286 8621 336816\n"
     ]
    }
   ],
   "source": [
    "# Checking original dataframes have been updated\n",
    "print(products.shape[0], customers.shape[0], transactions.shape[0])"
   ]
  },
  {
   "cell_type": "markdown",
   "metadata": {},
   "source": [
    "-----"
   ]
  },
  {
   "cell_type": "markdown",
   "metadata": {},
   "source": [
    "# Mission 2: Data analysis\n",
    "\n",
    "Vous devrez y utiliser au moins :\n",
    "\n",
    "- des indicateurs de tendance centrale et de dispersion\n",
    "- une analyse de concentration, via une courbe de Lorenz et un indice de Gini\n",
    "- des représentations graphiques, dont au moins un histogramme, une représentation avec des \"boites à moustaches\", et - une représentation de série temporelle (c’est à dire un graphique dont l’axe des abscisses représente des dates)\n",
    "- des analyses bivariées\n"
   ]
  },
  {
   "cell_type": "markdown",
   "metadata": {},
   "source": [
    "## Customers analysis\n",
    "\n",
    "First we focus on the customers data"
   ]
  },
  {
   "cell_type": "code",
   "execution_count": 31,
   "metadata": {},
   "outputs": [
    {
     "name": "stdout",
     "output_type": "stream",
     "text": [
      "4131 4490 8621\n"
     ]
    }
   ],
   "source": [
    "male_msk = customers['sex'] == 'm', 'sex'\n",
    "female_msk = customers['sex'] == 'f', 'sex'\n",
    "nb_males = customers.loc[male_msk].count()\n",
    "nb_females = customers.loc[female_msk].count()\n",
    "print(nb_males, nb_females, nb_males+nb_females)"
   ]
  },
  {
   "cell_type": "code",
   "execution_count": 32,
   "metadata": {},
   "outputs": [
    {
     "data": {
      "text/plain": [
       "f    0.520821\n",
       "m    0.479179\n",
       "Name: sex, dtype: float64"
      ]
     },
     "execution_count": 32,
     "metadata": {},
     "output_type": "execute_result"
    }
   ],
   "source": [
    "sex_freq = customers['sex'].value_counts(normalize=True)\n",
    "sex_freq"
   ]
  },
  {
   "cell_type": "code",
   "execution_count": 33,
   "metadata": {},
   "outputs": [
    {
     "data": {
      "text/plain": [
       "<matplotlib.axes._subplots.AxesSubplot at 0x109c077b8>"
      ]
     },
     "execution_count": 33,
     "metadata": {},
     "output_type": "execute_result"
    },
    {
     "data": {
      "image/png": "[encoded data removed]",
      "text/plain": [
       "<Figure size 432x288 with 1 Axes>"
      ]
     },
     "metadata": {},
     "output_type": "display_data"
    }
   ],
   "source": [
    "sex_freq.plot(kind='pie')"
   ]
  },
  {
   "cell_type": "code",
   "execution_count": 34,
   "metadata": {},
   "outputs": [
    {
     "data": {
      "text/plain": [
       "<matplotlib.axes._subplots.AxesSubplot at 0x11994a550>"
      ]
     },
     "execution_count": 34,
     "metadata": {},
     "output_type": "execute_result"
    },
    {
     "data": {
      "image/png": "[encoded data removed]",
      "text/plain": [
       "<Figure size 432x288 with 1 Axes>"
      ]
     },
     "metadata": {
      "needs_background": "light"
     },
     "output_type": "display_data"
    }
   ],
   "source": [
    "birth_freq = customers['birth'].value_counts()\n",
    "birth_freq.plot(kind='bar', width=0.1)"
   ]
  },
  {
   "cell_type": "code",
   "execution_count": 35,
   "metadata": {},
   "outputs": [
    {
     "data": {
      "text/html": [
       "<div>\n",
       "<style scoped>\n",
       "    .dataframe tbody tr th:only-of-type {\n",
       "        vertical-align: middle;\n",
       "    }\n",
       "\n",
       "    .dataframe tbody tr th {\n",
       "        vertical-align: top;\n",
       "    }\n",
       "\n",
       "    .dataframe thead th {\n",
       "        text-align: right;\n",
       "    }\n",
       "</style>\n",
       "<table border=\"1\" class=\"dataframe\">\n",
       "  <thead>\n",
       "    <tr style=\"text-align: right;\">\n",
       "      <th></th>\n",
       "      <th>client_id</th>\n",
       "      <th>sex</th>\n",
       "      <th>birth</th>\n",
       "      <th>age</th>\n",
       "    </tr>\n",
       "  </thead>\n",
       "  <tbody>\n",
       "    <tr>\n",
       "      <td>0</td>\n",
       "      <td>c_4410</td>\n",
       "      <td>f</td>\n",
       "      <td>1967</td>\n",
       "      <td>52</td>\n",
       "    </tr>\n",
       "    <tr>\n",
       "      <td>1</td>\n",
       "      <td>c_7839</td>\n",
       "      <td>f</td>\n",
       "      <td>1975</td>\n",
       "      <td>44</td>\n",
       "    </tr>\n",
       "    <tr>\n",
       "      <td>2</td>\n",
       "      <td>c_1699</td>\n",
       "      <td>f</td>\n",
       "      <td>1984</td>\n",
       "      <td>35</td>\n",
       "    </tr>\n",
       "    <tr>\n",
       "      <td>3</td>\n",
       "      <td>c_5961</td>\n",
       "      <td>f</td>\n",
       "      <td>1962</td>\n",
       "      <td>57</td>\n",
       "    </tr>\n",
       "    <tr>\n",
       "      <td>4</td>\n",
       "      <td>c_5320</td>\n",
       "      <td>m</td>\n",
       "      <td>1943</td>\n",
       "      <td>76</td>\n",
       "    </tr>\n",
       "  </tbody>\n",
       "</table>\n",
       "</div>"
      ],
      "text/plain": [
       "  client_id sex  birth  age\n",
       "0    c_4410   f   1967   52\n",
       "1    c_7839   f   1975   44\n",
       "2    c_1699   f   1984   35\n",
       "3    c_5961   f   1962   57\n",
       "4    c_5320   m   1943   76"
      ]
     },
     "execution_count": 35,
     "metadata": {},
     "output_type": "execute_result"
    }
   ],
   "source": [
    "customers['age'] = 2019 - customers['birth']\n",
    "customers.head()"
   ]
  },
  {
   "cell_type": "code",
   "execution_count": 36,
   "metadata": {},
   "outputs": [
    {
     "data": {
      "text/plain": [
       "14.07363951028323"
      ]
     },
     "execution_count": 36,
     "metadata": {},
     "output_type": "execute_result"
    }
   ],
   "source": [
    "# Sturges rule to estimate optimal class number\n",
    "kc = 1+ math.log(customers.shape[0], 2)\n",
    "kc"
   ]
  },
  {
   "cell_type": "code",
   "execution_count": 37,
   "metadata": {},
   "outputs": [
    {
     "data": {
      "image/png": "[encoded data removed]",
      "text/plain": [
       "<Figure size 432x288 with 1 Axes>"
      ]
     },
     "metadata": {
      "needs_background": "light"
     },
     "output_type": "display_data"
    }
   ],
   "source": [
    "age_freq = customers['age'].hist(density=False, bins = 15)"
   ]
  },
  {
   "cell_type": "code",
   "execution_count": 38,
   "metadata": {},
   "outputs": [
    {
     "name": "stdout",
     "output_type": "stream",
     "text": [
      "le pic d age est de 15 ans, \n",
      "la valeur mediane est a 40.0 ans, \n",
      "et la moyenne d age est de 40.724393921818816 annees\n",
      "avec un ecart type empirique de 16.91697679632548\n",
      "skew: 0.360813881775354\n",
      "kurtosis: -0.636664753633164\n"
     ]
    }
   ],
   "source": [
    "print(f'le pic d age est de {customers[\"age\"].mode().array[0]} ans, \\n\\\n",
    "la valeur mediane est a {customers[\"age\"].median()} ans, \\n\\\n",
    "et la moyenne d age est de {customers[\"age\"].mean()} annees\\n\\\n",
    "avec un ecart type empirique de {customers[\"age\"].std(ddof=0)}\\n\\\n",
    "skew: {customers[\"age\"].skew()}\\n\\\n",
    "kurtosis: {customers[\"age\"].kurtosis()}\\\n",
    "')"
   ]
  },
  {
   "cell_type": "markdown",
   "metadata": {},
   "source": [
    "## Products analysis"
   ]
  },
  {
   "cell_type": "code",
   "execution_count": 39,
   "metadata": {},
   "outputs": [
    {
     "data": {
      "text/plain": [
       "12.682116764950074"
      ]
     },
     "execution_count": 39,
     "metadata": {},
     "output_type": "execute_result"
    }
   ],
   "source": [
    "# Sturges rule \n",
    "kp = 1 + math.log(products.shape[0],2)\n",
    "kp"
   ]
  },
  {
   "cell_type": "code",
   "execution_count": 40,
   "metadata": {},
   "outputs": [
    {
     "data": {
      "text/plain": [
       "<matplotlib.axes._subplots.AxesSubplot at 0x119115128>"
      ]
     },
     "execution_count": 40,
     "metadata": {},
     "output_type": "execute_result"
    },
    {
     "data": {
      "image/png": "[encoded data removed]",
      "text/plain": [
       "<Figure size 432x288 with 1 Axes>"
      ]
     },
     "metadata": {
      "needs_background": "light"
     },
     "output_type": "display_data"
    }
   ],
   "source": [
    "products['price'].hist(density=False, bins=12)"
   ]
  },
  {
   "cell_type": "code",
   "execution_count": 41,
   "metadata": {},
   "outputs": [
    {
     "data": {
      "text/plain": [
       "<matplotlib.axes._subplots.AxesSubplot at 0x1194eb898>"
      ]
     },
     "execution_count": 41,
     "metadata": {},
     "output_type": "execute_result"
    },
    {
     "data": {
      "image/png": "[encoded data removed]",
      "text/plain": [
       "<Figure size 432x288 with 1 Axes>"
      ]
     },
     "metadata": {
      "needs_background": "light"
     },
     "output_type": "display_data"
    }
   ],
   "source": [
    "products.boxplot(column='price', vert=False)"
   ]
  },
  {
   "cell_type": "code",
   "execution_count": 42,
   "metadata": {},
   "outputs": [],
   "source": [
    "def central_measures(series):\n",
    "    print(f'le pic de prix est de {series.mode().array[0]},\\n\\\n",
    "la valeur mediane des prix est a {series.median()},\\n\\\n",
    "et la moyenne de prix est de {series.mean()}\\n\\\n",
    "avec un ecart type empirique de {series.std(ddof=0)}\\n\\\n",
    "skew: {series.skew()}\\n\\\n",
    "kurtosis: {series.kurtosis()}\\n\\\n",
    "')"
   ]
  },
  {
   "cell_type": "code",
   "execution_count": 43,
   "metadata": {},
   "outputs": [
    {
     "name": "stdout",
     "output_type": "stream",
     "text": [
      "le pic de prix est de 4.99,\n",
      "la valeur mediane des prix est a 13.075,\n",
      "et la moyenne de prix est de 21.86359707851491\n",
      "avec un ecart type empirique de 29.845243318099023\n",
      "skew: 3.79840808478482\n",
      "kurtosis: 17.94701369603558\n",
      "\n"
     ]
    }
   ],
   "source": [
    "central_measures(products['price'])"
   ]
  },
  {
   "cell_type": "code",
   "execution_count": 44,
   "metadata": {},
   "outputs": [
    {
     "data": {
      "image/png": "[encoded data removed]",
      "text/plain": [
       "<Figure size 432x288 with 1 Axes>"
      ]
     },
     "metadata": {
      "needs_background": "light"
     },
     "output_type": "display_data"
    }
   ],
   "source": [
    "categ_lst = products['categ'].unique().tolist()\n",
    "categ_lst.sort()\n",
    "categ_map = {}\n",
    "for cat in categ_lst:\n",
    "    msk = products['categ'] == cat, 'price'\n",
    "    categ_map.update({cat: products.loc[msk]})\n",
    "for cat, series in categ_map.items():\n",
    "    ktab = 1 + math.log(len(series.array),2)\n",
    "    ktab = math.floor(ktab)\n",
    "    series.hist(density=False, bins=ktab)"
   ]
  },
  {
   "cell_type": "code",
   "execution_count": 45,
   "metadata": {},
   "outputs": [
    {
     "name": "stdout",
     "output_type": "stream",
     "text": [
      "Pour les produits de categorie 0\n",
      "le pic de prix est de 4.99,\n",
      "la valeur mediane des prix est a 10.32,\n",
      "et la moyenne de prix est de 11.732794627383015\n",
      "avec un ecart type empirique de 7.5641157561691745\n",
      "skew: 0.8387209779498822\n",
      "kurtosis: 0.3324478551097827\n",
      "\n",
      "\n",
      "\n",
      "\n",
      "Pour les produits de categorie 1\n",
      "le pic de prix est de 22.99,\n",
      "la valeur mediane des prix est a 22.99,\n",
      "et la moyenne de prix est de 25.531420838971584\n",
      "avec un ecart type empirique de 15.414721633623802\n",
      "skew: 0.8120109621070365\n",
      "kurtosis: 0.2993533794236898\n",
      "\n",
      "\n",
      "\n",
      "\n",
      "Pour les produits de categorie 2\n",
      "le pic de prix est de 50.99,\n",
      "la valeur mediane des prix est a 101.99,\n",
      "et la moyenne de prix est de 108.35468619246862\n",
      "avec un ecart type empirique de 49.45763740520641\n",
      "skew: 0.9310209579538592\n",
      "kurtosis: 0.808968484300689\n",
      "\n",
      "\n",
      "\n",
      "\n"
     ]
    }
   ],
   "source": [
    "for cat, series in categ_map.items():\n",
    "    print(f'Pour les produits de categorie {cat}')\n",
    "    central_measures(series)\n",
    "    print('\\n\\n')\n"
   ]
  },
  {
   "cell_type": "code",
   "execution_count": 46,
   "metadata": {},
   "outputs": [
    {
     "data": {
      "text/plain": [
       "0    0.702374\n",
       "1    0.224893\n",
       "2    0.072733\n",
       "Name: categ, dtype: float64"
      ]
     },
     "execution_count": 46,
     "metadata": {},
     "output_type": "execute_result"
    }
   ],
   "source": [
    "categ_freq = products['categ'].value_counts(normalize=True)\n",
    "categ_freq"
   ]
  },
  {
   "cell_type": "code",
   "execution_count": 47,
   "metadata": {},
   "outputs": [
    {
     "data": {
      "text/plain": [
       "<matplotlib.axes._subplots.AxesSubplot at 0x1196a3780>"
      ]
     },
     "execution_count": 47,
     "metadata": {},
     "output_type": "execute_result"
    },
    {
     "data": {
      "image/png": "[encoded data removed]",
      "text/plain": [
       "<Figure size 432x288 with 1 Axes>"
      ]
     },
     "metadata": {},
     "output_type": "display_data"
    }
   ],
   "source": [
    "categ_freq.plot(kind='pie')"
   ]
  },
  {
   "cell_type": "markdown",
   "metadata": {},
   "source": [
    "- Merge les tables en un dataframe\n",
    "- Transcrire les dates en mois heures autres\n",
    "- Calculer CA par exemple"
   ]
  },
  {
   "cell_type": "markdown",
   "metadata": {},
   "source": [
    "## Building main dataframe\n",
    "\n",
    "Nous procedons au merge des donnees sur la base des cles primaires et etrangeres identifiees comme suit:\n",
    "- customers avec comme cle primaire 'client_id'\n",
    "- products avec comme cle primaire 'id_prod'\n",
    "- transactions avec comme cles etrangeres 'client_id' et 'id_prod'"
   ]
  },
  {
   "cell_type": "markdown",
   "metadata": {},
   "source": [
    "Dans une premiere etape, realiser des jointures externes permet d'identifier les cles non utilisees ou non definies. On realise ainsi les jointures par etapes:\n",
    "- produits avec transactions.\n",
    "- le dataframe resultant de l'operation precedente avec les clients"
   ]
  },
  {
   "cell_type": "code",
   "execution_count": 48,
   "metadata": {},
   "outputs": [],
   "source": [
    "data = pd.merge(products, transactions, on='id_prod', how='outer')"
   ]
  },
  {
   "cell_type": "code",
   "execution_count": 49,
   "metadata": {},
   "outputs": [
    {
     "name": "stdout",
     "output_type": "stream",
     "text": [
      "<class 'pandas.core.frame.DataFrame'>\n",
      "Int64Index: 336838 entries, 0 to 336837\n",
      "Data columns (total 7 columns):\n",
      "id_prod       336838 non-null object\n",
      "price         336735 non-null float64\n",
      "categ         336735 non-null float64\n",
      "date          336816 non-null object\n",
      "session_id    336816 non-null object\n",
      "client_id     336816 non-null object\n",
      "test          336816 non-null object\n",
      "dtypes: float64(2), object(5)\n",
      "memory usage: 20.6+ MB\n"
     ]
    }
   ],
   "source": [
    "data.info()\n"
   ]
  },
  {
   "cell_type": "markdown",
   "metadata": {},
   "source": [
    "Il y'a des produits non references dans les transactions: des produits sans prix ou categorie renseignee."
   ]
  },
  {
   "cell_type": "code",
   "execution_count": 50,
   "metadata": {},
   "outputs": [
    {
     "data": {
      "text/html": [
       "<div>\n",
       "<style scoped>\n",
       "    .dataframe tbody tr th:only-of-type {\n",
       "        vertical-align: middle;\n",
       "    }\n",
       "\n",
       "    .dataframe tbody tr th {\n",
       "        vertical-align: top;\n",
       "    }\n",
       "\n",
       "    .dataframe thead th {\n",
       "        text-align: right;\n",
       "    }\n",
       "</style>\n",
       "<table border=\"1\" class=\"dataframe\">\n",
       "  <thead>\n",
       "    <tr style=\"text-align: right;\">\n",
       "      <th></th>\n",
       "      <th>id_prod</th>\n",
       "      <th>price</th>\n",
       "      <th>categ</th>\n",
       "      <th>session_id</th>\n",
       "    </tr>\n",
       "  </thead>\n",
       "  <tbody>\n",
       "    <tr>\n",
       "      <td>336735</td>\n",
       "      <td>0_2245</td>\n",
       "      <td>NaN</td>\n",
       "      <td>NaN</td>\n",
       "      <td>s_49705</td>\n",
       "    </tr>\n",
       "    <tr>\n",
       "      <td>336736</td>\n",
       "      <td>0_2245</td>\n",
       "      <td>NaN</td>\n",
       "      <td>NaN</td>\n",
       "      <td>s_49323</td>\n",
       "    </tr>\n",
       "    <tr>\n",
       "      <td>336737</td>\n",
       "      <td>0_2245</td>\n",
       "      <td>NaN</td>\n",
       "      <td>NaN</td>\n",
       "      <td>s_124474</td>\n",
       "    </tr>\n",
       "    <tr>\n",
       "      <td>336738</td>\n",
       "      <td>0_2245</td>\n",
       "      <td>NaN</td>\n",
       "      <td>NaN</td>\n",
       "      <td>s_172304</td>\n",
       "    </tr>\n",
       "    <tr>\n",
       "      <td>336739</td>\n",
       "      <td>0_2245</td>\n",
       "      <td>NaN</td>\n",
       "      <td>NaN</td>\n",
       "      <td>s_3</td>\n",
       "    </tr>\n",
       "    <tr>\n",
       "      <td>...</td>\n",
       "      <td>...</td>\n",
       "      <td>...</td>\n",
       "      <td>...</td>\n",
       "      <td>...</td>\n",
       "    </tr>\n",
       "    <tr>\n",
       "      <td>336833</td>\n",
       "      <td>0_2245</td>\n",
       "      <td>NaN</td>\n",
       "      <td>NaN</td>\n",
       "      <td>s_16936</td>\n",
       "    </tr>\n",
       "    <tr>\n",
       "      <td>336834</td>\n",
       "      <td>0_2245</td>\n",
       "      <td>NaN</td>\n",
       "      <td>NaN</td>\n",
       "      <td>s_13738</td>\n",
       "    </tr>\n",
       "    <tr>\n",
       "      <td>336835</td>\n",
       "      <td>0_2245</td>\n",
       "      <td>NaN</td>\n",
       "      <td>NaN</td>\n",
       "      <td>s_128815</td>\n",
       "    </tr>\n",
       "    <tr>\n",
       "      <td>336836</td>\n",
       "      <td>0_2245</td>\n",
       "      <td>NaN</td>\n",
       "      <td>NaN</td>\n",
       "      <td>s_26624</td>\n",
       "    </tr>\n",
       "    <tr>\n",
       "      <td>336837</td>\n",
       "      <td>0_2245</td>\n",
       "      <td>NaN</td>\n",
       "      <td>NaN</td>\n",
       "      <td>s_28235</td>\n",
       "    </tr>\n",
       "  </tbody>\n",
       "</table>\n",
       "<p>103 rows × 4 columns</p>\n",
       "</div>"
      ],
      "text/plain": [
       "       id_prod  price  categ session_id\n",
       "336735  0_2245    NaN    NaN    s_49705\n",
       "336736  0_2245    NaN    NaN    s_49323\n",
       "336737  0_2245    NaN    NaN   s_124474\n",
       "336738  0_2245    NaN    NaN   s_172304\n",
       "336739  0_2245    NaN    NaN        s_3\n",
       "...        ...    ...    ...        ...\n",
       "336833  0_2245    NaN    NaN    s_16936\n",
       "336834  0_2245    NaN    NaN    s_13738\n",
       "336835  0_2245    NaN    NaN   s_128815\n",
       "336836  0_2245    NaN    NaN    s_26624\n",
       "336837  0_2245    NaN    NaN    s_28235\n",
       "\n",
       "[103 rows x 4 columns]"
      ]
     },
     "execution_count": 50,
     "metadata": {},
     "output_type": "execute_result"
    }
   ],
   "source": [
    "prod_undef = data.loc[data['price'].isnull(), ['id_prod', 'price', 'categ', 'session_id']].copy()\n",
    "prod_undef"
   ]
  },
  {
   "cell_type": "code",
   "execution_count": 51,
   "metadata": {},
   "outputs": [
    {
     "data": {
      "text/html": [
       "<div>\n",
       "<style scoped>\n",
       "    .dataframe tbody tr th:only-of-type {\n",
       "        vertical-align: middle;\n",
       "    }\n",
       "\n",
       "    .dataframe tbody tr th {\n",
       "        vertical-align: top;\n",
       "    }\n",
       "\n",
       "    .dataframe thead th {\n",
       "        text-align: right;\n",
       "    }\n",
       "</style>\n",
       "<table border=\"1\" class=\"dataframe\">\n",
       "  <thead>\n",
       "    <tr style=\"text-align: right;\">\n",
       "      <th></th>\n",
       "      <th>id_prod</th>\n",
       "      <th>price</th>\n",
       "      <th>categ</th>\n",
       "      <th>session_id</th>\n",
       "    </tr>\n",
       "  </thead>\n",
       "  <tbody>\n",
       "    <tr>\n",
       "      <td>336735</td>\n",
       "      <td>0_2245</td>\n",
       "      <td>NaN</td>\n",
       "      <td>NaN</td>\n",
       "      <td>s_49705</td>\n",
       "    </tr>\n",
       "    <tr>\n",
       "      <td>336736</td>\n",
       "      <td>0_2245</td>\n",
       "      <td>NaN</td>\n",
       "      <td>NaN</td>\n",
       "      <td>s_49323</td>\n",
       "    </tr>\n",
       "    <tr>\n",
       "      <td>336737</td>\n",
       "      <td>0_2245</td>\n",
       "      <td>NaN</td>\n",
       "      <td>NaN</td>\n",
       "      <td>s_124474</td>\n",
       "    </tr>\n",
       "    <tr>\n",
       "      <td>336738</td>\n",
       "      <td>0_2245</td>\n",
       "      <td>NaN</td>\n",
       "      <td>NaN</td>\n",
       "      <td>s_172304</td>\n",
       "    </tr>\n",
       "    <tr>\n",
       "      <td>336739</td>\n",
       "      <td>0_2245</td>\n",
       "      <td>NaN</td>\n",
       "      <td>NaN</td>\n",
       "      <td>s_3</td>\n",
       "    </tr>\n",
       "    <tr>\n",
       "      <td>...</td>\n",
       "      <td>...</td>\n",
       "      <td>...</td>\n",
       "      <td>...</td>\n",
       "      <td>...</td>\n",
       "    </tr>\n",
       "    <tr>\n",
       "      <td>336833</td>\n",
       "      <td>0_2245</td>\n",
       "      <td>NaN</td>\n",
       "      <td>NaN</td>\n",
       "      <td>s_16936</td>\n",
       "    </tr>\n",
       "    <tr>\n",
       "      <td>336834</td>\n",
       "      <td>0_2245</td>\n",
       "      <td>NaN</td>\n",
       "      <td>NaN</td>\n",
       "      <td>s_13738</td>\n",
       "    </tr>\n",
       "    <tr>\n",
       "      <td>336835</td>\n",
       "      <td>0_2245</td>\n",
       "      <td>NaN</td>\n",
       "      <td>NaN</td>\n",
       "      <td>s_128815</td>\n",
       "    </tr>\n",
       "    <tr>\n",
       "      <td>336836</td>\n",
       "      <td>0_2245</td>\n",
       "      <td>NaN</td>\n",
       "      <td>NaN</td>\n",
       "      <td>s_26624</td>\n",
       "    </tr>\n",
       "    <tr>\n",
       "      <td>336837</td>\n",
       "      <td>0_2245</td>\n",
       "      <td>NaN</td>\n",
       "      <td>NaN</td>\n",
       "      <td>s_28235</td>\n",
       "    </tr>\n",
       "  </tbody>\n",
       "</table>\n",
       "<p>103 rows × 4 columns</p>\n",
       "</div>"
      ],
      "text/plain": [
       "       id_prod  price  categ session_id\n",
       "336735  0_2245    NaN    NaN    s_49705\n",
       "336736  0_2245    NaN    NaN    s_49323\n",
       "336737  0_2245    NaN    NaN   s_124474\n",
       "336738  0_2245    NaN    NaN   s_172304\n",
       "336739  0_2245    NaN    NaN        s_3\n",
       "...        ...    ...    ...        ...\n",
       "336833  0_2245    NaN    NaN    s_16936\n",
       "336834  0_2245    NaN    NaN    s_13738\n",
       "336835  0_2245    NaN    NaN   s_128815\n",
       "336836  0_2245    NaN    NaN    s_26624\n",
       "336837  0_2245    NaN    NaN    s_28235\n",
       "\n",
       "[103 rows x 4 columns]"
      ]
     },
     "execution_count": 51,
     "metadata": {},
     "output_type": "execute_result"
    }
   ],
   "source": [
    "unknown_prod_mask = prod_undef['id_prod'] == '0_2245'\n",
    "prod_undef.loc[unknown_prod_mask]"
   ]
  },
  {
   "cell_type": "code",
   "execution_count": 52,
   "metadata": {},
   "outputs": [
    {
     "data": {
      "text/plain": [
       "array(['0_2245'], dtype=object)"
      ]
     },
     "execution_count": 52,
     "metadata": {},
     "output_type": "execute_result"
    }
   ],
   "source": [
    "prod_undef['id_prod'].unique()"
   ]
  },
  {
   "cell_type": "markdown",
   "metadata": {},
   "source": [
    "Un des produits dans les transactions n'est pas repertorie, ni en termes de prix, ni en termes de categorie.\n",
    "Il sera supprime de l'etude.\n",
    "Il represente 103 transactions. produit de categorie 0, sans reel impact sur l'analyse car moins de 1% des transactions."
   ]
  },
  {
   "cell_type": "code",
   "execution_count": 53,
   "metadata": {},
   "outputs": [],
   "source": [
    "data = pd.merge(data, customers, on='client_id', how='outer')"
   ]
  },
  {
   "cell_type": "code",
   "execution_count": 54,
   "metadata": {},
   "outputs": [
    {
     "name": "stdout",
     "output_type": "stream",
     "text": [
      "<class 'pandas.core.frame.DataFrame'>\n",
      "Int64Index: 336859 entries, 0 to 336858\n",
      "Data columns (total 10 columns):\n",
      "id_prod       336838 non-null object\n",
      "price         336735 non-null float64\n",
      "categ         336735 non-null float64\n",
      "date          336816 non-null object\n",
      "session_id    336816 non-null object\n",
      "client_id     336837 non-null object\n",
      "test          336816 non-null object\n",
      "sex           336837 non-null object\n",
      "birth         336837 non-null float64\n",
      "age           336837 non-null float64\n",
      "dtypes: float64(4), object(6)\n",
      "memory usage: 28.3+ MB\n"
     ]
    }
   ],
   "source": [
    "data.info()"
   ]
  },
  {
   "cell_type": "markdown",
   "metadata": {},
   "source": [
    "### Unsold products"
   ]
  },
  {
   "cell_type": "code",
   "execution_count": 55,
   "metadata": {},
   "outputs": [],
   "source": [
    "session_undef = data.loc[data['session_id'].isnull(), ['id_prod', 'price', 'categ', 'session_id', 'client_id']].copy()"
   ]
  },
  {
   "cell_type": "code",
   "execution_count": 56,
   "metadata": {},
   "outputs": [
    {
     "data": {
      "text/plain": [
       "['0_1016',\n",
       " '0_1780',\n",
       " '0_1062',\n",
       " '0_1119',\n",
       " '0_1014',\n",
       " '1_0',\n",
       " '0_1318',\n",
       " '0_1800',\n",
       " '0_1645',\n",
       " '0_322',\n",
       " '0_1620',\n",
       " '0_1025',\n",
       " '2_87',\n",
       " '1_394',\n",
       " '2_72',\n",
       " '0_310',\n",
       " '0_1624',\n",
       " '0_525',\n",
       " '2_86',\n",
       " '0_299',\n",
       " '0_510',\n",
       " '0_2308']"
      ]
     },
     "execution_count": 56,
     "metadata": {},
     "output_type": "execute_result"
    }
   ],
   "source": [
    "unsold_product = session_undef['id_prod'].dropna().unique().tolist()\n",
    "unsold_product"
   ]
  },
  {
   "cell_type": "markdown",
   "metadata": {},
   "source": [
    "### Not purchasing customers"
   ]
  },
  {
   "cell_type": "code",
   "execution_count": 57,
   "metadata": {},
   "outputs": [
    {
     "data": {
      "text/plain": [
       "['c_8253',\n",
       " 'c_3789',\n",
       " 'c_4406',\n",
       " 'c_2706',\n",
       " 'c_3443',\n",
       " 'c_4447',\n",
       " 'c_3017',\n",
       " 'c_4086',\n",
       " 'c_6930',\n",
       " 'c_4358',\n",
       " 'c_8381',\n",
       " 'c_1223',\n",
       " 'c_6862',\n",
       " 'c_5245',\n",
       " 'c_5223',\n",
       " 'c_6735',\n",
       " 'c_862',\n",
       " 'c_7584',\n",
       " 'c_90',\n",
       " 'c_587',\n",
       " 'c_3526']"
      ]
     },
     "execution_count": 57,
     "metadata": {},
     "output_type": "execute_result"
    }
   ],
   "source": [
    "freeloader = session_undef['client_id'].dropna().unique().tolist()\n",
    "freeloader"
   ]
  },
  {
   "cell_type": "code",
   "execution_count": 58,
   "metadata": {},
   "outputs": [
    {
     "name": "stdout",
     "output_type": "stream",
     "text": [
      "<class 'pandas.core.frame.DataFrame'>\n",
      "Int64Index: 336859 entries, 0 to 336858\n",
      "Data columns (total 10 columns):\n",
      "id_prod       336838 non-null object\n",
      "price         336735 non-null float64\n",
      "categ         336735 non-null float64\n",
      "date          336816 non-null object\n",
      "session_id    336816 non-null object\n",
      "client_id     336837 non-null object\n",
      "test          336816 non-null object\n",
      "sex           336837 non-null object\n",
      "birth         336837 non-null float64\n",
      "age           336837 non-null float64\n",
      "dtypes: float64(4), object(6)\n",
      "memory usage: 28.3+ MB\n"
     ]
    }
   ],
   "source": [
    "data.info()"
   ]
  },
  {
   "cell_type": "markdown",
   "metadata": {},
   "source": [
    "### Ajouter la temporalite des donnees de transactions plus comptage et ratio des produits et clients non presents"
   ]
  },
  {
   "cell_type": "code",
   "execution_count": 59,
   "metadata": {},
   "outputs": [
    {
     "name": "stdout",
     "output_type": "stream",
     "text": [
      "<class 'pandas.core.frame.DataFrame'>\n",
      "Int64Index: 336713 entries, 0 to 336837\n",
      "Data columns (total 10 columns):\n",
      "id_prod       336713 non-null object\n",
      "price         336713 non-null float64\n",
      "categ         336713 non-null float64\n",
      "date          336713 non-null object\n",
      "session_id    336713 non-null object\n",
      "client_id     336713 non-null object\n",
      "test          336713 non-null object\n",
      "sex           336713 non-null object\n",
      "birth         336713 non-null float64\n",
      "age           336713 non-null float64\n",
      "dtypes: float64(4), object(6)\n",
      "memory usage: 28.3+ MB\n"
     ]
    }
   ],
   "source": [
    "book = data.dropna(axis='index', subset=['session_id'])\n",
    "unknown_prod_mask = data['id_prod'] != '0_2245'\n",
    "book = book.loc[unknown_prod_mask]\n",
    "book.info()"
   ]
  },
  {
   "cell_type": "code",
   "execution_count": 60,
   "metadata": {},
   "outputs": [],
   "source": [
    "book = book.set_index(['date', 'session_id'])"
   ]
  },
  {
   "cell_type": "code",
   "execution_count": 61,
   "metadata": {},
   "outputs": [],
   "source": [
    "book = book.sort_values('date')\n",
    "book = book.reset_index()"
   ]
  },
  {
   "cell_type": "markdown",
   "metadata": {},
   "source": [
    "Nous disposons d'un dataframe de travail trie par date et session, a partir duquel nous allons pouvoir effectuer des calculs, obtenir de nouvelles donnees. On peut ainsi evaluer:\n",
    "- le CA par jour, mois, trimestre \n",
    "- repartition du chiffre d'affaire realise par client pour voir la base fidele par exemple\n",
    "- evaluer la frequence d'achat par client\n",
    "- faire une cartographie des categorie de produits achetes selon l'age ou le sexe des individus"
   ]
  },
  {
   "cell_type": "code",
   "execution_count": 62,
   "metadata": {},
   "outputs": [],
   "source": [
    "book['date'] = pd.to_datetime(book['date'])\n",
    "book['date_Ym'] = book['date'].dt.strftime('%Y-%m')"
   ]
  },
  {
   "cell_type": "code",
   "execution_count": 63,
   "metadata": {},
   "outputs": [
    {
     "data": {
      "text/html": [
       "<div>\n",
       "<style scoped>\n",
       "    .dataframe tbody tr th:only-of-type {\n",
       "        vertical-align: middle;\n",
       "    }\n",
       "\n",
       "    .dataframe tbody tr th {\n",
       "        vertical-align: top;\n",
       "    }\n",
       "\n",
       "    .dataframe thead th {\n",
       "        text-align: right;\n",
       "    }\n",
       "</style>\n",
       "<table border=\"1\" class=\"dataframe\">\n",
       "  <thead>\n",
       "    <tr style=\"text-align: right;\">\n",
       "      <th></th>\n",
       "      <th>date</th>\n",
       "      <th>session_id</th>\n",
       "      <th>id_prod</th>\n",
       "      <th>price</th>\n",
       "      <th>categ</th>\n",
       "      <th>client_id</th>\n",
       "      <th>test</th>\n",
       "      <th>sex</th>\n",
       "      <th>birth</th>\n",
       "      <th>age</th>\n",
       "      <th>date_Ym</th>\n",
       "    </tr>\n",
       "  </thead>\n",
       "  <tbody>\n",
       "    <tr>\n",
       "      <td>0</td>\n",
       "      <td>2021-03-01 00:01:07.843138</td>\n",
       "      <td>s_1</td>\n",
       "      <td>0_1259</td>\n",
       "      <td>11.99</td>\n",
       "      <td>0.0</td>\n",
       "      <td>c_329</td>\n",
       "      <td>False</td>\n",
       "      <td>f</td>\n",
       "      <td>1967.0</td>\n",
       "      <td>52.0</td>\n",
       "      <td>2021-03</td>\n",
       "    </tr>\n",
       "    <tr>\n",
       "      <td>1</td>\n",
       "      <td>2021-03-01 00:02:26.047414</td>\n",
       "      <td>s_2</td>\n",
       "      <td>0_1390</td>\n",
       "      <td>19.37</td>\n",
       "      <td>0.0</td>\n",
       "      <td>c_664</td>\n",
       "      <td>False</td>\n",
       "      <td>m</td>\n",
       "      <td>1960.0</td>\n",
       "      <td>59.0</td>\n",
       "      <td>2021-03</td>\n",
       "    </tr>\n",
       "    <tr>\n",
       "      <td>2</td>\n",
       "      <td>2021-03-01 00:02:38.311413</td>\n",
       "      <td>s_3</td>\n",
       "      <td>0_1352</td>\n",
       "      <td>4.50</td>\n",
       "      <td>0.0</td>\n",
       "      <td>c_580</td>\n",
       "      <td>False</td>\n",
       "      <td>m</td>\n",
       "      <td>1988.0</td>\n",
       "      <td>31.0</td>\n",
       "      <td>2021-03</td>\n",
       "    </tr>\n",
       "    <tr>\n",
       "      <td>3</td>\n",
       "      <td>2021-03-01 00:04:54.559692</td>\n",
       "      <td>s_4</td>\n",
       "      <td>0_1458</td>\n",
       "      <td>6.55</td>\n",
       "      <td>0.0</td>\n",
       "      <td>c_7912</td>\n",
       "      <td>False</td>\n",
       "      <td>f</td>\n",
       "      <td>1989.0</td>\n",
       "      <td>30.0</td>\n",
       "      <td>2021-03</td>\n",
       "    </tr>\n",
       "    <tr>\n",
       "      <td>4</td>\n",
       "      <td>2021-03-01 00:05:18.801198</td>\n",
       "      <td>s_5</td>\n",
       "      <td>0_1358</td>\n",
       "      <td>16.49</td>\n",
       "      <td>0.0</td>\n",
       "      <td>c_2033</td>\n",
       "      <td>False</td>\n",
       "      <td>f</td>\n",
       "      <td>1956.0</td>\n",
       "      <td>63.0</td>\n",
       "      <td>2021-03</td>\n",
       "    </tr>\n",
       "    <tr>\n",
       "      <td>...</td>\n",
       "      <td>...</td>\n",
       "      <td>...</td>\n",
       "      <td>...</td>\n",
       "      <td>...</td>\n",
       "      <td>...</td>\n",
       "      <td>...</td>\n",
       "      <td>...</td>\n",
       "      <td>...</td>\n",
       "      <td>...</td>\n",
       "      <td>...</td>\n",
       "      <td>...</td>\n",
       "    </tr>\n",
       "    <tr>\n",
       "      <td>336708</td>\n",
       "      <td>2022-02-28 23:56:57.196281</td>\n",
       "      <td>s_172422</td>\n",
       "      <td>1_456</td>\n",
       "      <td>28.27</td>\n",
       "      <td>1.0</td>\n",
       "      <td>c_5787</td>\n",
       "      <td>False</td>\n",
       "      <td>f</td>\n",
       "      <td>1986.0</td>\n",
       "      <td>33.0</td>\n",
       "      <td>2022-02</td>\n",
       "    </tr>\n",
       "    <tr>\n",
       "      <td>336709</td>\n",
       "      <td>2022-02-28 23:56:57.561424</td>\n",
       "      <td>s_172423</td>\n",
       "      <td>1_370</td>\n",
       "      <td>13.11</td>\n",
       "      <td>1.0</td>\n",
       "      <td>c_1460</td>\n",
       "      <td>False</td>\n",
       "      <td>m</td>\n",
       "      <td>1989.0</td>\n",
       "      <td>30.0</td>\n",
       "      <td>2022-02</td>\n",
       "    </tr>\n",
       "    <tr>\n",
       "      <td>336710</td>\n",
       "      <td>2022-02-28 23:57:12.741573</td>\n",
       "      <td>s_172424</td>\n",
       "      <td>0_1538</td>\n",
       "      <td>8.61</td>\n",
       "      <td>0.0</td>\n",
       "      <td>c_1876</td>\n",
       "      <td>False</td>\n",
       "      <td>m</td>\n",
       "      <td>1983.0</td>\n",
       "      <td>36.0</td>\n",
       "      <td>2022-02</td>\n",
       "    </tr>\n",
       "    <tr>\n",
       "      <td>336711</td>\n",
       "      <td>2022-02-28 23:59:02.381670</td>\n",
       "      <td>s_172423</td>\n",
       "      <td>0_1403</td>\n",
       "      <td>15.99</td>\n",
       "      <td>0.0</td>\n",
       "      <td>c_1460</td>\n",
       "      <td>False</td>\n",
       "      <td>m</td>\n",
       "      <td>1989.0</td>\n",
       "      <td>30.0</td>\n",
       "      <td>2022-02</td>\n",
       "    </tr>\n",
       "    <tr>\n",
       "      <td>336712</td>\n",
       "      <td>2022-02-28 23:59:58.040472</td>\n",
       "      <td>s_172423</td>\n",
       "      <td>0_1775</td>\n",
       "      <td>6.99</td>\n",
       "      <td>0.0</td>\n",
       "      <td>c_1460</td>\n",
       "      <td>False</td>\n",
       "      <td>m</td>\n",
       "      <td>1989.0</td>\n",
       "      <td>30.0</td>\n",
       "      <td>2022-02</td>\n",
       "    </tr>\n",
       "  </tbody>\n",
       "</table>\n",
       "<p>336713 rows × 11 columns</p>\n",
       "</div>"
      ],
      "text/plain": [
       "                             date session_id id_prod  price  categ client_id  \\\n",
       "0      2021-03-01 00:01:07.843138        s_1  0_1259  11.99    0.0     c_329   \n",
       "1      2021-03-01 00:02:26.047414        s_2  0_1390  19.37    0.0     c_664   \n",
       "2      2021-03-01 00:02:38.311413        s_3  0_1352   4.50    0.0     c_580   \n",
       "3      2021-03-01 00:04:54.559692        s_4  0_1458   6.55    0.0    c_7912   \n",
       "4      2021-03-01 00:05:18.801198        s_5  0_1358  16.49    0.0    c_2033   \n",
       "...                           ...        ...     ...    ...    ...       ...   \n",
       "336708 2022-02-28 23:56:57.196281   s_172422   1_456  28.27    1.0    c_5787   \n",
       "336709 2022-02-28 23:56:57.561424   s_172423   1_370  13.11    1.0    c_1460   \n",
       "336710 2022-02-28 23:57:12.741573   s_172424  0_1538   8.61    0.0    c_1876   \n",
       "336711 2022-02-28 23:59:02.381670   s_172423  0_1403  15.99    0.0    c_1460   \n",
       "336712 2022-02-28 23:59:58.040472   s_172423  0_1775   6.99    0.0    c_1460   \n",
       "\n",
       "         test sex   birth   age  date_Ym  \n",
       "0       False   f  1967.0  52.0  2021-03  \n",
       "1       False   m  1960.0  59.0  2021-03  \n",
       "2       False   m  1988.0  31.0  2021-03  \n",
       "3       False   f  1989.0  30.0  2021-03  \n",
       "4       False   f  1956.0  63.0  2021-03  \n",
       "...       ...  ..     ...   ...      ...  \n",
       "336708  False   f  1986.0  33.0  2022-02  \n",
       "336709  False   m  1989.0  30.0  2022-02  \n",
       "336710  False   m  1983.0  36.0  2022-02  \n",
       "336711  False   m  1989.0  30.0  2022-02  \n",
       "336712  False   m  1989.0  30.0  2022-02  \n",
       "\n",
       "[336713 rows x 11 columns]"
      ]
     },
     "execution_count": 63,
     "metadata": {},
     "output_type": "execute_result"
    }
   ],
   "source": [
    "book"
   ]
  },
  {
   "cell_type": "code",
   "execution_count": 64,
   "metadata": {},
   "outputs": [
    {
     "data": {
      "text/plain": [
       "date_Ym\n",
       "2021-03    479312.03\n",
       "2021-04    472980.72\n",
       "2021-05    489367.95\n",
       "2021-06    481257.94\n",
       "2021-07    480898.66\n",
       "2021-08    479305.19\n",
       "2021-09    502771.28\n",
       "2021-10    319159.96\n",
       "2021-11    512890.17\n",
       "2021-12    522937.68\n",
       "2022-01    522955.31\n",
       "2022-02    532740.88\n",
       "Name: price, dtype: float64"
      ]
     },
     "execution_count": 64,
     "metadata": {},
     "output_type": "execute_result"
    }
   ],
   "source": [
    "sales_rev_monthly = book.groupby('date_Ym')['price'].sum()\n",
    "sales_rev_monthly"
   ]
  },
  {
   "cell_type": "code",
   "execution_count": 65,
   "metadata": {},
   "outputs": [
    {
     "data": {
      "text/plain": [
       "<matplotlib.axes._subplots.AxesSubplot at 0x119b7f7b8>"
      ]
     },
     "execution_count": 65,
     "metadata": {},
     "output_type": "execute_result"
    },
    {
     "data": {
      "image/png": "[encoded data removed]",
      "text/plain": [
       "<Figure size 432x288 with 1 Axes>"
      ]
     },
     "metadata": {
      "needs_background": "light"
     },
     "output_type": "display_data"
    }
   ],
   "source": [
    "sales_rev_monthly.plot(kind='bar')"
   ]
  },
  {
   "cell_type": "markdown",
   "metadata": {},
   "source": [
    "On observe un trou dans le CA du mois d'Octobre..."
   ]
  },
  {
   "cell_type": "code",
   "execution_count": 66,
   "metadata": {},
   "outputs": [
    {
     "data": {
      "text/plain": [
       "categ  date_Ym\n",
       "0.0    2021-03    193566.38\n",
       "       2021-04    205159.67\n",
       "       2021-05    196114.96\n",
       "       2021-06    167886.34\n",
       "       2021-07    144711.92\n",
       "       2021-08    167677.82\n",
       "       2021-09    246264.21\n",
       "       2021-10    199217.94\n",
       "       2021-11    155843.78\n",
       "       2021-12    205976.44\n",
       "       2022-01    164162.67\n",
       "       2022-02    183140.52\n",
       "1.0    2021-03    186974.17\n",
       "       2021-04    156138.35\n",
       "       2021-05    165893.40\n",
       "       2021-06    189162.04\n",
       "       2021-07    188523.27\n",
       "       2021-08    162991.38\n",
       "       2021-09    190613.78\n",
       "       2021-10     33762.32\n",
       "       2021-11    252910.39\n",
       "       2021-12    251026.75\n",
       "       2022-01    256267.92\n",
       "       2022-02    213120.64\n",
       "2.0    2021-03     98771.48\n",
       "       2021-04    111682.70\n",
       "       2021-05    127359.59\n",
       "       2021-06    124209.56\n",
       "       2021-07    147663.47\n",
       "       2021-08    148635.99\n",
       "       2021-09     65893.29\n",
       "       2021-10     86179.70\n",
       "       2021-11    104136.00\n",
       "       2021-12     65934.49\n",
       "       2022-01    102524.72\n",
       "       2022-02    136479.72\n",
       "Name: price, dtype: float64"
      ]
     },
     "execution_count": 66,
     "metadata": {},
     "output_type": "execute_result"
    }
   ],
   "source": [
    "sales_acat_monthly = book.groupby(['categ','date_Ym'])['price'].sum()\n",
    "sales_acat_monthly"
   ]
  },
  {
   "cell_type": "code",
   "execution_count": 67,
   "metadata": {},
   "outputs": [
    {
     "data": {
      "text/plain": [
       "<matplotlib.axes._subplots.AxesSubplot at 0x11bb09f98>"
      ]
     },
     "execution_count": 67,
     "metadata": {},
     "output_type": "execute_result"
    },
    {
     "data": {
      "image/png": "[encoded data removed]",
      "text/plain": [
       "<Figure size 432x288 with 1 Axes>"
      ]
     },
     "metadata": {
      "needs_background": "light"
     },
     "output_type": "display_data"
    }
   ],
   "source": [
    "trans_table = pd.crosstab(index=book['date_Ym'], columns=book['categ'])\n",
    "trans_table.plot(kind='bar', stacked=True)"
   ]
  },
  {
   "cell_type": "markdown",
   "metadata": {},
   "source": [
    "sur le mois d'octobre les ventes de produits de cat1 ont fondu."
   ]
  },
  {
   "cell_type": "code",
   "execution_count": 83,
   "metadata": {},
   "outputs": [
    {
     "data": {
      "text/html": [
       "<div>\n",
       "<style scoped>\n",
       "    .dataframe tbody tr th:only-of-type {\n",
       "        vertical-align: middle;\n",
       "    }\n",
       "\n",
       "    .dataframe tbody tr th {\n",
       "        vertical-align: top;\n",
       "    }\n",
       "\n",
       "    .dataframe thead tr th {\n",
       "        text-align: left;\n",
       "    }\n",
       "\n",
       "    .dataframe thead tr:last-of-type th {\n",
       "        text-align: right;\n",
       "    }\n",
       "</style>\n",
       "<table border=\"1\" class=\"dataframe\">\n",
       "  <thead>\n",
       "    <tr>\n",
       "      <th>categ</th>\n",
       "      <th colspan=\"2\" halign=\"left\">0.0</th>\n",
       "      <th colspan=\"2\" halign=\"left\">1.0</th>\n",
       "      <th colspan=\"2\" halign=\"left\">2.0</th>\n",
       "    </tr>\n",
       "    <tr>\n",
       "      <th>sex</th>\n",
       "      <th>f</th>\n",
       "      <th>m</th>\n",
       "      <th>f</th>\n",
       "      <th>m</th>\n",
       "      <th>f</th>\n",
       "      <th>m</th>\n",
       "    </tr>\n",
       "    <tr>\n",
       "      <th>date_Ym</th>\n",
       "      <th></th>\n",
       "      <th></th>\n",
       "      <th></th>\n",
       "      <th></th>\n",
       "      <th></th>\n",
       "      <th></th>\n",
       "    </tr>\n",
       "  </thead>\n",
       "  <tbody>\n",
       "    <tr>\n",
       "      <td>2021-03</td>\n",
       "      <td>95711.79</td>\n",
       "      <td>97854.59</td>\n",
       "      <td>94073.70</td>\n",
       "      <td>92900.47</td>\n",
       "      <td>45084.22</td>\n",
       "      <td>53687.26</td>\n",
       "    </tr>\n",
       "    <tr>\n",
       "      <td>2021-04</td>\n",
       "      <td>102737.58</td>\n",
       "      <td>102422.09</td>\n",
       "      <td>78837.59</td>\n",
       "      <td>77300.76</td>\n",
       "      <td>54024.81</td>\n",
       "      <td>57657.89</td>\n",
       "    </tr>\n",
       "    <tr>\n",
       "      <td>2021-05</td>\n",
       "      <td>98587.00</td>\n",
       "      <td>97527.96</td>\n",
       "      <td>84083.20</td>\n",
       "      <td>81810.20</td>\n",
       "      <td>61582.09</td>\n",
       "      <td>65777.50</td>\n",
       "    </tr>\n",
       "    <tr>\n",
       "      <td>2021-06</td>\n",
       "      <td>82607.60</td>\n",
       "      <td>85278.74</td>\n",
       "      <td>96622.13</td>\n",
       "      <td>92539.91</td>\n",
       "      <td>56511.91</td>\n",
       "      <td>67697.65</td>\n",
       "    </tr>\n",
       "    <tr>\n",
       "      <td>2021-07</td>\n",
       "      <td>71562.89</td>\n",
       "      <td>73149.03</td>\n",
       "      <td>95840.22</td>\n",
       "      <td>92683.05</td>\n",
       "      <td>67970.31</td>\n",
       "      <td>79693.16</td>\n",
       "    </tr>\n",
       "    <tr>\n",
       "      <td>2021-08</td>\n",
       "      <td>82950.04</td>\n",
       "      <td>84727.78</td>\n",
       "      <td>82059.90</td>\n",
       "      <td>80931.48</td>\n",
       "      <td>70472.37</td>\n",
       "      <td>78163.62</td>\n",
       "    </tr>\n",
       "    <tr>\n",
       "      <td>2021-09</td>\n",
       "      <td>120661.88</td>\n",
       "      <td>125602.33</td>\n",
       "      <td>95025.27</td>\n",
       "      <td>95588.51</td>\n",
       "      <td>30935.62</td>\n",
       "      <td>34957.67</td>\n",
       "    </tr>\n",
       "    <tr>\n",
       "      <td>2021-10</td>\n",
       "      <td>96884.03</td>\n",
       "      <td>102333.91</td>\n",
       "      <td>16435.53</td>\n",
       "      <td>17326.79</td>\n",
       "      <td>41372.99</td>\n",
       "      <td>44806.71</td>\n",
       "    </tr>\n",
       "    <tr>\n",
       "      <td>2021-11</td>\n",
       "      <td>76139.35</td>\n",
       "      <td>79704.43</td>\n",
       "      <td>128231.41</td>\n",
       "      <td>124678.98</td>\n",
       "      <td>50974.47</td>\n",
       "      <td>53161.53</td>\n",
       "    </tr>\n",
       "    <tr>\n",
       "      <td>2021-12</td>\n",
       "      <td>101448.21</td>\n",
       "      <td>104528.23</td>\n",
       "      <td>126876.57</td>\n",
       "      <td>124150.18</td>\n",
       "      <td>29765.17</td>\n",
       "      <td>36169.32</td>\n",
       "    </tr>\n",
       "    <tr>\n",
       "      <td>2022-01</td>\n",
       "      <td>82656.35</td>\n",
       "      <td>81506.32</td>\n",
       "      <td>130542.19</td>\n",
       "      <td>125725.73</td>\n",
       "      <td>50186.82</td>\n",
       "      <td>52337.90</td>\n",
       "    </tr>\n",
       "    <tr>\n",
       "      <td>2022-02</td>\n",
       "      <td>91519.25</td>\n",
       "      <td>91621.27</td>\n",
       "      <td>109228.78</td>\n",
       "      <td>103891.86</td>\n",
       "      <td>58918.53</td>\n",
       "      <td>77561.19</td>\n",
       "    </tr>\n",
       "  </tbody>\n",
       "</table>\n",
       "</div>"
      ],
      "text/plain": [
       "categ          0.0                   1.0                  2.0          \n",
       "sex              f          m          f          m         f         m\n",
       "date_Ym                                                                \n",
       "2021-03   95711.79   97854.59   94073.70   92900.47  45084.22  53687.26\n",
       "2021-04  102737.58  102422.09   78837.59   77300.76  54024.81  57657.89\n",
       "2021-05   98587.00   97527.96   84083.20   81810.20  61582.09  65777.50\n",
       "2021-06   82607.60   85278.74   96622.13   92539.91  56511.91  67697.65\n",
       "2021-07   71562.89   73149.03   95840.22   92683.05  67970.31  79693.16\n",
       "2021-08   82950.04   84727.78   82059.90   80931.48  70472.37  78163.62\n",
       "2021-09  120661.88  125602.33   95025.27   95588.51  30935.62  34957.67\n",
       "2021-10   96884.03  102333.91   16435.53   17326.79  41372.99  44806.71\n",
       "2021-11   76139.35   79704.43  128231.41  124678.98  50974.47  53161.53\n",
       "2021-12  101448.21  104528.23  126876.57  124150.18  29765.17  36169.32\n",
       "2022-01   82656.35   81506.32  130542.19  125725.73  50186.82  52337.90\n",
       "2022-02   91519.25   91621.27  109228.78  103891.86  58918.53  77561.19"
      ]
     },
     "execution_count": 83,
     "metadata": {},
     "output_type": "execute_result"
    }
   ],
   "source": [
    "sales_acat_sex_monthly = book.pivot_table(index='date_Ym', columns=['categ', 'sex'], values='price', aggfunc=sum)\n",
    "sales_acat_sex_monthly\n"
   ]
  },
  {
   "cell_type": "code",
   "execution_count": 84,
   "metadata": {},
   "outputs": [
    {
     "data": {
      "text/plain": [
       "<matplotlib.axes._subplots.AxesSubplot at 0x1195b4cf8>"
      ]
     },
     "execution_count": 84,
     "metadata": {},
     "output_type": "execute_result"
    },
    {
     "data": {
      "image/png": "[encoded data removed]",
      "text/plain": [
       "<Figure size 432x288 with 1 Axes>"
      ]
     },
     "metadata": {
      "needs_background": "light"
     },
     "output_type": "display_data"
    }
   ],
   "source": [
    "sales_acat_sex_monthly.plot(kind='bar', stacked=True)"
   ]
  },
  {
   "cell_type": "code",
   "execution_count": 79,
   "metadata": {},
   "outputs": [
    {
     "data": {
      "text/html": [
       "<div>\n",
       "<style scoped>\n",
       "    .dataframe tbody tr th:only-of-type {\n",
       "        vertical-align: middle;\n",
       "    }\n",
       "\n",
       "    .dataframe tbody tr th {\n",
       "        vertical-align: top;\n",
       "    }\n",
       "\n",
       "    .dataframe thead th {\n",
       "        text-align: right;\n",
       "    }\n",
       "</style>\n",
       "<table border=\"1\" class=\"dataframe\">\n",
       "  <thead>\n",
       "    <tr style=\"text-align: right;\">\n",
       "      <th>categ</th>\n",
       "      <th>0.0</th>\n",
       "      <th>1.0</th>\n",
       "      <th>2.0</th>\n",
       "    </tr>\n",
       "    <tr>\n",
       "      <th>date_Ym</th>\n",
       "      <th></th>\n",
       "      <th></th>\n",
       "      <th></th>\n",
       "    </tr>\n",
       "  </thead>\n",
       "  <tbody>\n",
       "    <tr>\n",
       "      <td>2021-03</td>\n",
       "      <td>193566.38</td>\n",
       "      <td>186974.17</td>\n",
       "      <td>98771.48</td>\n",
       "    </tr>\n",
       "    <tr>\n",
       "      <td>2021-04</td>\n",
       "      <td>205159.67</td>\n",
       "      <td>156138.35</td>\n",
       "      <td>111682.70</td>\n",
       "    </tr>\n",
       "    <tr>\n",
       "      <td>2021-05</td>\n",
       "      <td>196114.96</td>\n",
       "      <td>165893.40</td>\n",
       "      <td>127359.59</td>\n",
       "    </tr>\n",
       "    <tr>\n",
       "      <td>2021-06</td>\n",
       "      <td>167886.34</td>\n",
       "      <td>189162.04</td>\n",
       "      <td>124209.56</td>\n",
       "    </tr>\n",
       "    <tr>\n",
       "      <td>2021-07</td>\n",
       "      <td>144711.92</td>\n",
       "      <td>188523.27</td>\n",
       "      <td>147663.47</td>\n",
       "    </tr>\n",
       "    <tr>\n",
       "      <td>2021-08</td>\n",
       "      <td>167677.82</td>\n",
       "      <td>162991.38</td>\n",
       "      <td>148635.99</td>\n",
       "    </tr>\n",
       "    <tr>\n",
       "      <td>2021-09</td>\n",
       "      <td>246264.21</td>\n",
       "      <td>190613.78</td>\n",
       "      <td>65893.29</td>\n",
       "    </tr>\n",
       "    <tr>\n",
       "      <td>2021-10</td>\n",
       "      <td>199217.94</td>\n",
       "      <td>33762.32</td>\n",
       "      <td>86179.70</td>\n",
       "    </tr>\n",
       "    <tr>\n",
       "      <td>2021-11</td>\n",
       "      <td>155843.78</td>\n",
       "      <td>252910.39</td>\n",
       "      <td>104136.00</td>\n",
       "    </tr>\n",
       "    <tr>\n",
       "      <td>2021-12</td>\n",
       "      <td>205976.44</td>\n",
       "      <td>251026.75</td>\n",
       "      <td>65934.49</td>\n",
       "    </tr>\n",
       "    <tr>\n",
       "      <td>2022-01</td>\n",
       "      <td>164162.67</td>\n",
       "      <td>256267.92</td>\n",
       "      <td>102524.72</td>\n",
       "    </tr>\n",
       "    <tr>\n",
       "      <td>2022-02</td>\n",
       "      <td>183140.52</td>\n",
       "      <td>213120.64</td>\n",
       "      <td>136479.72</td>\n",
       "    </tr>\n",
       "  </tbody>\n",
       "</table>\n",
       "</div>"
      ],
      "text/plain": [
       "categ          0.0        1.0        2.0\n",
       "date_Ym                                 \n",
       "2021-03  193566.38  186974.17   98771.48\n",
       "2021-04  205159.67  156138.35  111682.70\n",
       "2021-05  196114.96  165893.40  127359.59\n",
       "2021-06  167886.34  189162.04  124209.56\n",
       "2021-07  144711.92  188523.27  147663.47\n",
       "2021-08  167677.82  162991.38  148635.99\n",
       "2021-09  246264.21  190613.78   65893.29\n",
       "2021-10  199217.94   33762.32   86179.70\n",
       "2021-11  155843.78  252910.39  104136.00\n",
       "2021-12  205976.44  251026.75   65934.49\n",
       "2022-01  164162.67  256267.92  102524.72\n",
       "2022-02  183140.52  213120.64  136479.72"
      ]
     },
     "execution_count": 79,
     "metadata": {},
     "output_type": "execute_result"
    }
   ],
   "source": [
    "sales_acat_monthly = book.pivot_table(index='date_Ym', columns='categ', values='price', aggfunc=sum)\n",
    "sales_acat_monthly"
   ]
  },
  {
   "cell_type": "code",
   "execution_count": 80,
   "metadata": {},
   "outputs": [
    {
     "data": {
      "text/plain": [
       "<matplotlib.axes._subplots.AxesSubplot at 0x126810da0>"
      ]
     },
     "execution_count": 80,
     "metadata": {},
     "output_type": "execute_result"
    },
    {
     "data": {
      "image/png": "[encoded data removed]",
      "text/plain": [
       "<Figure size 432x288 with 1 Axes>"
      ]
     },
     "metadata": {
      "needs_background": "light"
     },
     "output_type": "display_data"
    }
   ],
   "source": [
    "sales_acat_monthly.plot(kind='bar', stacked=True)"
   ]
  },
  {
   "cell_type": "code",
   "execution_count": 72,
   "metadata": {},
   "outputs": [
    {
     "data": {
      "text/plain": [
       "client_id\n",
       "c_1        300.65\n",
       "c_10       586.18\n",
       "c_100      222.87\n",
       "c_1000     980.02\n",
       "c_1001    1102.45\n",
       "           ...   \n",
       "c_995      119.08\n",
       "c_996      739.60\n",
       "c_997      572.89\n",
       "c_998     1527.69\n",
       "c_999      305.00\n",
       "Name: price, Length: 8600, dtype: float64"
      ]
     },
     "execution_count": 72,
     "metadata": {},
     "output_type": "execute_result"
    }
   ],
   "source": [
    "sales_aclient_yearly = book.groupby('client_id')['price'].sum()\n",
    "sales_aclient_yearly"
   ]
  },
  {
   "cell_type": "markdown",
   "metadata": {},
   "source": [
    "Courbe de Lorentz"
   ]
  },
  {
   "cell_type": "code",
   "execution_count": 73,
   "metadata": {},
   "outputs": [
    {
     "data": {
      "text/plain": [
       "session_id\n",
       "s_1        11.99\n",
       "s_10       26.99\n",
       "s_100      33.72\n",
       "s_1000     39.22\n",
       "s_10000    41.49\n",
       "           ...  \n",
       "s_99994    28.92\n",
       "s_99995    19.84\n",
       "s_99996    56.27\n",
       "s_99997     6.99\n",
       "s_99998    35.11\n",
       "Name: price, Length: 169173, dtype: float64"
      ]
     },
     "execution_count": 73,
     "metadata": {},
     "output_type": "execute_result"
    }
   ],
   "source": [
    "sales_atrans_yearly = book.groupby('session_id')['price'].sum()\n",
    "sales_atrans_yearly"
   ]
  },
  {
   "cell_type": "code",
   "execution_count": 74,
   "metadata": {},
   "outputs": [
    {
     "data": {
      "text/plain": [
       "sex\n",
       "f    2.859122e+06\n",
       "m    2.937456e+06\n",
       "Name: price, dtype: float64"
      ]
     },
     "execution_count": 74,
     "metadata": {},
     "output_type": "execute_result"
    }
   ],
   "source": [
    "sales_asex_yearly = book.groupby('sex')['price'].sum()\n",
    "sales_asex_yearly"
   ]
  },
  {
   "cell_type": "markdown",
   "metadata": {},
   "source": [
    "Refaire les analyses univariees sur le dataframe transactions / book\n",
    "Courbe de Gini sur CA par client\n",
    "Serie temporelle CA pour la serie temporelle / avec dimension categorie\n",
    "Analyse bivariee: comparer 2 var qualitative, chi2 / 2 var quantit avec coef correlation lin / 1 quali et 1 quanti Kruskal Wallis ==>"
   ]
  }
 ],
 "metadata": {
  "kernelspec": {
   "display_name": "Python 3",
   "language": "python",
   "name": "python3"
  },
  "language_info": {
   "codemirror_mode": {
    "name": "ipython",
    "version": 3
   },
   "file_extension": ".py",
   "mimetype": "text/x-python",
   "name": "python",
   "nbconvert_exporter": "python",
   "pygments_lexer": "ipython3",
   "version": "3.7.0"
  }
 },
 "nbformat": 4,
 "nbformat_minor": 2
}
